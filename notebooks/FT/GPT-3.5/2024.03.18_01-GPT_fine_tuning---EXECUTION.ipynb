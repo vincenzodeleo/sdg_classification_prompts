{
 "cells": [
  {
   "cell_type": "code",
   "execution_count": 1,
   "id": "5e2bca46",
   "metadata": {},
   "outputs": [
    {
     "name": "stdout",
     "output_type": "stream",
     "text": [
      "Found existing installation: openai 1.14.1\n",
      "Uninstalling openai-1.14.1:\n",
      "  Successfully uninstalled openai-1.14.1\n"
     ]
    }
   ],
   "source": [
    "!pip uninstall -y openai"
   ]
  },
  {
   "cell_type": "code",
   "execution_count": 2,
   "id": "a0e21f98",
   "metadata": {},
   "outputs": [],
   "source": [
    "!pip install -q openai --progress-bar off\n",
    "# !pip install openai==0.28 # questa versione mi serve per recuperare il file con le metriche di validazione"
   ]
  },
  {
   "cell_type": "code",
   "execution_count": 3,
   "id": "76df469a",
   "metadata": {},
   "outputs": [],
   "source": [
    "import openai\n",
    "from openai import OpenAI"
   ]
  },
  {
   "cell_type": "code",
   "execution_count": 4,
   "id": "acd4b733",
   "metadata": {},
   "outputs": [
    {
     "data": {
      "text/plain": [
       "'1.14.1'"
      ]
     },
     "execution_count": 4,
     "metadata": {},
     "output_type": "execute_result"
    }
   ],
   "source": [
    "openai.__version__"
   ]
  },
  {
   "cell_type": "code",
   "execution_count": 5,
   "id": "304a3b76",
   "metadata": {},
   "outputs": [],
   "source": [
    "import os\n",
    "from IPython.display import clear_output\n",
    "os.environ[\"OPENAI_API_KEY\"] = input(\"INSERT YOU OPENAI API KEY:\")\n",
    "clear_output()"
   ]
  },
  {
   "cell_type": "code",
   "execution_count": 6,
   "id": "8dfe26df",
   "metadata": {},
   "outputs": [],
   "source": [
    "client = OpenAI() # per importare questo forse bisogna usare la versione superiore alla 0.28"
   ]
  },
  {
   "cell_type": "code",
   "execution_count": null,
   "id": "5a9d8aa3",
   "metadata": {},
   "outputs": [],
   "source": [
    "train_file = client.files.create(\n",
    "  file=open(\"GPT_Fine_Tuning_SDG_TRAIN_data.jsonl\", \"rb\"),\n",
    "  purpose=\"fine-tune\"\n",
    ")\n",
    "\n",
    "val_file = client.files.create(\n",
    "  file=open(\"GPT_Fine_Tuning_SDG_VAL_data.jsonl\", \"rb\"),\n",
    "  purpose=\"fine-tune\"\n",
    ")"
   ]
  },
  {
   "cell_type": "code",
   "execution_count": null,
   "id": "f72d5cda",
   "metadata": {},
   "outputs": [],
   "source": [
    "# INIZIO FINE-TUNING: 2024.03.18 - 10:50"
   ]
  },
  {
   "cell_type": "code",
   "execution_count": 9,
   "id": "e7896c27",
   "metadata": {},
   "outputs": [
    {
     "data": {
      "text/plain": [
       "FineTuningJob(id='ftjob-BL6753gcajegyI9AWIH3WDjO', created_at=1710755414, error=Error(code=None, message=None, param=None, error=None), fine_tuned_model=None, finished_at=None, hyperparameters=Hyperparameters(n_epochs='auto', batch_size='auto', learning_rate_multiplier='auto'), model='gpt-3.5-turbo-0125', object='fine_tuning.job', organization_id='org-hEJHODxUncvu1wXjXkKBMFis', result_files=[], status='validating_files', trained_tokens=None, training_file='file-Iawt6qvKpCnM2h6JFq6HyOQG', validation_file='file-tIpalc2pU9hjXs7AN5U2zXr7', user_provided_suffix=None)"
      ]
     },
     "execution_count": 9,
     "metadata": {},
     "output_type": "execute_result"
    }
   ],
   "source": [
    "client.fine_tuning.jobs.create(\n",
    "  training_file=train_file.id,\n",
    "  validation_file=val_file.id,\n",
    "  model=\"gpt-3.5-turbo-0125\"\n",
    ")"
   ]
  },
  {
   "cell_type": "code",
   "execution_count": 10,
   "id": "bae6ffec",
   "metadata": {},
   "outputs": [
    {
     "data": {
      "text/plain": [
       "FineTuningJob(id='ftjob-BL6753gcajegyI9AWIH3WDjO', created_at=1710755414, error=Error(code=None, message=None, param=None, error=None), fine_tuned_model=None, finished_at=None, hyperparameters=Hyperparameters(n_epochs=3, batch_size=9, learning_rate_multiplier=2), model='gpt-3.5-turbo-0125', object='fine_tuning.job', organization_id='org-hEJHODxUncvu1wXjXkKBMFis', result_files=[], status='validating_files', trained_tokens=None, training_file='file-Iawt6qvKpCnM2h6JFq6HyOQG', validation_file='file-tIpalc2pU9hjXs7AN5U2zXr7', user_provided_suffix=None)"
      ]
     },
     "execution_count": 10,
     "metadata": {},
     "output_type": "execute_result"
    }
   ],
   "source": [
    "client.fine_tuning.jobs.retrieve(\"ftjob-BL6753gcajegyI9AWIH3WDjO\")"
   ]
  },
  {
   "cell_type": "code",
   "execution_count": 15,
   "id": "3183ab3e",
   "metadata": {},
   "outputs": [
    {
     "data": {
      "text/plain": [
       "FineTuningJob(id='ftjob-BL6753gcajegyI9AWIH3WDjO', created_at=1710755414, error=Error(code=None, message=None, param=None, error=None), fine_tuned_model=None, finished_at=None, hyperparameters=Hyperparameters(n_epochs=3, batch_size=9, learning_rate_multiplier=2), model='gpt-3.5-turbo-0125', object='fine_tuning.job', organization_id='org-hEJHODxUncvu1wXjXkKBMFis', result_files=[], status='running', trained_tokens=None, training_file='file-Iawt6qvKpCnM2h6JFq6HyOQG', validation_file='file-tIpalc2pU9hjXs7AN5U2zXr7', user_provided_suffix=None)"
      ]
     },
     "execution_count": 15,
     "metadata": {},
     "output_type": "execute_result"
    }
   ],
   "source": [
    "client.fine_tuning.jobs.retrieve(\"ftjob-BL6753gcajegyI9AWIH3WDjO\") # 2024.03.18 - 10:56"
   ]
  },
  {
   "cell_type": "code",
   "execution_count": 7,
   "id": "e7fb41d3",
   "metadata": {},
   "outputs": [
    {
     "data": {
      "text/plain": [
       "FineTuningJob(id='ftjob-BL6753gcajegyI9AWIH3WDjO', created_at=1710755414, error=Error(code=None, message=None, param=None, error=None), fine_tuned_model=None, finished_at=None, hyperparameters=Hyperparameters(n_epochs=3, batch_size=9, learning_rate_multiplier=2), model='gpt-3.5-turbo-0125', object='fine_tuning.job', organization_id='org-hEJHODxUncvu1wXjXkKBMFis', result_files=[], status='running', trained_tokens=None, training_file='file-Iawt6qvKpCnM2h6JFq6HyOQG', validation_file='file-tIpalc2pU9hjXs7AN5U2zXr7', user_provided_suffix=None)"
      ]
     },
     "execution_count": 7,
     "metadata": {},
     "output_type": "execute_result"
    }
   ],
   "source": [
    "client.fine_tuning.jobs.retrieve(\"ftjob-BL6753gcajegyI9AWIH3WDjO\") # 2024.03.18 - 12:08"
   ]
  },
  {
   "cell_type": "code",
   "execution_count": 9,
   "id": "b479d1e7",
   "metadata": {},
   "outputs": [
    {
     "data": {
      "text/plain": [
       "FineTuningJob(id='ftjob-BL6753gcajegyI9AWIH3WDjO', created_at=1710755414, error=Error(code=None, message=None, param=None, error=None), fine_tuned_model='ft:gpt-3.5-turbo-0125:personal::945FQ0l1', finished_at=1710760511, hyperparameters=Hyperparameters(n_epochs=3, batch_size=9, learning_rate_multiplier=2), model='gpt-3.5-turbo-0125', object='fine_tuning.job', organization_id='org-hEJHODxUncvu1wXjXkKBMFis', result_files=['file-wwB8KAyb7rG8a8UkNLWklMJv'], status='succeeded', trained_tokens=3554247, training_file='file-Iawt6qvKpCnM2h6JFq6HyOQG', validation_file='file-tIpalc2pU9hjXs7AN5U2zXr7', user_provided_suffix=None)"
      ]
     },
     "execution_count": 9,
     "metadata": {},
     "output_type": "execute_result"
    }
   ],
   "source": [
    "client.fine_tuning.jobs.retrieve(\"ftjob-BL6753gcajegyI9AWIH3WDjO\") # 2024.03.18 - 12:15"
   ]
  },
  {
   "cell_type": "code",
   "execution_count": 11,
   "id": "55d349dd",
   "metadata": {},
   "outputs": [],
   "source": [
    "# FINE FINE-TUNING: 2024.03.18 - 12:15"
   ]
  },
  {
   "cell_type": "code",
   "execution_count": null,
   "id": "d6aa4b8e",
   "metadata": {},
   "outputs": [],
   "source": [
    "# Ricevuta pagamento OpenAi - Fine-tuning models $28.43"
   ]
  }
 ],
 "metadata": {
  "kernelspec": {
   "display_name": "Python 3 (ipykernel)",
   "language": "python",
   "name": "python3"
  },
  "language_info": {
   "codemirror_mode": {
    "name": "ipython",
    "version": 3
   },
   "file_extension": ".py",
   "mimetype": "text/x-python",
   "name": "python",
   "nbconvert_exporter": "python",
   "pygments_lexer": "ipython3",
   "version": "3.10.8"
  }
 },
 "nbformat": 4,
 "nbformat_minor": 5
}
