{
 "cells": [
  {
   "cell_type": "code",
   "execution_count": null,
   "id": "0dbce1cd",
   "metadata": {
    "id": "0dbce1cd",
    "outputId": "4121b99a-ffda-4efa-a9f9-3988a5fe26bf"
   },
   "outputs": [
    {
     "name": "stdout",
     "output_type": "stream",
     "text": [
      "Found existing installation: openai 1.14.1\n",
      "Uninstalling openai-1.14.1:\n",
      "  Successfully uninstalled openai-1.14.1\n"
     ]
    }
   ],
   "source": [
    "!pip uninstall -y openai"
   ]
  },
  {
   "cell_type": "code",
   "execution_count": null,
   "id": "34f902d1",
   "metadata": {
    "id": "34f902d1"
   },
   "outputs": [],
   "source": [
    "# !pip install -q openai --progress-bar off\n",
    "!pip install -q openai==0.28 --progress-bar off # questa versione mi serve per recuperare il file con le metriche di validazione"
   ]
  },
  {
   "cell_type": "code",
   "execution_count": null,
   "id": "b0049357",
   "metadata": {
    "id": "b0049357"
   },
   "outputs": [],
   "source": [
    "import openai\n",
    "# from openai import OpenAI"
   ]
  },
  {
   "cell_type": "code",
   "execution_count": null,
   "id": "ce3f9704",
   "metadata": {
    "id": "ce3f9704",
    "outputId": "8b2c90d7-4759-4aa5-9d7a-0c6a42122cab"
   },
   "outputs": [
    {
     "data": {
      "text/plain": [
       "'0.28.0'"
      ]
     },
     "execution_count": 4,
     "metadata": {},
     "output_type": "execute_result"
    }
   ],
   "source": [
    "openai.__version__"
   ]
  },
  {
   "cell_type": "code",
   "execution_count": null,
   "id": "55ebccfa",
   "metadata": {
    "id": "55ebccfa",
    "outputId": "fd460369-4955-4e41-f6aa-2e4b46ee6f53"
   },
   "outputs": [],
   "source": [
    "openai.api_key = input(\"INSERT YOUR OPENAI API KEY:\")"
   ]
  },
  {
   "cell_type": "code",
   "execution_count": null,
   "id": "f5052bf9",
   "metadata": {
    "id": "f5052bf9",
    "outputId": "c71b09d5-9bfb-4d1f-df51-978ed06f4145"
   },
   "outputs": [
    {
     "name": "stdout",
     "output_type": "stream",
     "text": [
      "INSERT FILE NAME TO DOWNLOAD:file-wwB8KAyb7rG8a8UkNLWklMJv\n"
     ]
    }
   ],
   "source": [
    "FILENAME = input(\"INSERT FILE NAME TO DOWNLOAD:\")\n",
    "content = openai.File.download(FILENAME)"
   ]
  },
  {
   "cell_type": "code",
   "execution_count": null,
   "id": "2df5990e",
   "metadata": {
    "id": "2df5990e"
   },
   "outputs": [],
   "source": [
    "ans = content.decode()\n",
    "with open('gpt-3.5-turbo-0125.csv_FINE_TUNING_RESULT.csv', 'w') as f:\n",
    "    f.write(ans)"
   ]
  },
  {
   "cell_type": "code",
   "execution_count": null,
   "id": "d53051f4",
   "metadata": {
    "id": "d53051f4"
   },
   "outputs": [],
   "source": []
  }
 ],
 "metadata": {
  "colab": {
   "provenance": []
  },
  "kernelspec": {
   "display_name": "Python 3 (ipykernel)",
   "language": "python",
   "name": "python3"
  },
  "language_info": {
   "codemirror_mode": {
    "name": "ipython",
    "version": 3
   },
   "file_extension": ".py",
   "mimetype": "text/x-python",
   "name": "python",
   "nbconvert_exporter": "python",
   "pygments_lexer": "ipython3",
   "version": "3.10.8"
  }
 },
 "nbformat": 4,
 "nbformat_minor": 5
}
