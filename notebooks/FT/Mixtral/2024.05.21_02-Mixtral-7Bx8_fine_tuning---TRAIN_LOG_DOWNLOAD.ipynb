{
 "cells": [
  {
   "cell_type": "code",
   "execution_count": 1,
   "id": "5e4f4d60",
   "metadata": {},
   "outputs": [],
   "source": [
    "experiment_name = \"2024.05.21_01-Mixtral-7Bx8_fine_tuning---EVALUATION\""
   ]
  },
  {
   "cell_type": "code",
   "execution_count": 2,
   "id": "4f7d3fb3",
   "metadata": {},
   "outputs": [],
   "source": [
    "model_name = \"mistralai/Mixtral-8x7B-Instruct-v0.1:de:xD1fYCa\""
   ]
  },
  {
   "cell_type": "code",
   "execution_count": 3,
   "id": "3638c0c7",
   "metadata": {},
   "outputs": [],
   "source": [
    "!pip install -q openai --progress-bar off"
   ]
  },
  {
   "cell_type": "code",
   "execution_count": 4,
   "id": "c2b41b6c",
   "metadata": {
    "scrolled": true
   },
   "outputs": [],
   "source": [
    "!pip install -q langchain --progress-bar off"
   ]
  },
  {
   "cell_type": "code",
   "execution_count": 5,
   "id": "53670484",
   "metadata": {},
   "outputs": [],
   "source": [
    "import openai"
   ]
  },
  {
   "cell_type": "code",
   "execution_count": 6,
   "id": "312831ee",
   "metadata": {},
   "outputs": [],
   "source": [
    "import pandas as pd\n",
    "\n",
    "import datetime\n",
    "from langchain import PromptTemplate\n",
    "from langchain import LLMChain\n",
    "from langchain.chat_models import ChatOpenAI\n",
    "from langchain.text_splitter import CharacterTextSplitter\n",
    "from langchain.prompts import PromptTemplate\n",
    "\n",
    "import os\n",
    "import json\n",
    "import ast\n",
    "import re\n",
    "\n",
    "import pickle\n",
    "\n",
    "import glob\n",
    "\n",
    "from typing import Union\n",
    "from IPython.display import display, HTML\n",
    "\n",
    "from sklearn.metrics import classification_report"
   ]
  },
  {
   "cell_type": "code",
   "execution_count": 7,
   "id": "12b074d2",
   "metadata": {},
   "outputs": [],
   "source": [
    "import os\n",
    "from IPython.display import clear_output\n",
    "\n",
    "os.environ[\"OPENAI_API_BASE\"] = 'https://api.endpoints.anyscale.com/v1'\n",
    "os.environ[\"OPENAI_API_KEY\"] = input(\"INSERT YOUR ANYSCALE API KEY:\")\n",
    "\n",
    "clear_output()"
   ]
  },
  {
   "cell_type": "code",
   "execution_count": 8,
   "id": "4bf4bea3",
   "metadata": {},
   "outputs": [],
   "source": [
    "import os\n",
    "import requests\n",
    "\n",
    "s = requests.Session()\n",
    "\n",
    "api_base = os.getenv(\"OPENAI_API_BASE\")\n",
    "token = os.getenv(\"OPENAI_API_KEY\")\n",
    "url = f\"{api_base}/chat/completions\""
   ]
  },
  {
   "cell_type": "code",
   "execution_count": 9,
   "id": "9c16646c",
   "metadata": {},
   "outputs": [],
   "source": [
    "client = openai.OpenAI(\n",
    "    base_url = \"https://api.endpoints.anyscale.com/v1\",\n",
    "    api_key = os.environ[\"OPENAI_API_KEY\"])"
   ]
  },
  {
   "cell_type": "code",
   "execution_count": 10,
   "id": "33d44329",
   "metadata": {},
   "outputs": [],
   "source": [
    "finetuning_job_id = \"eftjob_wnz5rje79uc7579tcz9wy5z9sf\""
   ]
  },
  {
   "cell_type": "code",
   "execution_count": 11,
   "id": "dfe183dd",
   "metadata": {},
   "outputs": [],
   "source": [
    "status = client.fine_tuning.jobs.retrieve(finetuning_job_id)"
   ]
  },
  {
   "cell_type": "code",
   "execution_count": 12,
   "id": "a16ffcd9",
   "metadata": {},
   "outputs": [
    {
     "data": {
      "text/plain": [
       "FineTuningJob(id='eftjob_wnz5rje79uc7579tcz9wy5z9sf', created_at='2024-05-21T14:54:29.138443+00:00', error=None, fine_tuned_model='mistralai/Mixtral-8x7B-Instruct-v0.1:de:xD1fYCa', finished_at='2024-05-21T15:21:19.020975+00:00', hyperparameters=Hyperparameters(n_epochs=None, context_length=None), model='mistralai/Mixtral-8x7B-Instruct-v0.1', object=None, organization_id=None, result_files=['file_bpr2yslxcsu11hkabctubtxqpi'], seed=None, status='succeeded', trained_tokens=5684487, training_file='file_fgj1g2xjaeh4vvzeeafjbu1v9c', validation_file='file_7ia5ilvwbx6rczi8b7e3xwluzx', estimated_finish=None, integrations=None, creator_id='usr_ff6g3tcylk3suc2ft12w3vw6hs')"
      ]
     },
     "execution_count": 12,
     "metadata": {},
     "output_type": "execute_result"
    }
   ],
   "source": [
    "status"
   ]
  },
  {
   "cell_type": "code",
   "execution_count": 13,
   "id": "91f87f0e",
   "metadata": {},
   "outputs": [
    {
     "name": "stderr",
     "output_type": "stream",
     "text": [
      "/tmp/ipykernel_1367/2571224947.py:2: DeprecationWarning: The `.content()` method should be used instead\n",
      "  content = client.files.retrieve_content(file_id)\n"
     ]
    }
   ],
   "source": [
    "file_id = status.result_files[0]\n",
    "content = client.files.retrieve_content(file_id)"
   ]
  },
  {
   "cell_type": "code",
   "execution_count": 14,
   "id": "a0b84e95",
   "metadata": {},
   "outputs": [
    {
     "data": {
      "text/plain": [
       "'{\"epoch\": 0, \"iteration\": 1, \"train_loss\": 3.5530033111572266, \"trained_tokens\": 53648, \"valid_loss\": null, \"perplexity\": null, \"time_since_job_start\": 587.6400091648102}\\n{\"epoch\": 0, \"iteration\": 2, \"train_loss\": 3.5430245399475098, \"trained_tokens\": 105984, \"valid_loss\": null, \"perplexity\": null, \"time_since_job_start\": 601.4087018966675}\\n{\"epoch\": 0, \"iteration\": 3, \"train_loss\": 3.5504682064056396, \"trained_tokens\": 155984, \"valid_loss\": null, \"perplexity\": null, \"time_since_job_start\": 606.3925955295563}\\n{\"epoch\": 0, \"iteration\": 4, \"train_loss\": 3.529582977294922, \"trained_tokens\": 209072, \"valid_loss\": null, \"perplexity\": null, \"time_since_job_start\": 611.3620917797089}\\n{\"epoch\": 0, \"iteration\": 5, \"train_loss\": 3.441777467727661, \"trained_tokens\": 260080, \"valid_loss\": null, \"perplexity\": null, \"time_since_job_start\": 616.3109335899353}\\n{\"epoch\": 0, \"iteration\": 6, \"train_loss\": 3.3035945892333984, \"trained_tokens\": 311184, \"valid_loss\": null, \"perplexity\": null, \"time_since_job_start\": 621.2288930416107}\\n{\"epoch\": 0, \"iteration\": 7, \"train_loss\": 3.121394634246826, \"trained_tokens\": 360496, \"valid_loss\": null, \"perplexity\": null, \"time_since_job_start\": 625.9542834758759}\\n{\"epoch\": 0, \"iteration\": 8, \"train_loss\": 2.8897533416748047, \"trained_tokens\": 410640, \"valid_loss\": null, \"perplexity\": null, \"time_since_job_start\": 631.0932350158691}\\n{\"epoch\": 0, \"iteration\": 9, \"train_loss\": 2.702378273010254, \"trained_tokens\": 462352, \"valid_loss\": null, \"perplexity\": null, \"time_since_job_start\": 635.8044993877411}\\n{\"epoch\": 0, \"iteration\": 10, \"train_loss\": 2.556121349334717, \"trained_tokens\": 511216, \"valid_loss\": null, \"perplexity\": null, \"time_since_job_start\": 640.3531692028046}\\n{\"epoch\": 0, \"iteration\": 11, \"train_loss\": 2.404360294342041, \"trained_tokens\": 561728, \"valid_loss\": null, \"perplexity\": null, \"time_since_job_start\": 644.974020242691}\\n{\"epoch\": 0, \"iteration\": 12, \"train_loss\": 2.2787065505981445, \"trained_tokens\": 613040, \"valid_loss\": null, \"perplexity\": null, \"time_since_job_start\": 649.981121301651}\\n{\"epoch\": 0, \"iteration\": 13, \"train_loss\": 2.162569046020508, \"trained_tokens\": 662096, \"valid_loss\": null, \"perplexity\": null, \"time_since_job_start\": 654.8780553340912}\\n{\"epoch\": 0, \"iteration\": 14, \"train_loss\": 2.0932836532592773, \"trained_tokens\": 713360, \"valid_loss\": null, \"perplexity\": null, \"time_since_job_start\": 659.9256429672241}\\n{\"epoch\": 0, \"iteration\": 15, \"train_loss\": 2.017784595489502, \"trained_tokens\": 762800, \"valid_loss\": null, \"perplexity\": null, \"time_since_job_start\": 664.6030411720276}\\n{\"epoch\": 0, \"iteration\": 16, \"train_loss\": 1.9587457180023193, \"trained_tokens\": 812912, \"valid_loss\": null, \"perplexity\": null, \"time_since_job_start\": 669.2487738132477}\\n{\"epoch\": 0, \"iteration\": 17, \"train_loss\": 1.8220943212509155, \"trained_tokens\": 864288, \"valid_loss\": null, \"perplexity\": null, \"time_since_job_start\": 674.0737535953522}\\n{\"epoch\": 0, \"iteration\": 18, \"train_loss\": 1.7304179668426514, \"trained_tokens\": 915776, \"valid_loss\": null, \"perplexity\": null, \"time_since_job_start\": 678.8308486938477}\\n{\"epoch\": 0, \"iteration\": 19, \"train_loss\": 1.6936686038970947, \"trained_tokens\": 967264, \"valid_loss\": null, \"perplexity\": null, \"time_since_job_start\": 683.5579741001129}\\n{\"epoch\": 0, \"iteration\": 20, \"train_loss\": 1.601239562034607, \"trained_tokens\": 1019504, \"valid_loss\": null, \"perplexity\": null, \"time_since_job_start\": 688.3856267929077}\\n{\"epoch\": 0, \"iteration\": 21, \"train_loss\": 1.5214574337005615, \"trained_tokens\": 1073584, \"valid_loss\": null, \"perplexity\": null, \"time_since_job_start\": 693.5669965744019}\\n{\"epoch\": 0, \"iteration\": 22, \"train_loss\": 1.3818984031677246, \"trained_tokens\": 1123360, \"valid_loss\": null, \"perplexity\": null, \"time_since_job_start\": 698.2691025733948}\\n{\"epoch\": 0, \"iteration\": 23, \"train_loss\": 1.3056358098983765, \"trained_tokens\": 1175472, \"valid_loss\": null, \"perplexity\": null, \"time_since_job_start\": 703.5758674144745}\\n{\"epoch\": 0, \"iteration\": 24, \"train_loss\": 1.2163071632385254, \"trained_tokens\": 1226496, \"valid_loss\": null, \"perplexity\": null, \"time_since_job_start\": 708.4462242126465}\\n{\"epoch\": 0, \"iteration\": 25, \"train_loss\": 1.1664419174194336, \"trained_tokens\": 1277552, \"valid_loss\": null, \"perplexity\": null, \"time_since_job_start\": 713.3347754478455}\\n{\"epoch\": 0, \"iteration\": 26, \"train_loss\": 1.1235262155532837, \"trained_tokens\": 1328448, \"valid_loss\": null, \"perplexity\": null, \"time_since_job_start\": 718.144725561142}\\n{\"epoch\": 0, \"iteration\": 27, \"train_loss\": 1.1006330251693726, \"trained_tokens\": 1380768, \"valid_loss\": null, \"perplexity\": null, \"time_since_job_start\": 723.4670243263245}\\n{\"epoch\": 0, \"iteration\": 28, \"train_loss\": 1.0860015153884888, \"trained_tokens\": 1432960, \"valid_loss\": null, \"perplexity\": null, \"time_since_job_start\": 728.2437198162079}\\n{\"epoch\": 0, \"iteration\": 29, \"train_loss\": 1.0787522792816162, \"trained_tokens\": 1481424, \"valid_loss\": null, \"perplexity\": null, \"time_since_job_start\": 732.8400847911835}\\n{\"epoch\": 0, \"iteration\": 30, \"train_loss\": 1.048549771308899, \"trained_tokens\": 1530048, \"valid_loss\": null, \"perplexity\": null, \"time_since_job_start\": 737.5591177940369}\\n{\"epoch\": 0, \"iteration\": 31, \"train_loss\": 1.052717685699463, \"trained_tokens\": 1581520, \"valid_loss\": null, \"perplexity\": null, \"time_since_job_start\": 742.3805990219116}\\n{\"epoch\": 0, \"iteration\": 32, \"train_loss\": 1.0636301040649414, \"trained_tokens\": 1632928, \"valid_loss\": null, \"perplexity\": null, \"time_since_job_start\": 747.2782940864563}\\n{\"epoch\": 0, \"iteration\": 33, \"train_loss\": 1.0259184837341309, \"trained_tokens\": 1683280, \"valid_loss\": null, \"perplexity\": null, \"time_since_job_start\": 751.9839107990265}\\n{\"epoch\": 0, \"iteration\": 34, \"train_loss\": 1.0437735319137573, \"trained_tokens\": 1735808, \"valid_loss\": null, \"perplexity\": null, \"time_since_job_start\": 756.954327583313}\\n{\"epoch\": 0, \"iteration\": 35, \"train_loss\": 1.0213552713394165, \"trained_tokens\": 1784784, \"valid_loss\": null, \"perplexity\": null, \"time_since_job_start\": 761.7230751514435}\\n{\"epoch\": 0, \"iteration\": 36, \"train_loss\": 1.0470677614212036, \"trained_tokens\": 1837120, \"valid_loss\": null, \"perplexity\": null, \"time_since_job_start\": 766.6992070674896}\\n{\"epoch\": 0, \"iteration\": 37, \"train_loss\": 0.9986194372177124, \"trained_tokens\": 1886384, \"valid_loss\": null, \"perplexity\": null, \"time_since_job_start\": 771.361218214035}\\n{\"epoch\": 0, \"iteration\": 38, \"train_loss\": 0.9904183149337769, \"trained_tokens\": 1894829, \"valid_loss\": 1.098449945449829, \"perplexity\": 2.999513009876, \"time_since_job_start\": 849.0196068286896}\\n{\"epoch\": 1, \"iteration\": 39, \"train_loss\": 1.0155290365219116, \"trained_tokens\": 1948477, \"valid_loss\": null, \"perplexity\": null, \"time_since_job_start\": 861.6325261592865}\\n{\"epoch\": 1, \"iteration\": 40, \"train_loss\": 1.0292925834655762, \"trained_tokens\": 2000813, \"valid_loss\": null, \"perplexity\": null, \"time_since_job_start\": 866.4806265830994}\\n{\"epoch\": 1, \"iteration\": 41, \"train_loss\": 0.9855682253837585, \"trained_tokens\": 2050813, \"valid_loss\": null, \"perplexity\": null, \"time_since_job_start\": 871.4595053195953}\\n{\"epoch\": 1, \"iteration\": 42, \"train_loss\": 0.9946849942207336, \"trained_tokens\": 2103901, \"valid_loss\": null, \"perplexity\": null, \"time_since_job_start\": 876.4219951629639}\\n{\"epoch\": 1, \"iteration\": 43, \"train_loss\": 0.9992101788520813, \"trained_tokens\": 2154909, \"valid_loss\": null, \"perplexity\": null, \"time_since_job_start\": 881.3774228096008}\\n{\"epoch\": 1, \"iteration\": 44, \"train_loss\": 1.0158320665359497, \"trained_tokens\": 2206013, \"valid_loss\": null, \"perplexity\": null, \"time_since_job_start\": 886.2972137928009}\\n{\"epoch\": 1, \"iteration\": 45, \"train_loss\": 0.9668452739715576, \"trained_tokens\": 2255325, \"valid_loss\": null, \"perplexity\": null, \"time_since_job_start\": 891.0306420326233}\\n{\"epoch\": 1, \"iteration\": 46, \"train_loss\": 0.9813187122344971, \"trained_tokens\": 2305469, \"valid_loss\": null, \"perplexity\": null, \"time_since_job_start\": 896.1756691932678}\\n{\"epoch\": 1, \"iteration\": 47, \"train_loss\": 0.9907238483428955, \"trained_tokens\": 2357181, \"valid_loss\": null, \"perplexity\": null, \"time_since_job_start\": 900.907146692276}\\n{\"epoch\": 1, \"iteration\": 48, \"train_loss\": 0.9748145341873169, \"trained_tokens\": 2406045, \"valid_loss\": null, \"perplexity\": null, \"time_since_job_start\": 905.4766478538513}\\n{\"epoch\": 1, \"iteration\": 49, \"train_loss\": 0.9900925755500793, \"trained_tokens\": 2456557, \"valid_loss\": null, \"perplexity\": null, \"time_since_job_start\": 910.1067707538605}\\n{\"epoch\": 1, \"iteration\": 50, \"train_loss\": 0.9870842695236206, \"trained_tokens\": 2507869, \"valid_loss\": null, \"perplexity\": null, \"time_since_job_start\": 915.1117987632751}\\n{\"epoch\": 1, \"iteration\": 51, \"train_loss\": 0.9563497304916382, \"trained_tokens\": 2556925, \"valid_loss\": null, \"perplexity\": null, \"time_since_job_start\": 920.0190081596375}\\n{\"epoch\": 1, \"iteration\": 52, \"train_loss\": 0.9653393030166626, \"trained_tokens\": 2608189, \"valid_loss\": null, \"perplexity\": null, \"time_since_job_start\": 925.0840919017792}\\n{\"epoch\": 1, \"iteration\": 53, \"train_loss\": 0.9887843728065491, \"trained_tokens\": 2657629, \"valid_loss\": null, \"perplexity\": null, \"time_since_job_start\": 929.7551598548889}\\n{\"epoch\": 1, \"iteration\": 54, \"train_loss\": 1.0201845169067383, \"trained_tokens\": 2707741, \"valid_loss\": null, \"perplexity\": null, \"time_since_job_start\": 934.425110578537}\\n{\"epoch\": 1, \"iteration\": 55, \"train_loss\": 0.9827896952629089, \"trained_tokens\": 2759117, \"valid_loss\": null, \"perplexity\": null, \"time_since_job_start\": 939.2726240158081}\\n{\"epoch\": 1, \"iteration\": 56, \"train_loss\": 0.9655921459197998, \"trained_tokens\": 2810605, \"valid_loss\": null, \"perplexity\": null, \"time_since_job_start\": 944.0342710018158}\\n{\"epoch\": 1, \"iteration\": 57, \"train_loss\": 1.0059401988983154, \"trained_tokens\": 2862093, \"valid_loss\": null, \"perplexity\": null, \"time_since_job_start\": 948.7847166061401}\\n{\"epoch\": 1, \"iteration\": 58, \"train_loss\": 0.9992732405662537, \"trained_tokens\": 2914333, \"valid_loss\": null, \"perplexity\": null, \"time_since_job_start\": 953.6381618976593}\\n{\"epoch\": 1, \"iteration\": 59, \"train_loss\": 1.016080379486084, \"trained_tokens\": 2968413, \"valid_loss\": null, \"perplexity\": null, \"time_since_job_start\": 958.8155698776245}\\n{\"epoch\": 1, \"iteration\": 60, \"train_loss\": 0.9716933965682983, \"trained_tokens\": 3018189, \"valid_loss\": null, \"perplexity\": null, \"time_since_job_start\": 963.5205111503601}\\n{\"epoch\": 1, \"iteration\": 61, \"train_loss\": 1.005354881286621, \"trained_tokens\": 3070301, \"valid_loss\": null, \"perplexity\": null, \"time_since_job_start\": 968.8470561504364}\\n{\"epoch\": 1, \"iteration\": 62, \"train_loss\": 0.9834097027778625, \"trained_tokens\": 3121325, \"valid_loss\": null, \"perplexity\": null, \"time_since_job_start\": 973.7433114051819}\\n{\"epoch\": 1, \"iteration\": 63, \"train_loss\": 1.0041905641555786, \"trained_tokens\": 3172381, \"valid_loss\": null, \"perplexity\": null, \"time_since_job_start\": 978.6518235206604}\\n{\"epoch\": 1, \"iteration\": 64, \"train_loss\": 0.9752449989318848, \"trained_tokens\": 3223277, \"valid_loss\": null, \"perplexity\": null, \"time_since_job_start\": 983.4516215324402}\\n{\"epoch\": 1, \"iteration\": 65, \"train_loss\": 0.9721808433532715, \"trained_tokens\": 3275597, \"valid_loss\": null, \"perplexity\": null, \"time_since_job_start\": 989.1487765312195}\\n{\"epoch\": 1, \"iteration\": 66, \"train_loss\": 0.9705373644828796, \"trained_tokens\": 3327789, \"valid_loss\": null, \"perplexity\": null, \"time_since_job_start\": 993.9258759021759}\\n{\"epoch\": 1, \"iteration\": 67, \"train_loss\": 0.975335955619812, \"trained_tokens\": 3376253, \"valid_loss\": null, \"perplexity\": null, \"time_since_job_start\": 998.5326540470123}\\n{\"epoch\": 1, \"iteration\": 68, \"train_loss\": 0.9641885757446289, \"trained_tokens\": 3424877, \"valid_loss\": null, \"perplexity\": null, \"time_since_job_start\": 1003.2546591758728}\\n{\"epoch\": 1, \"iteration\": 69, \"train_loss\": 0.9788600206375122, \"trained_tokens\": 3476349, \"valid_loss\": null, \"perplexity\": null, \"time_since_job_start\": 1008.0577387809753}\\n{\"epoch\": 1, \"iteration\": 70, \"train_loss\": 0.994864284992218, \"trained_tokens\": 3527757, \"valid_loss\": null, \"perplexity\": null, \"time_since_job_start\": 1012.9443769454956}\\n{\"epoch\": 1, \"iteration\": 71, \"train_loss\": 0.9616478085517883, \"trained_tokens\": 3578109, \"valid_loss\": null, \"perplexity\": null, \"time_since_job_start\": 1017.66739153862}\\n{\"epoch\": 1, \"iteration\": 72, \"train_loss\": 0.9877845048904419, \"trained_tokens\": 3630637, \"valid_loss\": null, \"perplexity\": null, \"time_since_job_start\": 1022.6453022956848}\\n{\"epoch\": 1, \"iteration\": 73, \"train_loss\": 0.9685547351837158, \"trained_tokens\": 3679613, \"valid_loss\": null, \"perplexity\": null, \"time_since_job_start\": 1027.4221863746643}\\n{\"epoch\": 1, \"iteration\": 74, \"train_loss\": 0.9965811967849731, \"trained_tokens\": 3731949, \"valid_loss\": null, \"perplexity\": null, \"time_since_job_start\": 1032.41717171669}\\n{\"epoch\": 1, \"iteration\": 75, \"train_loss\": 0.9537142515182495, \"trained_tokens\": 3781213, \"valid_loss\": null, \"perplexity\": null, \"time_since_job_start\": 1037.0820047855377}\\n{\"epoch\": 1, \"iteration\": 76, \"train_loss\": 0.9334795475006104, \"trained_tokens\": 3789658, \"valid_loss\": 1.0789854526519775, \"perplexity\": 2.941693549212471, \"time_since_job_start\": 1107.6961855888367}\\n{\"epoch\": 2, \"iteration\": 77, \"train_loss\": 0.9651445746421814, \"trained_tokens\": 3843306, \"valid_loss\": null, \"perplexity\": null, \"time_since_job_start\": 1122.824979543686}\\n{\"epoch\": 2, \"iteration\": 78, \"train_loss\": 0.983924150466919, \"trained_tokens\": 3895642, \"valid_loss\": null, \"perplexity\": null, \"time_since_job_start\": 1127.6872112751007}\\n{\"epoch\": 2, \"iteration\": 79, \"train_loss\": 0.9428405165672302, \"trained_tokens\": 3945642, \"valid_loss\": null, \"perplexity\": null, \"time_since_job_start\": 1132.6760320663452}\\n{\"epoch\": 2, \"iteration\": 80, \"train_loss\": 0.9534404277801514, \"trained_tokens\": 3998730, \"valid_loss\": null, \"perplexity\": null, \"time_since_job_start\": 1137.6354341506958}\\n{\"epoch\": 2, \"iteration\": 81, \"train_loss\": 0.9588330984115601, \"trained_tokens\": 4049738, \"valid_loss\": null, \"perplexity\": null, \"time_since_job_start\": 1142.5885677337646}\\n{\"epoch\": 2, \"iteration\": 82, \"train_loss\": 0.9788824915885925, \"trained_tokens\": 4100842, \"valid_loss\": null, \"perplexity\": null, \"time_since_job_start\": 1147.4972529411316}\\n{\"epoch\": 2, \"iteration\": 83, \"train_loss\": 0.929979681968689, \"trained_tokens\": 4150154, \"valid_loss\": null, \"perplexity\": null, \"time_since_job_start\": 1152.2396004199982}\\n{\"epoch\": 2, \"iteration\": 84, \"train_loss\": 0.946272611618042, \"trained_tokens\": 4200298, \"valid_loss\": null, \"perplexity\": null, \"time_since_job_start\": 1157.384242773056}\\n{\"epoch\": 2, \"iteration\": 85, \"train_loss\": 0.9557116627693176, \"trained_tokens\": 4252010, \"valid_loss\": null, \"perplexity\": null, \"time_since_job_start\": 1162.1074945926666}\\n{\"epoch\": 2, \"iteration\": 86, \"train_loss\": 0.9405609369277954, \"trained_tokens\": 4300874, \"valid_loss\": null, \"perplexity\": null, \"time_since_job_start\": 1166.6941380500793}\\n{\"epoch\": 2, \"iteration\": 87, \"train_loss\": 0.9550478458404541, \"trained_tokens\": 4351386, \"valid_loss\": null, \"perplexity\": null, \"time_since_job_start\": 1171.3171269893646}\\n{\"epoch\": 2, \"iteration\": 88, \"train_loss\": 0.9558207988739014, \"trained_tokens\": 4402698, \"valid_loss\": null, \"perplexity\": null, \"time_since_job_start\": 1176.312236070633}\\n{\"epoch\": 2, \"iteration\": 89, \"train_loss\": 0.9277380108833313, \"trained_tokens\": 4451754, \"valid_loss\": null, \"perplexity\": null, \"time_since_job_start\": 1181.1992101669312}\\n{\"epoch\": 2, \"iteration\": 90, \"train_loss\": 0.9361592531204224, \"trained_tokens\": 4503018, \"valid_loss\": null, \"perplexity\": null, \"time_since_job_start\": 1186.2464311122894}\\n{\"epoch\": 2, \"iteration\": 91, \"train_loss\": 0.9611771106719971, \"trained_tokens\": 4552458, \"valid_loss\": null, \"perplexity\": null, \"time_since_job_start\": 1190.9144911766052}\\n{\"epoch\": 2, \"iteration\": 92, \"train_loss\": 0.9935945272445679, \"trained_tokens\": 4602570, \"valid_loss\": null, \"perplexity\": null, \"time_since_job_start\": 1195.5829212665558}\\n{\"epoch\": 2, \"iteration\": 93, \"train_loss\": 0.9599688649177551, \"trained_tokens\": 4653946, \"valid_loss\": null, \"perplexity\": null, \"time_since_job_start\": 1200.4209592342377}\\n{\"epoch\": 2, \"iteration\": 94, \"train_loss\": 0.9425322413444519, \"trained_tokens\": 4705434, \"valid_loss\": null, \"perplexity\": null, \"time_since_job_start\": 1205.17737865448}\\n{\"epoch\": 2, \"iteration\": 95, \"train_loss\": 0.9842044115066528, \"trained_tokens\": 4756922, \"valid_loss\": null, \"perplexity\": null, \"time_since_job_start\": 1209.9276704788208}\\n{\"epoch\": 2, \"iteration\": 96, \"train_loss\": 0.9773179292678833, \"trained_tokens\": 4809162, \"valid_loss\": null, \"perplexity\": null, \"time_since_job_start\": 1214.77028298378}\\n{\"epoch\": 2, \"iteration\": 97, \"train_loss\": 0.9963241815567017, \"trained_tokens\": 4863242, \"valid_loss\": null, \"perplexity\": null, \"time_since_job_start\": 1219.9417724609375}\\n{\"epoch\": 2, \"iteration\": 98, \"train_loss\": 0.9532171487808228, \"trained_tokens\": 4913018, \"valid_loss\": null, \"perplexity\": null, \"time_since_job_start\": 1224.6398906707764}\\n{\"epoch\": 2, \"iteration\": 99, \"train_loss\": 0.9872136116027832, \"trained_tokens\": 4965130, \"valid_loss\": null, \"perplexity\": null, \"time_since_job_start\": 1229.9646792411804}\\n{\"epoch\": 2, \"iteration\": 100, \"train_loss\": 0.9654983282089233, \"trained_tokens\": 5016154, \"valid_loss\": null, \"perplexity\": null, \"time_since_job_start\": 1234.8529107570648}\\n{\"epoch\": 2, \"iteration\": 101, \"train_loss\": 0.9870023131370544, \"trained_tokens\": 5067210, \"valid_loss\": null, \"perplexity\": null, \"time_since_job_start\": 1239.7536845207214}\\n{\"epoch\": 2, \"iteration\": 102, \"train_loss\": 0.9600268006324768, \"trained_tokens\": 5118106, \"valid_loss\": null, \"perplexity\": null, \"time_since_job_start\": 1244.5565950870514}\\n{\"epoch\": 2, \"iteration\": 103, \"train_loss\": 0.9566144943237305, \"trained_tokens\": 5170426, \"valid_loss\": null, \"perplexity\": null, \"time_since_job_start\": 1249.8764462471008}\\n{\"epoch\": 2, \"iteration\": 104, \"train_loss\": 0.9552907943725586, \"trained_tokens\": 5222618, \"valid_loss\": null, \"perplexity\": null, \"time_since_job_start\": 1254.6436123847961}\\n{\"epoch\": 2, \"iteration\": 105, \"train_loss\": 0.9614585638046265, \"trained_tokens\": 5271082, \"valid_loss\": null, \"perplexity\": null, \"time_since_job_start\": 1259.2404975891113}\\n{\"epoch\": 2, \"iteration\": 106, \"train_loss\": 0.9505268335342407, \"trained_tokens\": 5319706, \"valid_loss\": null, \"perplexity\": null, \"time_since_job_start\": 1263.9594311714172}\\n{\"epoch\": 2, \"iteration\": 107, \"train_loss\": 0.9669012427330017, \"trained_tokens\": 5371178, \"valid_loss\": null, \"perplexity\": null, \"time_since_job_start\": 1268.7583587169647}\\n{\"epoch\": 2, \"iteration\": 108, \"train_loss\": 0.9842183589935303, \"trained_tokens\": 5422586, \"valid_loss\": null, \"perplexity\": null, \"time_since_job_start\": 1273.6263899803162}\\n{\"epoch\": 2, \"iteration\": 109, \"train_loss\": 0.9513463377952576, \"trained_tokens\": 5472938, \"valid_loss\": null, \"perplexity\": null, \"time_since_job_start\": 1278.3263437747955}\\n{\"epoch\": 2, \"iteration\": 110, \"train_loss\": 0.9772584438323975, \"trained_tokens\": 5525466, \"valid_loss\": null, \"perplexity\": null, \"time_since_job_start\": 1283.2960817813873}\\n{\"epoch\": 2, \"iteration\": 111, \"train_loss\": 0.9588518142700195, \"trained_tokens\": 5574442, \"valid_loss\": null, \"perplexity\": null, \"time_since_job_start\": 1288.0673208236694}\\n{\"epoch\": 2, \"iteration\": 112, \"train_loss\": 0.9870907068252563, \"trained_tokens\": 5626778, \"valid_loss\": null, \"perplexity\": null, \"time_since_job_start\": 1293.044225692749}\\n{\"epoch\": 2, \"iteration\": 113, \"train_loss\": 0.9448416233062744, \"trained_tokens\": 5676042, \"valid_loss\": null, \"perplexity\": null, \"time_since_job_start\": 1297.6992576122284}\\n{\"epoch\": 2, \"iteration\": 114, \"train_loss\": 0.9201409816741943, \"trained_tokens\": 5684487, \"valid_loss\": 1.0694830417633057, \"perplexity\": 2.9138727600257637, \"time_since_job_start\": 1358.6798856258392}\\n'"
      ]
     },
     "execution_count": 14,
     "metadata": {},
     "output_type": "execute_result"
    }
   ],
   "source": [
    "content"
   ]
  },
  {
   "cell_type": "code",
   "execution_count": null,
   "id": "9d29fc3b",
   "metadata": {},
   "outputs": [],
   "source": []
  }
 ],
 "metadata": {
  "kernelspec": {
   "display_name": "Python 3 (ipykernel)",
   "language": "python",
   "name": "python3"
  },
  "language_info": {
   "codemirror_mode": {
    "name": "ipython",
    "version": 3
   },
   "file_extension": ".py",
   "mimetype": "text/x-python",
   "name": "python",
   "nbconvert_exporter": "python",
   "pygments_lexer": "ipython3",
   "version": "3.10.8"
  }
 },
 "nbformat": 4,
 "nbformat_minor": 5
}
