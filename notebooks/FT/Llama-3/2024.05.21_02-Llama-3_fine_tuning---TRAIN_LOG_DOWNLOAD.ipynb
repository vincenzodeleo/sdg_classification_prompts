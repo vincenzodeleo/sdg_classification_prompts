{
 "cells": [
  {
   "cell_type": "code",
   "execution_count": 1,
   "id": "5e4f4d60",
   "metadata": {},
   "outputs": [],
   "source": [
    "experiment_name = \"2024.05.21_01-Llama-3_fine_tuning---EVALUATION\""
   ]
  },
  {
   "cell_type": "code",
   "execution_count": 2,
   "id": "4f7d3fb3",
   "metadata": {},
   "outputs": [],
   "source": [
    "model_name = \"meta-llama/Meta-Llama-3-8B-Instruct:de:WfRsH4J\""
   ]
  },
  {
   "cell_type": "code",
   "execution_count": 3,
   "id": "3638c0c7",
   "metadata": {},
   "outputs": [],
   "source": [
    "!pip install -q openai --progress-bar off"
   ]
  },
  {
   "cell_type": "code",
   "execution_count": 4,
   "id": "c2b41b6c",
   "metadata": {
    "scrolled": true
   },
   "outputs": [],
   "source": [
    "!pip install -q langchain --progress-bar off"
   ]
  },
  {
   "cell_type": "code",
   "execution_count": 11,
   "id": "53670484",
   "metadata": {},
   "outputs": [],
   "source": [
    "import openai"
   ]
  },
  {
   "cell_type": "code",
   "execution_count": 5,
   "id": "312831ee",
   "metadata": {},
   "outputs": [],
   "source": [
    "import pandas as pd\n",
    "\n",
    "import datetime\n",
    "from langchain import PromptTemplate\n",
    "from langchain import LLMChain\n",
    "from langchain.chat_models import ChatOpenAI\n",
    "from langchain.text_splitter import CharacterTextSplitter\n",
    "from langchain.prompts import PromptTemplate\n",
    "\n",
    "import os\n",
    "import json\n",
    "import ast\n",
    "import re\n",
    "\n",
    "import pickle\n",
    "\n",
    "import glob\n",
    "\n",
    "from typing import Union\n",
    "from IPython.display import display, HTML\n",
    "\n",
    "from sklearn.metrics import classification_report"
   ]
  },
  {
   "cell_type": "code",
   "execution_count": 6,
   "id": "12b074d2",
   "metadata": {},
   "outputs": [],
   "source": [
    "import os\n",
    "from IPython.display import clear_output\n",
    "\n",
    "os.environ[\"OPENAI_API_BASE\"] = 'https://api.endpoints.anyscale.com/v1'\n",
    "os.environ[\"OPENAI_API_KEY\"] = input(\"INSERT YOUR ANYSCALE API KEY:\")\n",
    "\n",
    "clear_output()"
   ]
  },
  {
   "cell_type": "code",
   "execution_count": 7,
   "id": "4bf4bea3",
   "metadata": {},
   "outputs": [],
   "source": [
    "import os\n",
    "import requests\n",
    "\n",
    "s = requests.Session()\n",
    "\n",
    "api_base = os.getenv(\"OPENAI_API_BASE\")\n",
    "token = os.getenv(\"OPENAI_API_KEY\")\n",
    "url = f\"{api_base}/chat/completions\""
   ]
  },
  {
   "cell_type": "code",
   "execution_count": 12,
   "id": "9c16646c",
   "metadata": {},
   "outputs": [],
   "source": [
    "client = openai.OpenAI(\n",
    "    base_url = \"https://api.endpoints.anyscale.com/v1\",\n",
    "    api_key = os.environ[\"OPENAI_API_KEY\"])"
   ]
  },
  {
   "cell_type": "code",
   "execution_count": 13,
   "id": "33d44329",
   "metadata": {},
   "outputs": [],
   "source": [
    "finetuning_job_id = \"eftjob_qw2ksm3qp955yi4f15zqku9irz\""
   ]
  },
  {
   "cell_type": "code",
   "execution_count": 14,
   "id": "dfe183dd",
   "metadata": {},
   "outputs": [],
   "source": [
    "status = client.fine_tuning.jobs.retrieve(finetuning_job_id)"
   ]
  },
  {
   "cell_type": "code",
   "execution_count": 17,
   "id": "a16ffcd9",
   "metadata": {},
   "outputs": [
    {
     "data": {
      "text/plain": [
       "FineTuningJob(id='eftjob_qw2ksm3qp955yi4f15zqku9irz', created_at='2024-05-18T17:05:08.952650+00:00', error=None, fine_tuned_model='meta-llama/Meta-Llama-3-8B-Instruct:de:WfRsH4J', finished_at='2024-05-18T17:20:59.752729+00:00', hyperparameters=Hyperparameters(n_epochs=None, context_length=None), model='meta-llama/Meta-Llama-3-8B-Instruct', object=None, organization_id=None, result_files=['file_vgfnc31k7gvhw2aijumkj3ehfi'], seed=None, status='succeeded', trained_tokens=9043977, training_file='file_4s62zkzctgk5rr93f44w534gat', validation_file='file_farztyvwzdr1v7jdmghd5b8wtt', estimated_finish=None, integrations=None, creator_id='usr_ff6g3tcylk3suc2ft12w3vw6hs')"
      ]
     },
     "execution_count": 17,
     "metadata": {},
     "output_type": "execute_result"
    }
   ],
   "source": [
    "status"
   ]
  },
  {
   "cell_type": "code",
   "execution_count": 19,
   "id": "91f87f0e",
   "metadata": {},
   "outputs": [
    {
     "name": "stderr",
     "output_type": "stream",
     "text": [
      "/tmp/ipykernel_3585/2571224947.py:2: DeprecationWarning: The `.content()` method should be used instead\n",
      "  content = client.files.retrieve_content(file_id)\n"
     ]
    }
   ],
   "source": [
    "file_id = status.result_files[0]\n",
    "content = client.files.retrieve_content(file_id)"
   ]
  },
  {
   "cell_type": "code",
   "execution_count": 20,
   "id": "a0b84e95",
   "metadata": {},
   "outputs": [
    {
     "data": {
      "text/plain": [
       "'{\"epoch\": 0, \"iteration\": 1, \"train_loss\": 1.4674596786499023, \"trained_tokens\": 83440, \"valid_loss\": null, \"perplexity\": null, \"time_since_job_start\": 197.77007579803467}\\n{\"epoch\": 0, \"iteration\": 2, \"train_loss\": 1.4756062030792236, \"trained_tokens\": 165296, \"valid_loss\": null, \"perplexity\": null, \"time_since_job_start\": 205.69420385360718}\\n{\"epoch\": 0, \"iteration\": 3, \"train_loss\": 1.4471592903137207, \"trained_tokens\": 245472, \"valid_loss\": null, \"perplexity\": null, \"time_since_job_start\": 209.85702109336853}\\n{\"epoch\": 0, \"iteration\": 4, \"train_loss\": 1.4328726530075073, \"trained_tokens\": 327936, \"valid_loss\": null, \"perplexity\": null, \"time_since_job_start\": 214.38105130195618}\\n{\"epoch\": 0, \"iteration\": 5, \"train_loss\": 1.4073245525360107, \"trained_tokens\": 409104, \"valid_loss\": null, \"perplexity\": null, \"time_since_job_start\": 217.93808889389038}\\n{\"epoch\": 0, \"iteration\": 6, \"train_loss\": 1.3729019165039062, \"trained_tokens\": 489856, \"valid_loss\": null, \"perplexity\": null, \"time_since_job_start\": 222.4259054660797}\\n{\"epoch\": 0, \"iteration\": 7, \"train_loss\": 1.2806181907653809, \"trained_tokens\": 569408, \"valid_loss\": null, \"perplexity\": null, \"time_since_job_start\": 225.91053247451782}\\n{\"epoch\": 0, \"iteration\": 8, \"train_loss\": 1.2186589241027832, \"trained_tokens\": 649392, \"valid_loss\": null, \"perplexity\": null, \"time_since_job_start\": 230.4031035900116}\\n{\"epoch\": 0, \"iteration\": 9, \"train_loss\": 1.1430277824401855, \"trained_tokens\": 730512, \"valid_loss\": null, \"perplexity\": null, \"time_since_job_start\": 233.858469247818}\\n{\"epoch\": 0, \"iteration\": 10, \"train_loss\": 1.055868148803711, \"trained_tokens\": 810304, \"valid_loss\": null, \"perplexity\": null, \"time_since_job_start\": 237.24713325500488}\\n{\"epoch\": 0, \"iteration\": 11, \"train_loss\": 1.0069763660430908, \"trained_tokens\": 890896, \"valid_loss\": null, \"perplexity\": null, \"time_since_job_start\": 240.6377809047699}\\n{\"epoch\": 0, \"iteration\": 12, \"train_loss\": 0.9613286256790161, \"trained_tokens\": 972528, \"valid_loss\": null, \"perplexity\": null, \"time_since_job_start\": 245.21767449378967}\\n{\"epoch\": 0, \"iteration\": 13, \"train_loss\": 0.9038486480712891, \"trained_tokens\": 1051520, \"valid_loss\": null, \"perplexity\": null, \"time_since_job_start\": 248.7537500858307}\\n{\"epoch\": 0, \"iteration\": 14, \"train_loss\": 0.8648817539215088, \"trained_tokens\": 1132896, \"valid_loss\": null, \"perplexity\": null, \"time_since_job_start\": 252.32680416107178}\\n{\"epoch\": 0, \"iteration\": 15, \"train_loss\": 0.8253636360168457, \"trained_tokens\": 1212816, \"valid_loss\": null, \"perplexity\": null, \"time_since_job_start\": 255.78215336799622}\\n{\"epoch\": 0, \"iteration\": 16, \"train_loss\": 0.8035397529602051, \"trained_tokens\": 1293424, \"valid_loss\": null, \"perplexity\": null, \"time_since_job_start\": 259.2602035999298}\\n{\"epoch\": 0, \"iteration\": 17, \"train_loss\": 0.7340891361236572, \"trained_tokens\": 1374320, \"valid_loss\": null, \"perplexity\": null, \"time_since_job_start\": 262.7613043785095}\\n{\"epoch\": 0, \"iteration\": 18, \"train_loss\": 0.6778307557106018, \"trained_tokens\": 1455600, \"valid_loss\": null, \"perplexity\": null, \"time_since_job_start\": 266.2407023906708}\\n{\"epoch\": 0, \"iteration\": 19, \"train_loss\": 0.6562449336051941, \"trained_tokens\": 1537136, \"valid_loss\": null, \"perplexity\": null, \"time_since_job_start\": 269.7487335205078}\\n{\"epoch\": 0, \"iteration\": 20, \"train_loss\": 0.6379209160804749, \"trained_tokens\": 1619328, \"valid_loss\": null, \"perplexity\": null, \"time_since_job_start\": 273.2720000743866}\\n{\"epoch\": 0, \"iteration\": 21, \"train_loss\": 0.6455562114715576, \"trained_tokens\": 1703072, \"valid_loss\": null, \"perplexity\": null, \"time_since_job_start\": 277.8502388000488}\\n{\"epoch\": 0, \"iteration\": 22, \"train_loss\": 0.605799674987793, \"trained_tokens\": 1783296, \"valid_loss\": null, \"perplexity\": null, \"time_since_job_start\": 281.32565426826477}\\n{\"epoch\": 0, \"iteration\": 23, \"train_loss\": 0.6301966905593872, \"trained_tokens\": 1866640, \"valid_loss\": null, \"perplexity\": null, \"time_since_job_start\": 285.50810194015503}\\n{\"epoch\": 0, \"iteration\": 24, \"train_loss\": 0.5994573831558228, \"trained_tokens\": 1948272, \"valid_loss\": null, \"perplexity\": null, \"time_since_job_start\": 289.0904324054718}\\n{\"epoch\": 0, \"iteration\": 25, \"train_loss\": 0.6149157285690308, \"trained_tokens\": 2029056, \"valid_loss\": null, \"perplexity\": null, \"time_since_job_start\": 292.62817668914795}\\n{\"epoch\": 0, \"iteration\": 26, \"train_loss\": 0.5937976837158203, \"trained_tokens\": 2109696, \"valid_loss\": null, \"perplexity\": null, \"time_since_job_start\": 296.1560368537903}\\n{\"epoch\": 0, \"iteration\": 27, \"train_loss\": 0.5911766290664673, \"trained_tokens\": 2191952, \"valid_loss\": null, \"perplexity\": null, \"time_since_job_start\": 299.9577729701996}\\n{\"epoch\": 0, \"iteration\": 28, \"train_loss\": 0.5902115106582642, \"trained_tokens\": 2274096, \"valid_loss\": null, \"perplexity\": null, \"time_since_job_start\": 304.6211576461792}\\n{\"epoch\": 0, \"iteration\": 29, \"train_loss\": 0.5882740616798401, \"trained_tokens\": 2353456, \"valid_loss\": null, \"perplexity\": null, \"time_since_job_start\": 308.27046728134155}\\n{\"epoch\": 0, \"iteration\": 30, \"train_loss\": 0.5807132124900818, \"trained_tokens\": 2432752, \"valid_loss\": null, \"perplexity\": null, \"time_since_job_start\": 311.8002419471741}\\n{\"epoch\": 0, \"iteration\": 31, \"train_loss\": 0.5872377157211304, \"trained_tokens\": 2514848, \"valid_loss\": null, \"perplexity\": null, \"time_since_job_start\": 315.3657422065735}\\n{\"epoch\": 0, \"iteration\": 32, \"train_loss\": 0.600659191608429, \"trained_tokens\": 2595728, \"valid_loss\": null, \"perplexity\": null, \"time_since_job_start\": 318.93742394447327}\\n{\"epoch\": 0, \"iteration\": 33, \"train_loss\": 0.5764713287353516, \"trained_tokens\": 2676400, \"valid_loss\": null, \"perplexity\": null, \"time_since_job_start\": 322.4313883781433}\\n{\"epoch\": 0, \"iteration\": 34, \"train_loss\": 0.5902409553527832, \"trained_tokens\": 2758560, \"valid_loss\": null, \"perplexity\": null, \"time_since_job_start\": 326.01539731025696}\\n{\"epoch\": 0, \"iteration\": 35, \"train_loss\": 0.5836033821105957, \"trained_tokens\": 2838352, \"valid_loss\": null, \"perplexity\": null, \"time_since_job_start\": 329.5652551651001}\\n{\"epoch\": 0, \"iteration\": 36, \"train_loss\": 0.6031678318977356, \"trained_tokens\": 2921072, \"valid_loss\": null, \"perplexity\": null, \"time_since_job_start\": 334.00923371315}\\n{\"epoch\": 0, \"iteration\": 37, \"train_loss\": 0.5710915327072144, \"trained_tokens\": 3000448, \"valid_loss\": null, \"perplexity\": null, \"time_since_job_start\": 337.46051025390625}\\n{\"epoch\": 0, \"iteration\": 38, \"train_loss\": 0.5735041499137878, \"trained_tokens\": 3014659, \"valid_loss\": 0.5867398977279663, \"perplexity\": 1.7981168048918907, \"time_since_job_start\": 368.78458642959595}\\n{\"epoch\": 1, \"iteration\": 39, \"train_loss\": 0.5791423320770264, \"trained_tokens\": 3098099, \"valid_loss\": null, \"perplexity\": null, \"time_since_job_start\": 380.5595211982727}\\n{\"epoch\": 1, \"iteration\": 40, \"train_loss\": 0.5878186821937561, \"trained_tokens\": 3179955, \"valid_loss\": null, \"perplexity\": null, \"time_since_job_start\": 384.1164536476135}\\n{\"epoch\": 1, \"iteration\": 41, \"train_loss\": 0.560175895690918, \"trained_tokens\": 3260131, \"valid_loss\": null, \"perplexity\": null, \"time_since_job_start\": 387.6718044281006}\\n{\"epoch\": 1, \"iteration\": 42, \"train_loss\": 0.5604942440986633, \"trained_tokens\": 3342595, \"valid_loss\": null, \"perplexity\": null, \"time_since_job_start\": 391.2215232849121}\\n{\"epoch\": 1, \"iteration\": 43, \"train_loss\": 0.5634219646453857, \"trained_tokens\": 3423763, \"valid_loss\": null, \"perplexity\": null, \"time_since_job_start\": 394.8271255493164}\\n{\"epoch\": 1, \"iteration\": 44, \"train_loss\": 0.5768769979476929, \"trained_tokens\": 3504515, \"valid_loss\": null, \"perplexity\": null, \"time_since_job_start\": 398.4142322540283}\\n{\"epoch\": 1, \"iteration\": 45, \"train_loss\": 0.541872501373291, \"trained_tokens\": 3584067, \"valid_loss\": null, \"perplexity\": null, \"time_since_job_start\": 401.933865070343}\\n{\"epoch\": 1, \"iteration\": 46, \"train_loss\": 0.5494253635406494, \"trained_tokens\": 3664051, \"valid_loss\": null, \"perplexity\": null, \"time_since_job_start\": 405.5252070426941}\\n{\"epoch\": 1, \"iteration\": 47, \"train_loss\": 0.5573617219924927, \"trained_tokens\": 3745171, \"valid_loss\": null, \"perplexity\": null, \"time_since_job_start\": 409.00524139404297}\\n{\"epoch\": 1, \"iteration\": 48, \"train_loss\": 0.53074049949646, \"trained_tokens\": 3824963, \"valid_loss\": null, \"perplexity\": null, \"time_since_job_start\": 412.42828345298767}\\n{\"epoch\": 1, \"iteration\": 49, \"train_loss\": 0.5463477373123169, \"trained_tokens\": 3905555, \"valid_loss\": null, \"perplexity\": null, \"time_since_job_start\": 415.8440318107605}\\n{\"epoch\": 1, \"iteration\": 50, \"train_loss\": 0.5450039505958557, \"trained_tokens\": 3987187, \"valid_loss\": null, \"perplexity\": null, \"time_since_job_start\": 419.4619867801666}\\n{\"epoch\": 1, \"iteration\": 51, \"train_loss\": 0.5305214524269104, \"trained_tokens\": 4066179, \"valid_loss\": null, \"perplexity\": null, \"time_since_job_start\": 423.01698422431946}\\n{\"epoch\": 1, \"iteration\": 52, \"train_loss\": 0.5357256531715393, \"trained_tokens\": 4147555, \"valid_loss\": null, \"perplexity\": null, \"time_since_job_start\": 426.6043863296509}\\n{\"epoch\": 1, \"iteration\": 53, \"train_loss\": 0.5485063791275024, \"trained_tokens\": 4227475, \"valid_loss\": null, \"perplexity\": null, \"time_since_job_start\": 430.072794675827}\\n{\"epoch\": 1, \"iteration\": 54, \"train_loss\": 0.5768485069274902, \"trained_tokens\": 4308083, \"valid_loss\": null, \"perplexity\": null, \"time_since_job_start\": 433.58120918273926}\\n{\"epoch\": 1, \"iteration\": 55, \"train_loss\": 0.5611228942871094, \"trained_tokens\": 4388979, \"valid_loss\": null, \"perplexity\": null, \"time_since_job_start\": 437.1098520755768}\\n{\"epoch\": 1, \"iteration\": 56, \"train_loss\": 0.5447320938110352, \"trained_tokens\": 4470259, \"valid_loss\": null, \"perplexity\": null, \"time_since_job_start\": 440.5990056991577}\\n{\"epoch\": 1, \"iteration\": 57, \"train_loss\": 0.5588008165359497, \"trained_tokens\": 4551795, \"valid_loss\": null, \"perplexity\": null, \"time_since_job_start\": 444.1255795955658}\\n{\"epoch\": 1, \"iteration\": 58, \"train_loss\": 0.559400200843811, \"trained_tokens\": 4633987, \"valid_loss\": null, \"perplexity\": null, \"time_since_job_start\": 447.66062664985657}\\n{\"epoch\": 1, \"iteration\": 59, \"train_loss\": 0.5766332745552063, \"trained_tokens\": 4717731, \"valid_loss\": null, \"perplexity\": null, \"time_since_job_start\": 451.4009778499603}\\n{\"epoch\": 1, \"iteration\": 60, \"train_loss\": 0.540806770324707, \"trained_tokens\": 4797955, \"valid_loss\": null, \"perplexity\": null, \"time_since_job_start\": 454.8896048069}\\n{\"epoch\": 1, \"iteration\": 61, \"train_loss\": 0.5666992664337158, \"trained_tokens\": 4881299, \"valid_loss\": null, \"perplexity\": null, \"time_since_job_start\": 459.09066009521484}\\n{\"epoch\": 1, \"iteration\": 62, \"train_loss\": 0.5390653610229492, \"trained_tokens\": 4962931, \"valid_loss\": null, \"perplexity\": null, \"time_since_job_start\": 462.67844247817993}\\n{\"epoch\": 1, \"iteration\": 63, \"train_loss\": 0.5577594041824341, \"trained_tokens\": 5043715, \"valid_loss\": null, \"perplexity\": null, \"time_since_job_start\": 466.22384572029114}\\n{\"epoch\": 1, \"iteration\": 64, \"train_loss\": 0.5414352416992188, \"trained_tokens\": 5124355, \"valid_loss\": null, \"perplexity\": null, \"time_since_job_start\": 469.745370388031}\\n{\"epoch\": 1, \"iteration\": 65, \"train_loss\": 0.5401691198348999, \"trained_tokens\": 5206611, \"valid_loss\": null, \"perplexity\": null, \"time_since_job_start\": 473.5592601299286}\\n{\"epoch\": 1, \"iteration\": 66, \"train_loss\": 0.5416642427444458, \"trained_tokens\": 5288755, \"valid_loss\": null, \"perplexity\": null, \"time_since_job_start\": 477.135559797287}\\n{\"epoch\": 1, \"iteration\": 67, \"train_loss\": 0.5417914390563965, \"trained_tokens\": 5368115, \"valid_loss\": null, \"perplexity\": null, \"time_since_job_start\": 480.5697674751282}\\n{\"epoch\": 1, \"iteration\": 68, \"train_loss\": 0.5342413187026978, \"trained_tokens\": 5447411, \"valid_loss\": null, \"perplexity\": null, \"time_since_job_start\": 484.1008083820343}\\n{\"epoch\": 1, \"iteration\": 69, \"train_loss\": 0.5431097745895386, \"trained_tokens\": 5529507, \"valid_loss\": null, \"perplexity\": null, \"time_since_job_start\": 487.67973732948303}\\n{\"epoch\": 1, \"iteration\": 70, \"train_loss\": 0.5575058460235596, \"trained_tokens\": 5610387, \"valid_loss\": null, \"perplexity\": null, \"time_since_job_start\": 491.2531566619873}\\n{\"epoch\": 1, \"iteration\": 71, \"train_loss\": 0.5333753824234009, \"trained_tokens\": 5691059, \"valid_loss\": null, \"perplexity\": null, \"time_since_job_start\": 494.75199270248413}\\n{\"epoch\": 1, \"iteration\": 72, \"train_loss\": 0.5495356321334839, \"trained_tokens\": 5773219, \"valid_loss\": null, \"perplexity\": null, \"time_since_job_start\": 498.3483691215515}\\n{\"epoch\": 1, \"iteration\": 73, \"train_loss\": 0.5438406467437744, \"trained_tokens\": 5853011, \"valid_loss\": null, \"perplexity\": null, \"time_since_job_start\": 501.9024007320404}\\n{\"epoch\": 1, \"iteration\": 74, \"train_loss\": 0.5637422800064087, \"trained_tokens\": 5935731, \"valid_loss\": null, \"perplexity\": null, \"time_since_job_start\": 505.5429358482361}\\n{\"epoch\": 1, \"iteration\": 75, \"train_loss\": 0.5338882803916931, \"trained_tokens\": 6015107, \"valid_loss\": null, \"perplexity\": null, \"time_since_job_start\": 508.99420833587646}\\n{\"epoch\": 1, \"iteration\": 76, \"train_loss\": 0.5128552913665771, \"trained_tokens\": 6029318, \"valid_loss\": 0.5625771880149841, \"perplexity\": 1.7551901313738913, \"time_since_job_start\": 534.3194782733917}\\n{\"epoch\": 2, \"iteration\": 77, \"train_loss\": 0.5359959602355957, \"trained_tokens\": 6112758, \"valid_loss\": null, \"perplexity\": null, \"time_since_job_start\": 545.3778054714203}\\n{\"epoch\": 2, \"iteration\": 78, \"train_loss\": 0.547931969165802, \"trained_tokens\": 6194614, \"valid_loss\": null, \"perplexity\": null, \"time_since_job_start\": 548.9382972717285}\\n{\"epoch\": 2, \"iteration\": 79, \"train_loss\": 0.5217661261558533, \"trained_tokens\": 6274790, \"valid_loss\": null, \"perplexity\": null, \"time_since_job_start\": 552.4923648834229}\\n{\"epoch\": 2, \"iteration\": 80, \"train_loss\": 0.5235053300857544, \"trained_tokens\": 6357254, \"valid_loss\": null, \"perplexity\": null, \"time_since_job_start\": 556.0519852638245}\\n{\"epoch\": 2, \"iteration\": 81, \"train_loss\": 0.5269088745117188, \"trained_tokens\": 6438422, \"valid_loss\": null, \"perplexity\": null, \"time_since_job_start\": 559.6518104076385}\\n{\"epoch\": 2, \"iteration\": 82, \"train_loss\": 0.5446559190750122, \"trained_tokens\": 6519174, \"valid_loss\": null, \"perplexity\": null, \"time_since_job_start\": 563.2312788963318}\\n{\"epoch\": 2, \"iteration\": 83, \"train_loss\": 0.5123866200447083, \"trained_tokens\": 6598726, \"valid_loss\": null, \"perplexity\": null, \"time_since_job_start\": 566.7435786724091}\\n{\"epoch\": 2, \"iteration\": 84, \"train_loss\": 0.520983099937439, \"trained_tokens\": 6678710, \"valid_loss\": null, \"perplexity\": null, \"time_since_job_start\": 570.3264400959015}\\n{\"epoch\": 2, \"iteration\": 85, \"train_loss\": 0.5321274995803833, \"trained_tokens\": 6759830, \"valid_loss\": null, \"perplexity\": null, \"time_since_job_start\": 573.8044912815094}\\n{\"epoch\": 2, \"iteration\": 86, \"train_loss\": 0.5087257623672485, \"trained_tokens\": 6839622, \"valid_loss\": null, \"perplexity\": null, \"time_since_job_start\": 577.2385368347168}\\n{\"epoch\": 2, \"iteration\": 87, \"train_loss\": 0.5243737697601318, \"trained_tokens\": 6920214, \"valid_loss\": null, \"perplexity\": null, \"time_since_job_start\": 580.6480996608734}\\n{\"epoch\": 2, \"iteration\": 88, \"train_loss\": 0.5253732204437256, \"trained_tokens\": 7001846, \"valid_loss\": null, \"perplexity\": null, \"time_since_job_start\": 584.2587027549744}\\n{\"epoch\": 2, \"iteration\": 89, \"train_loss\": 0.511711061000824, \"trained_tokens\": 7080838, \"valid_loss\": null, \"perplexity\": null, \"time_since_job_start\": 587.7959716320038}\\n{\"epoch\": 2, \"iteration\": 90, \"train_loss\": 0.5169757604598999, \"trained_tokens\": 7162214, \"valid_loss\": null, \"perplexity\": null, \"time_since_job_start\": 591.3717539310455}\\n{\"epoch\": 2, \"iteration\": 91, \"train_loss\": 0.5313930511474609, \"trained_tokens\": 7242134, \"valid_loss\": null, \"perplexity\": null, \"time_since_job_start\": 594.8489501476288}\\n{\"epoch\": 2, \"iteration\": 92, \"train_loss\": 0.5590187907218933, \"trained_tokens\": 7322742, \"valid_loss\": null, \"perplexity\": null, \"time_since_job_start\": 598.3343341350555}\\n{\"epoch\": 2, \"iteration\": 93, \"train_loss\": 0.5438867807388306, \"trained_tokens\": 7403638, \"valid_loss\": null, \"perplexity\": null, \"time_since_job_start\": 601.8542065620422}\\n{\"epoch\": 2, \"iteration\": 94, \"train_loss\": 0.528472900390625, \"trained_tokens\": 7484918, \"valid_loss\": null, \"perplexity\": null, \"time_since_job_start\": 605.3455545902252}\\n{\"epoch\": 2, \"iteration\": 95, \"train_loss\": 0.5456736087799072, \"trained_tokens\": 7566454, \"valid_loss\": null, \"perplexity\": null, \"time_since_job_start\": 608.8711740970612}\\n{\"epoch\": 2, \"iteration\": 96, \"train_loss\": 0.5446271896362305, \"trained_tokens\": 7648646, \"valid_loss\": null, \"perplexity\": null, \"time_since_job_start\": 612.400874376297}\\n{\"epoch\": 2, \"iteration\": 97, \"train_loss\": 0.5622169375419617, \"trained_tokens\": 7732390, \"valid_loss\": null, \"perplexity\": null, \"time_since_job_start\": 616.1260695457458}\\n{\"epoch\": 2, \"iteration\": 98, \"train_loss\": 0.5278254747390747, \"trained_tokens\": 7812614, \"valid_loss\": null, \"perplexity\": null, \"time_since_job_start\": 619.6032824516296}\\n{\"epoch\": 2, \"iteration\": 99, \"train_loss\": 0.5528652667999268, \"trained_tokens\": 7895958, \"valid_loss\": null, \"perplexity\": null, \"time_since_job_start\": 623.7873208522797}\\n{\"epoch\": 2, \"iteration\": 100, \"train_loss\": 0.5275217294692993, \"trained_tokens\": 7977590, \"valid_loss\": null, \"perplexity\": null, \"time_since_job_start\": 627.3741881847382}\\n{\"epoch\": 2, \"iteration\": 101, \"train_loss\": 0.545988142490387, \"trained_tokens\": 8058374, \"valid_loss\": null, \"perplexity\": null, \"time_since_job_start\": 630.9100072383881}\\n{\"epoch\": 2, \"iteration\": 102, \"train_loss\": 0.5304588079452515, \"trained_tokens\": 8139014, \"valid_loss\": null, \"perplexity\": null, \"time_since_job_start\": 634.4249761104584}\\n{\"epoch\": 2, \"iteration\": 103, \"train_loss\": 0.5289646983146667, \"trained_tokens\": 8221270, \"valid_loss\": null, \"perplexity\": null, \"time_since_job_start\": 638.2248191833496}\\n{\"epoch\": 2, \"iteration\": 104, \"train_loss\": 0.530909538269043, \"trained_tokens\": 8303414, \"valid_loss\": null, \"perplexity\": null, \"time_since_job_start\": 641.8044543266296}\\n{\"epoch\": 2, \"iteration\": 105, \"train_loss\": 0.5316473245620728, \"trained_tokens\": 8382774, \"valid_loss\": null, \"perplexity\": null, \"time_since_job_start\": 645.2255082130432}\\n{\"epoch\": 2, \"iteration\": 106, \"train_loss\": 0.5248740911483765, \"trained_tokens\": 8462070, \"valid_loss\": null, \"perplexity\": null, \"time_since_job_start\": 648.7588005065918}\\n{\"epoch\": 2, \"iteration\": 107, \"train_loss\": 0.5341708660125732, \"trained_tokens\": 8544166, \"valid_loss\": null, \"perplexity\": null, \"time_since_job_start\": 652.3329167366028}\\n{\"epoch\": 2, \"iteration\": 108, \"train_loss\": 0.5485009551048279, \"trained_tokens\": 8625046, \"valid_loss\": null, \"perplexity\": null, \"time_since_job_start\": 655.9039287567139}\\n{\"epoch\": 2, \"iteration\": 109, \"train_loss\": 0.5248414278030396, \"trained_tokens\": 8705718, \"valid_loss\": null, \"perplexity\": null, \"time_since_job_start\": 659.7389380931854}\\n{\"epoch\": 2, \"iteration\": 110, \"train_loss\": 0.5413495302200317, \"trained_tokens\": 8787878, \"valid_loss\": null, \"perplexity\": null, \"time_since_job_start\": 663.3331727981567}\\n{\"epoch\": 2, \"iteration\": 111, \"train_loss\": 0.535980761051178, \"trained_tokens\": 8867670, \"valid_loss\": null, \"perplexity\": null, \"time_since_job_start\": 666.8910768032074}\\n{\"epoch\": 2, \"iteration\": 112, \"train_loss\": 0.555425226688385, \"trained_tokens\": 8950390, \"valid_loss\": null, \"perplexity\": null, \"time_since_job_start\": 670.5413641929626}\\n{\"epoch\": 2, \"iteration\": 113, \"train_loss\": 0.5266416668891907, \"trained_tokens\": 9029766, \"valid_loss\": null, \"perplexity\": null, \"time_since_job_start\": 673.9817144870758}\\n{\"epoch\": 2, \"iteration\": 114, \"train_loss\": 0.49427446722984314, \"trained_tokens\": 9043977, \"valid_loss\": 0.5607431530952454, \"perplexity\": 1.7519740015308936, \"time_since_job_start\": 702.2631261348724}\\n'"
      ]
     },
     "execution_count": 20,
     "metadata": {},
     "output_type": "execute_result"
    }
   ],
   "source": [
    "content"
   ]
  },
  {
   "cell_type": "code",
   "execution_count": 26,
   "id": "eb674084",
   "metadata": {},
   "outputs": [],
   "source": [
    "data = content\n",
    "\n",
    "# Rimuovi gli apici esterni\n",
    "data = data.strip()[1:-1]\n",
    "\n",
    "# Dividi la stringa in base ai caratteri di nuova linea\n",
    "json_strings = data.split('\\\\n')"
   ]
  },
  {
   "cell_type": "code",
   "execution_count": 27,
   "id": "63540613",
   "metadata": {},
   "outputs": [
    {
     "data": {
      "text/plain": [
       "['\"epoch\": 0, \"iteration\": 1, \"train_loss\": 1.4674596786499023, \"trained_tokens\": 83440, \"valid_loss\": null, \"perplexity\": null, \"time_since_job_start\": 197.77007579803467}\\n{\"epoch\": 0, \"iteration\": 2, \"train_loss\": 1.4756062030792236, \"trained_tokens\": 165296, \"valid_loss\": null, \"perplexity\": null, \"time_since_job_start\": 205.69420385360718}\\n{\"epoch\": 0, \"iteration\": 3, \"train_loss\": 1.4471592903137207, \"trained_tokens\": 245472, \"valid_loss\": null, \"perplexity\": null, \"time_since_job_start\": 209.85702109336853}\\n{\"epoch\": 0, \"iteration\": 4, \"train_loss\": 1.4328726530075073, \"trained_tokens\": 327936, \"valid_loss\": null, \"perplexity\": null, \"time_since_job_start\": 214.38105130195618}\\n{\"epoch\": 0, \"iteration\": 5, \"train_loss\": 1.4073245525360107, \"trained_tokens\": 409104, \"valid_loss\": null, \"perplexity\": null, \"time_since_job_start\": 217.93808889389038}\\n{\"epoch\": 0, \"iteration\": 6, \"train_loss\": 1.3729019165039062, \"trained_tokens\": 489856, \"valid_loss\": null, \"perplexity\": null, \"time_since_job_start\": 222.4259054660797}\\n{\"epoch\": 0, \"iteration\": 7, \"train_loss\": 1.2806181907653809, \"trained_tokens\": 569408, \"valid_loss\": null, \"perplexity\": null, \"time_since_job_start\": 225.91053247451782}\\n{\"epoch\": 0, \"iteration\": 8, \"train_loss\": 1.2186589241027832, \"trained_tokens\": 649392, \"valid_loss\": null, \"perplexity\": null, \"time_since_job_start\": 230.4031035900116}\\n{\"epoch\": 0, \"iteration\": 9, \"train_loss\": 1.1430277824401855, \"trained_tokens\": 730512, \"valid_loss\": null, \"perplexity\": null, \"time_since_job_start\": 233.858469247818}\\n{\"epoch\": 0, \"iteration\": 10, \"train_loss\": 1.055868148803711, \"trained_tokens\": 810304, \"valid_loss\": null, \"perplexity\": null, \"time_since_job_start\": 237.24713325500488}\\n{\"epoch\": 0, \"iteration\": 11, \"train_loss\": 1.0069763660430908, \"trained_tokens\": 890896, \"valid_loss\": null, \"perplexity\": null, \"time_since_job_start\": 240.6377809047699}\\n{\"epoch\": 0, \"iteration\": 12, \"train_loss\": 0.9613286256790161, \"trained_tokens\": 972528, \"valid_loss\": null, \"perplexity\": null, \"time_since_job_start\": 245.21767449378967}\\n{\"epoch\": 0, \"iteration\": 13, \"train_loss\": 0.9038486480712891, \"trained_tokens\": 1051520, \"valid_loss\": null, \"perplexity\": null, \"time_since_job_start\": 248.7537500858307}\\n{\"epoch\": 0, \"iteration\": 14, \"train_loss\": 0.8648817539215088, \"trained_tokens\": 1132896, \"valid_loss\": null, \"perplexity\": null, \"time_since_job_start\": 252.32680416107178}\\n{\"epoch\": 0, \"iteration\": 15, \"train_loss\": 0.8253636360168457, \"trained_tokens\": 1212816, \"valid_loss\": null, \"perplexity\": null, \"time_since_job_start\": 255.78215336799622}\\n{\"epoch\": 0, \"iteration\": 16, \"train_loss\": 0.8035397529602051, \"trained_tokens\": 1293424, \"valid_loss\": null, \"perplexity\": null, \"time_since_job_start\": 259.2602035999298}\\n{\"epoch\": 0, \"iteration\": 17, \"train_loss\": 0.7340891361236572, \"trained_tokens\": 1374320, \"valid_loss\": null, \"perplexity\": null, \"time_since_job_start\": 262.7613043785095}\\n{\"epoch\": 0, \"iteration\": 18, \"train_loss\": 0.6778307557106018, \"trained_tokens\": 1455600, \"valid_loss\": null, \"perplexity\": null, \"time_since_job_start\": 266.2407023906708}\\n{\"epoch\": 0, \"iteration\": 19, \"train_loss\": 0.6562449336051941, \"trained_tokens\": 1537136, \"valid_loss\": null, \"perplexity\": null, \"time_since_job_start\": 269.7487335205078}\\n{\"epoch\": 0, \"iteration\": 20, \"train_loss\": 0.6379209160804749, \"trained_tokens\": 1619328, \"valid_loss\": null, \"perplexity\": null, \"time_since_job_start\": 273.2720000743866}\\n{\"epoch\": 0, \"iteration\": 21, \"train_loss\": 0.6455562114715576, \"trained_tokens\": 1703072, \"valid_loss\": null, \"perplexity\": null, \"time_since_job_start\": 277.8502388000488}\\n{\"epoch\": 0, \"iteration\": 22, \"train_loss\": 0.605799674987793, \"trained_tokens\": 1783296, \"valid_loss\": null, \"perplexity\": null, \"time_since_job_start\": 281.32565426826477}\\n{\"epoch\": 0, \"iteration\": 23, \"train_loss\": 0.6301966905593872, \"trained_tokens\": 1866640, \"valid_loss\": null, \"perplexity\": null, \"time_since_job_start\": 285.50810194015503}\\n{\"epoch\": 0, \"iteration\": 24, \"train_loss\": 0.5994573831558228, \"trained_tokens\": 1948272, \"valid_loss\": null, \"perplexity\": null, \"time_since_job_start\": 289.0904324054718}\\n{\"epoch\": 0, \"iteration\": 25, \"train_loss\": 0.6149157285690308, \"trained_tokens\": 2029056, \"valid_loss\": null, \"perplexity\": null, \"time_since_job_start\": 292.62817668914795}\\n{\"epoch\": 0, \"iteration\": 26, \"train_loss\": 0.5937976837158203, \"trained_tokens\": 2109696, \"valid_loss\": null, \"perplexity\": null, \"time_since_job_start\": 296.1560368537903}\\n{\"epoch\": 0, \"iteration\": 27, \"train_loss\": 0.5911766290664673, \"trained_tokens\": 2191952, \"valid_loss\": null, \"perplexity\": null, \"time_since_job_start\": 299.9577729701996}\\n{\"epoch\": 0, \"iteration\": 28, \"train_loss\": 0.5902115106582642, \"trained_tokens\": 2274096, \"valid_loss\": null, \"perplexity\": null, \"time_since_job_start\": 304.6211576461792}\\n{\"epoch\": 0, \"iteration\": 29, \"train_loss\": 0.5882740616798401, \"trained_tokens\": 2353456, \"valid_loss\": null, \"perplexity\": null, \"time_since_job_start\": 308.27046728134155}\\n{\"epoch\": 0, \"iteration\": 30, \"train_loss\": 0.5807132124900818, \"trained_tokens\": 2432752, \"valid_loss\": null, \"perplexity\": null, \"time_since_job_start\": 311.8002419471741}\\n{\"epoch\": 0, \"iteration\": 31, \"train_loss\": 0.5872377157211304, \"trained_tokens\": 2514848, \"valid_loss\": null, \"perplexity\": null, \"time_since_job_start\": 315.3657422065735}\\n{\"epoch\": 0, \"iteration\": 32, \"train_loss\": 0.600659191608429, \"trained_tokens\": 2595728, \"valid_loss\": null, \"perplexity\": null, \"time_since_job_start\": 318.93742394447327}\\n{\"epoch\": 0, \"iteration\": 33, \"train_loss\": 0.5764713287353516, \"trained_tokens\": 2676400, \"valid_loss\": null, \"perplexity\": null, \"time_since_job_start\": 322.4313883781433}\\n{\"epoch\": 0, \"iteration\": 34, \"train_loss\": 0.5902409553527832, \"trained_tokens\": 2758560, \"valid_loss\": null, \"perplexity\": null, \"time_since_job_start\": 326.01539731025696}\\n{\"epoch\": 0, \"iteration\": 35, \"train_loss\": 0.5836033821105957, \"trained_tokens\": 2838352, \"valid_loss\": null, \"perplexity\": null, \"time_since_job_start\": 329.5652551651001}\\n{\"epoch\": 0, \"iteration\": 36, \"train_loss\": 0.6031678318977356, \"trained_tokens\": 2921072, \"valid_loss\": null, \"perplexity\": null, \"time_since_job_start\": 334.00923371315}\\n{\"epoch\": 0, \"iteration\": 37, \"train_loss\": 0.5710915327072144, \"trained_tokens\": 3000448, \"valid_loss\": null, \"perplexity\": null, \"time_since_job_start\": 337.46051025390625}\\n{\"epoch\": 0, \"iteration\": 38, \"train_loss\": 0.5735041499137878, \"trained_tokens\": 3014659, \"valid_loss\": 0.5867398977279663, \"perplexity\": 1.7981168048918907, \"time_since_job_start\": 368.78458642959595}\\n{\"epoch\": 1, \"iteration\": 39, \"train_loss\": 0.5791423320770264, \"trained_tokens\": 3098099, \"valid_loss\": null, \"perplexity\": null, \"time_since_job_start\": 380.5595211982727}\\n{\"epoch\": 1, \"iteration\": 40, \"train_loss\": 0.5878186821937561, \"trained_tokens\": 3179955, \"valid_loss\": null, \"perplexity\": null, \"time_since_job_start\": 384.1164536476135}\\n{\"epoch\": 1, \"iteration\": 41, \"train_loss\": 0.560175895690918, \"trained_tokens\": 3260131, \"valid_loss\": null, \"perplexity\": null, \"time_since_job_start\": 387.6718044281006}\\n{\"epoch\": 1, \"iteration\": 42, \"train_loss\": 0.5604942440986633, \"trained_tokens\": 3342595, \"valid_loss\": null, \"perplexity\": null, \"time_since_job_start\": 391.2215232849121}\\n{\"epoch\": 1, \"iteration\": 43, \"train_loss\": 0.5634219646453857, \"trained_tokens\": 3423763, \"valid_loss\": null, \"perplexity\": null, \"time_since_job_start\": 394.8271255493164}\\n{\"epoch\": 1, \"iteration\": 44, \"train_loss\": 0.5768769979476929, \"trained_tokens\": 3504515, \"valid_loss\": null, \"perplexity\": null, \"time_since_job_start\": 398.4142322540283}\\n{\"epoch\": 1, \"iteration\": 45, \"train_loss\": 0.541872501373291, \"trained_tokens\": 3584067, \"valid_loss\": null, \"perplexity\": null, \"time_since_job_start\": 401.933865070343}\\n{\"epoch\": 1, \"iteration\": 46, \"train_loss\": 0.5494253635406494, \"trained_tokens\": 3664051, \"valid_loss\": null, \"perplexity\": null, \"time_since_job_start\": 405.5252070426941}\\n{\"epoch\": 1, \"iteration\": 47, \"train_loss\": 0.5573617219924927, \"trained_tokens\": 3745171, \"valid_loss\": null, \"perplexity\": null, \"time_since_job_start\": 409.00524139404297}\\n{\"epoch\": 1, \"iteration\": 48, \"train_loss\": 0.53074049949646, \"trained_tokens\": 3824963, \"valid_loss\": null, \"perplexity\": null, \"time_since_job_start\": 412.42828345298767}\\n{\"epoch\": 1, \"iteration\": 49, \"train_loss\": 0.5463477373123169, \"trained_tokens\": 3905555, \"valid_loss\": null, \"perplexity\": null, \"time_since_job_start\": 415.8440318107605}\\n{\"epoch\": 1, \"iteration\": 50, \"train_loss\": 0.5450039505958557, \"trained_tokens\": 3987187, \"valid_loss\": null, \"perplexity\": null, \"time_since_job_start\": 419.4619867801666}\\n{\"epoch\": 1, \"iteration\": 51, \"train_loss\": 0.5305214524269104, \"trained_tokens\": 4066179, \"valid_loss\": null, \"perplexity\": null, \"time_since_job_start\": 423.01698422431946}\\n{\"epoch\": 1, \"iteration\": 52, \"train_loss\": 0.5357256531715393, \"trained_tokens\": 4147555, \"valid_loss\": null, \"perplexity\": null, \"time_since_job_start\": 426.6043863296509}\\n{\"epoch\": 1, \"iteration\": 53, \"train_loss\": 0.5485063791275024, \"trained_tokens\": 4227475, \"valid_loss\": null, \"perplexity\": null, \"time_since_job_start\": 430.072794675827}\\n{\"epoch\": 1, \"iteration\": 54, \"train_loss\": 0.5768485069274902, \"trained_tokens\": 4308083, \"valid_loss\": null, \"perplexity\": null, \"time_since_job_start\": 433.58120918273926}\\n{\"epoch\": 1, \"iteration\": 55, \"train_loss\": 0.5611228942871094, \"trained_tokens\": 4388979, \"valid_loss\": null, \"perplexity\": null, \"time_since_job_start\": 437.1098520755768}\\n{\"epoch\": 1, \"iteration\": 56, \"train_loss\": 0.5447320938110352, \"trained_tokens\": 4470259, \"valid_loss\": null, \"perplexity\": null, \"time_since_job_start\": 440.5990056991577}\\n{\"epoch\": 1, \"iteration\": 57, \"train_loss\": 0.5588008165359497, \"trained_tokens\": 4551795, \"valid_loss\": null, \"perplexity\": null, \"time_since_job_start\": 444.1255795955658}\\n{\"epoch\": 1, \"iteration\": 58, \"train_loss\": 0.559400200843811, \"trained_tokens\": 4633987, \"valid_loss\": null, \"perplexity\": null, \"time_since_job_start\": 447.66062664985657}\\n{\"epoch\": 1, \"iteration\": 59, \"train_loss\": 0.5766332745552063, \"trained_tokens\": 4717731, \"valid_loss\": null, \"perplexity\": null, \"time_since_job_start\": 451.4009778499603}\\n{\"epoch\": 1, \"iteration\": 60, \"train_loss\": 0.540806770324707, \"trained_tokens\": 4797955, \"valid_loss\": null, \"perplexity\": null, \"time_since_job_start\": 454.8896048069}\\n{\"epoch\": 1, \"iteration\": 61, \"train_loss\": 0.5666992664337158, \"trained_tokens\": 4881299, \"valid_loss\": null, \"perplexity\": null, \"time_since_job_start\": 459.09066009521484}\\n{\"epoch\": 1, \"iteration\": 62, \"train_loss\": 0.5390653610229492, \"trained_tokens\": 4962931, \"valid_loss\": null, \"perplexity\": null, \"time_since_job_start\": 462.67844247817993}\\n{\"epoch\": 1, \"iteration\": 63, \"train_loss\": 0.5577594041824341, \"trained_tokens\": 5043715, \"valid_loss\": null, \"perplexity\": null, \"time_since_job_start\": 466.22384572029114}\\n{\"epoch\": 1, \"iteration\": 64, \"train_loss\": 0.5414352416992188, \"trained_tokens\": 5124355, \"valid_loss\": null, \"perplexity\": null, \"time_since_job_start\": 469.745370388031}\\n{\"epoch\": 1, \"iteration\": 65, \"train_loss\": 0.5401691198348999, \"trained_tokens\": 5206611, \"valid_loss\": null, \"perplexity\": null, \"time_since_job_start\": 473.5592601299286}\\n{\"epoch\": 1, \"iteration\": 66, \"train_loss\": 0.5416642427444458, \"trained_tokens\": 5288755, \"valid_loss\": null, \"perplexity\": null, \"time_since_job_start\": 477.135559797287}\\n{\"epoch\": 1, \"iteration\": 67, \"train_loss\": 0.5417914390563965, \"trained_tokens\": 5368115, \"valid_loss\": null, \"perplexity\": null, \"time_since_job_start\": 480.5697674751282}\\n{\"epoch\": 1, \"iteration\": 68, \"train_loss\": 0.5342413187026978, \"trained_tokens\": 5447411, \"valid_loss\": null, \"perplexity\": null, \"time_since_job_start\": 484.1008083820343}\\n{\"epoch\": 1, \"iteration\": 69, \"train_loss\": 0.5431097745895386, \"trained_tokens\": 5529507, \"valid_loss\": null, \"perplexity\": null, \"time_since_job_start\": 487.67973732948303}\\n{\"epoch\": 1, \"iteration\": 70, \"train_loss\": 0.5575058460235596, \"trained_tokens\": 5610387, \"valid_loss\": null, \"perplexity\": null, \"time_since_job_start\": 491.2531566619873}\\n{\"epoch\": 1, \"iteration\": 71, \"train_loss\": 0.5333753824234009, \"trained_tokens\": 5691059, \"valid_loss\": null, \"perplexity\": null, \"time_since_job_start\": 494.75199270248413}\\n{\"epoch\": 1, \"iteration\": 72, \"train_loss\": 0.5495356321334839, \"trained_tokens\": 5773219, \"valid_loss\": null, \"perplexity\": null, \"time_since_job_start\": 498.3483691215515}\\n{\"epoch\": 1, \"iteration\": 73, \"train_loss\": 0.5438406467437744, \"trained_tokens\": 5853011, \"valid_loss\": null, \"perplexity\": null, \"time_since_job_start\": 501.9024007320404}\\n{\"epoch\": 1, \"iteration\": 74, \"train_loss\": 0.5637422800064087, \"trained_tokens\": 5935731, \"valid_loss\": null, \"perplexity\": null, \"time_since_job_start\": 505.5429358482361}\\n{\"epoch\": 1, \"iteration\": 75, \"train_loss\": 0.5338882803916931, \"trained_tokens\": 6015107, \"valid_loss\": null, \"perplexity\": null, \"time_since_job_start\": 508.99420833587646}\\n{\"epoch\": 1, \"iteration\": 76, \"train_loss\": 0.5128552913665771, \"trained_tokens\": 6029318, \"valid_loss\": 0.5625771880149841, \"perplexity\": 1.7551901313738913, \"time_since_job_start\": 534.3194782733917}\\n{\"epoch\": 2, \"iteration\": 77, \"train_loss\": 0.5359959602355957, \"trained_tokens\": 6112758, \"valid_loss\": null, \"perplexity\": null, \"time_since_job_start\": 545.3778054714203}\\n{\"epoch\": 2, \"iteration\": 78, \"train_loss\": 0.547931969165802, \"trained_tokens\": 6194614, \"valid_loss\": null, \"perplexity\": null, \"time_since_job_start\": 548.9382972717285}\\n{\"epoch\": 2, \"iteration\": 79, \"train_loss\": 0.5217661261558533, \"trained_tokens\": 6274790, \"valid_loss\": null, \"perplexity\": null, \"time_since_job_start\": 552.4923648834229}\\n{\"epoch\": 2, \"iteration\": 80, \"train_loss\": 0.5235053300857544, \"trained_tokens\": 6357254, \"valid_loss\": null, \"perplexity\": null, \"time_since_job_start\": 556.0519852638245}\\n{\"epoch\": 2, \"iteration\": 81, \"train_loss\": 0.5269088745117188, \"trained_tokens\": 6438422, \"valid_loss\": null, \"perplexity\": null, \"time_since_job_start\": 559.6518104076385}\\n{\"epoch\": 2, \"iteration\": 82, \"train_loss\": 0.5446559190750122, \"trained_tokens\": 6519174, \"valid_loss\": null, \"perplexity\": null, \"time_since_job_start\": 563.2312788963318}\\n{\"epoch\": 2, \"iteration\": 83, \"train_loss\": 0.5123866200447083, \"trained_tokens\": 6598726, \"valid_loss\": null, \"perplexity\": null, \"time_since_job_start\": 566.7435786724091}\\n{\"epoch\": 2, \"iteration\": 84, \"train_loss\": 0.520983099937439, \"trained_tokens\": 6678710, \"valid_loss\": null, \"perplexity\": null, \"time_since_job_start\": 570.3264400959015}\\n{\"epoch\": 2, \"iteration\": 85, \"train_loss\": 0.5321274995803833, \"trained_tokens\": 6759830, \"valid_loss\": null, \"perplexity\": null, \"time_since_job_start\": 573.8044912815094}\\n{\"epoch\": 2, \"iteration\": 86, \"train_loss\": 0.5087257623672485, \"trained_tokens\": 6839622, \"valid_loss\": null, \"perplexity\": null, \"time_since_job_start\": 577.2385368347168}\\n{\"epoch\": 2, \"iteration\": 87, \"train_loss\": 0.5243737697601318, \"trained_tokens\": 6920214, \"valid_loss\": null, \"perplexity\": null, \"time_since_job_start\": 580.6480996608734}\\n{\"epoch\": 2, \"iteration\": 88, \"train_loss\": 0.5253732204437256, \"trained_tokens\": 7001846, \"valid_loss\": null, \"perplexity\": null, \"time_since_job_start\": 584.2587027549744}\\n{\"epoch\": 2, \"iteration\": 89, \"train_loss\": 0.511711061000824, \"trained_tokens\": 7080838, \"valid_loss\": null, \"perplexity\": null, \"time_since_job_start\": 587.7959716320038}\\n{\"epoch\": 2, \"iteration\": 90, \"train_loss\": 0.5169757604598999, \"trained_tokens\": 7162214, \"valid_loss\": null, \"perplexity\": null, \"time_since_job_start\": 591.3717539310455}\\n{\"epoch\": 2, \"iteration\": 91, \"train_loss\": 0.5313930511474609, \"trained_tokens\": 7242134, \"valid_loss\": null, \"perplexity\": null, \"time_since_job_start\": 594.8489501476288}\\n{\"epoch\": 2, \"iteration\": 92, \"train_loss\": 0.5590187907218933, \"trained_tokens\": 7322742, \"valid_loss\": null, \"perplexity\": null, \"time_since_job_start\": 598.3343341350555}\\n{\"epoch\": 2, \"iteration\": 93, \"train_loss\": 0.5438867807388306, \"trained_tokens\": 7403638, \"valid_loss\": null, \"perplexity\": null, \"time_since_job_start\": 601.8542065620422}\\n{\"epoch\": 2, \"iteration\": 94, \"train_loss\": 0.528472900390625, \"trained_tokens\": 7484918, \"valid_loss\": null, \"perplexity\": null, \"time_since_job_start\": 605.3455545902252}\\n{\"epoch\": 2, \"iteration\": 95, \"train_loss\": 0.5456736087799072, \"trained_tokens\": 7566454, \"valid_loss\": null, \"perplexity\": null, \"time_since_job_start\": 608.8711740970612}\\n{\"epoch\": 2, \"iteration\": 96, \"train_loss\": 0.5446271896362305, \"trained_tokens\": 7648646, \"valid_loss\": null, \"perplexity\": null, \"time_since_job_start\": 612.400874376297}\\n{\"epoch\": 2, \"iteration\": 97, \"train_loss\": 0.5622169375419617, \"trained_tokens\": 7732390, \"valid_loss\": null, \"perplexity\": null, \"time_since_job_start\": 616.1260695457458}\\n{\"epoch\": 2, \"iteration\": 98, \"train_loss\": 0.5278254747390747, \"trained_tokens\": 7812614, \"valid_loss\": null, \"perplexity\": null, \"time_since_job_start\": 619.6032824516296}\\n{\"epoch\": 2, \"iteration\": 99, \"train_loss\": 0.5528652667999268, \"trained_tokens\": 7895958, \"valid_loss\": null, \"perplexity\": null, \"time_since_job_start\": 623.7873208522797}\\n{\"epoch\": 2, \"iteration\": 100, \"train_loss\": 0.5275217294692993, \"trained_tokens\": 7977590, \"valid_loss\": null, \"perplexity\": null, \"time_since_job_start\": 627.3741881847382}\\n{\"epoch\": 2, \"iteration\": 101, \"train_loss\": 0.545988142490387, \"trained_tokens\": 8058374, \"valid_loss\": null, \"perplexity\": null, \"time_since_job_start\": 630.9100072383881}\\n{\"epoch\": 2, \"iteration\": 102, \"train_loss\": 0.5304588079452515, \"trained_tokens\": 8139014, \"valid_loss\": null, \"perplexity\": null, \"time_since_job_start\": 634.4249761104584}\\n{\"epoch\": 2, \"iteration\": 103, \"train_loss\": 0.5289646983146667, \"trained_tokens\": 8221270, \"valid_loss\": null, \"perplexity\": null, \"time_since_job_start\": 638.2248191833496}\\n{\"epoch\": 2, \"iteration\": 104, \"train_loss\": 0.530909538269043, \"trained_tokens\": 8303414, \"valid_loss\": null, \"perplexity\": null, \"time_since_job_start\": 641.8044543266296}\\n{\"epoch\": 2, \"iteration\": 105, \"train_loss\": 0.5316473245620728, \"trained_tokens\": 8382774, \"valid_loss\": null, \"perplexity\": null, \"time_since_job_start\": 645.2255082130432}\\n{\"epoch\": 2, \"iteration\": 106, \"train_loss\": 0.5248740911483765, \"trained_tokens\": 8462070, \"valid_loss\": null, \"perplexity\": null, \"time_since_job_start\": 648.7588005065918}\\n{\"epoch\": 2, \"iteration\": 107, \"train_loss\": 0.5341708660125732, \"trained_tokens\": 8544166, \"valid_loss\": null, \"perplexity\": null, \"time_since_job_start\": 652.3329167366028}\\n{\"epoch\": 2, \"iteration\": 108, \"train_loss\": 0.5485009551048279, \"trained_tokens\": 8625046, \"valid_loss\": null, \"perplexity\": null, \"time_since_job_start\": 655.9039287567139}\\n{\"epoch\": 2, \"iteration\": 109, \"train_loss\": 0.5248414278030396, \"trained_tokens\": 8705718, \"valid_loss\": null, \"perplexity\": null, \"time_since_job_start\": 659.7389380931854}\\n{\"epoch\": 2, \"iteration\": 110, \"train_loss\": 0.5413495302200317, \"trained_tokens\": 8787878, \"valid_loss\": null, \"perplexity\": null, \"time_since_job_start\": 663.3331727981567}\\n{\"epoch\": 2, \"iteration\": 111, \"train_loss\": 0.535980761051178, \"trained_tokens\": 8867670, \"valid_loss\": null, \"perplexity\": null, \"time_since_job_start\": 666.8910768032074}\\n{\"epoch\": 2, \"iteration\": 112, \"train_loss\": 0.555425226688385, \"trained_tokens\": 8950390, \"valid_loss\": null, \"perplexity\": null, \"time_since_job_start\": 670.5413641929626}\\n{\"epoch\": 2, \"iteration\": 113, \"train_loss\": 0.5266416668891907, \"trained_tokens\": 9029766, \"valid_loss\": null, \"perplexity\": null, \"time_since_job_start\": 673.9817144870758}\\n{\"epoch\": 2, \"iteration\": 114, \"train_loss\": 0.49427446722984314, \"trained_tokens\": 9043977, \"valid_loss\": 0.5607431530952454, \"perplexity\": 1.7519740015308936, \"time_since_job_start\": 702.2631261348724']"
      ]
     },
     "execution_count": 27,
     "metadata": {},
     "output_type": "execute_result"
    }
   ],
   "source": [
    "json_strings"
   ]
  },
  {
   "cell_type": "code",
   "execution_count": 28,
   "id": "c9685453",
   "metadata": {},
   "outputs": [
    {
     "ename": "JSONDecodeError",
     "evalue": "Extra data: line 1 column 8 (char 7)",
     "output_type": "error",
     "traceback": [
      "\u001b[0;31m---------------------------------------------------------------------------\u001b[0m",
      "\u001b[0;31mJSONDecodeError\u001b[0m                           Traceback (most recent call last)",
      "Cell \u001b[0;32mIn[28], line 2\u001b[0m\n\u001b[1;32m      1\u001b[0m \u001b[38;5;66;03m# Converti ciascuna stringa JSON in un dizionario Python\u001b[39;00m\n\u001b[0;32m----> 2\u001b[0m list_of_dicts \u001b[38;5;241m=\u001b[39m [json\u001b[38;5;241m.\u001b[39mloads(json_str) \u001b[38;5;28;01mfor\u001b[39;00m json_str \u001b[38;5;129;01min\u001b[39;00m json_strings]\n",
      "Cell \u001b[0;32mIn[28], line 2\u001b[0m, in \u001b[0;36m<listcomp>\u001b[0;34m(.0)\u001b[0m\n\u001b[1;32m      1\u001b[0m \u001b[38;5;66;03m# Converti ciascuna stringa JSON in un dizionario Python\u001b[39;00m\n\u001b[0;32m----> 2\u001b[0m list_of_dicts \u001b[38;5;241m=\u001b[39m [\u001b[43mjson\u001b[49m\u001b[38;5;241;43m.\u001b[39;49m\u001b[43mloads\u001b[49m\u001b[43m(\u001b[49m\u001b[43mjson_str\u001b[49m\u001b[43m)\u001b[49m \u001b[38;5;28;01mfor\u001b[39;00m json_str \u001b[38;5;129;01min\u001b[39;00m json_strings]\n",
      "File \u001b[0;32m/opt/conda/lib/python3.10/json/__init__.py:346\u001b[0m, in \u001b[0;36mloads\u001b[0;34m(s, cls, object_hook, parse_float, parse_int, parse_constant, object_pairs_hook, **kw)\u001b[0m\n\u001b[1;32m    341\u001b[0m     s \u001b[38;5;241m=\u001b[39m s\u001b[38;5;241m.\u001b[39mdecode(detect_encoding(s), \u001b[38;5;124m'\u001b[39m\u001b[38;5;124msurrogatepass\u001b[39m\u001b[38;5;124m'\u001b[39m)\n\u001b[1;32m    343\u001b[0m \u001b[38;5;28;01mif\u001b[39;00m (\u001b[38;5;28mcls\u001b[39m \u001b[38;5;129;01mis\u001b[39;00m \u001b[38;5;28;01mNone\u001b[39;00m \u001b[38;5;129;01mand\u001b[39;00m object_hook \u001b[38;5;129;01mis\u001b[39;00m \u001b[38;5;28;01mNone\u001b[39;00m \u001b[38;5;129;01mand\u001b[39;00m\n\u001b[1;32m    344\u001b[0m         parse_int \u001b[38;5;129;01mis\u001b[39;00m \u001b[38;5;28;01mNone\u001b[39;00m \u001b[38;5;129;01mand\u001b[39;00m parse_float \u001b[38;5;129;01mis\u001b[39;00m \u001b[38;5;28;01mNone\u001b[39;00m \u001b[38;5;129;01mand\u001b[39;00m\n\u001b[1;32m    345\u001b[0m         parse_constant \u001b[38;5;129;01mis\u001b[39;00m \u001b[38;5;28;01mNone\u001b[39;00m \u001b[38;5;129;01mand\u001b[39;00m object_pairs_hook \u001b[38;5;129;01mis\u001b[39;00m \u001b[38;5;28;01mNone\u001b[39;00m \u001b[38;5;129;01mand\u001b[39;00m \u001b[38;5;129;01mnot\u001b[39;00m kw):\n\u001b[0;32m--> 346\u001b[0m     \u001b[38;5;28;01mreturn\u001b[39;00m \u001b[43m_default_decoder\u001b[49m\u001b[38;5;241;43m.\u001b[39;49m\u001b[43mdecode\u001b[49m\u001b[43m(\u001b[49m\u001b[43ms\u001b[49m\u001b[43m)\u001b[49m\n\u001b[1;32m    347\u001b[0m \u001b[38;5;28;01mif\u001b[39;00m \u001b[38;5;28mcls\u001b[39m \u001b[38;5;129;01mis\u001b[39;00m \u001b[38;5;28;01mNone\u001b[39;00m:\n\u001b[1;32m    348\u001b[0m     \u001b[38;5;28mcls\u001b[39m \u001b[38;5;241m=\u001b[39m JSONDecoder\n",
      "File \u001b[0;32m/opt/conda/lib/python3.10/json/decoder.py:340\u001b[0m, in \u001b[0;36mJSONDecoder.decode\u001b[0;34m(self, s, _w)\u001b[0m\n\u001b[1;32m    338\u001b[0m end \u001b[38;5;241m=\u001b[39m _w(s, end)\u001b[38;5;241m.\u001b[39mend()\n\u001b[1;32m    339\u001b[0m \u001b[38;5;28;01mif\u001b[39;00m end \u001b[38;5;241m!=\u001b[39m \u001b[38;5;28mlen\u001b[39m(s):\n\u001b[0;32m--> 340\u001b[0m     \u001b[38;5;28;01mraise\u001b[39;00m JSONDecodeError(\u001b[38;5;124m\"\u001b[39m\u001b[38;5;124mExtra data\u001b[39m\u001b[38;5;124m\"\u001b[39m, s, end)\n\u001b[1;32m    341\u001b[0m \u001b[38;5;28;01mreturn\u001b[39;00m obj\n",
      "\u001b[0;31mJSONDecodeError\u001b[0m: Extra data: line 1 column 8 (char 7)"
     ]
    }
   ],
   "source": [
    "# Converti ciascuna stringa JSON in un dizionario Python\n",
    "list_of_dicts = [json.loads(json_str) for json_str in json_strings]"
   ]
  },
  {
   "cell_type": "code",
   "execution_count": null,
   "id": "ff48286e",
   "metadata": {},
   "outputs": [],
   "source": [
    "# Stampa il risultato\n",
    "for d in list_of_dicts:\n",
    "    print(d)"
   ]
  },
  {
   "cell_type": "code",
   "execution_count": 29,
   "id": "60818ad5",
   "metadata": {},
   "outputs": [
    {
     "ename": "SyntaxError",
     "evalue": "unterminated string literal (detected at line 1) (<string>, line 1)",
     "output_type": "error",
     "traceback": [
      "Traceback \u001b[0;36m(most recent call last)\u001b[0m:\n",
      "\u001b[0m  File \u001b[1;32m/opt/conda/lib/python3.10/site-packages/IPython/core/interactiveshell.py:3442\u001b[0m in \u001b[1;35mrun_code\u001b[0m\n    exec(code_obj, self.user_global_ns, self.user_ns)\u001b[0m\n",
      "\u001b[0m  Cell \u001b[1;32mIn[29], line 11\u001b[0m\n    list_of_dicts = [eval(json_str) for json_str in json_strings]\u001b[0m\n",
      "\u001b[0;36m  Cell \u001b[0;32mIn[29], line 11\u001b[0;36m in \u001b[0;35m<listcomp>\u001b[0;36m\n\u001b[0;31m    list_of_dicts = [eval(json_str) for json_str in json_strings]\u001b[0;36m\n",
      "\u001b[0;36m  File \u001b[0;32m<string>:1\u001b[0;36m\u001b[0m\n\u001b[0;31m    epoch\": 0, \"iteration\": 1, \"train_loss\": 1.4674596786499023, \"trained_tokens\": 83440, \"valid_loss\": None, \"perplexity\": None, \"time_since_job_start\": 197.77007579803467}\u001b[0m\n\u001b[0m                                                                                                                                                       ^\u001b[0m\n\u001b[0;31mSyntaxError\u001b[0m\u001b[0;31m:\u001b[0m unterminated string literal (detected at line 1)\n"
     ]
    }
   ],
   "source": [
    "# Rimuovi gli apici esterni\n",
    "data = data.strip()[1:-1]\n",
    "\n",
    "# Sostituisci \"null\" con \"None\" per renderlo compatibile con il parsing JSON di Python\n",
    "data = data.replace(\"null\", \"None\")\n",
    "\n",
    "# Dividi la stringa in base ai caratteri di nuova linea\n",
    "json_strings = data.split('\\\\n')\n",
    "\n",
    "# Converti ciascuna stringa JSON in un dizionario Python\n",
    "list_of_dicts = [eval(json_str) for json_str in json_strings]\n",
    "\n",
    "# Stampa il risultato\n",
    "for d in list_of_dicts:\n",
    "    print(d)"
   ]
  },
  {
   "cell_type": "code",
   "execution_count": 30,
   "id": "e9b69921",
   "metadata": {},
   "outputs": [
    {
     "ename": "JSONDecodeError",
     "evalue": "Expecting value: line 1 column 1 (char 0)",
     "output_type": "error",
     "traceback": [
      "\u001b[0;31m---------------------------------------------------------------------------\u001b[0m",
      "\u001b[0;31mJSONDecodeError\u001b[0m                           Traceback (most recent call last)",
      "Cell \u001b[0;32mIn[30], line 12\u001b[0m\n\u001b[1;32m      9\u001b[0m json_strings \u001b[38;5;241m=\u001b[39m [s\u001b[38;5;241m.\u001b[39mreplace(\u001b[38;5;124m'\u001b[39m\u001b[38;5;124m\"\u001b[39m\u001b[38;5;124mNone\u001b[39m\u001b[38;5;124m\"\u001b[39m\u001b[38;5;124m'\u001b[39m, \u001b[38;5;124m'\u001b[39m\u001b[38;5;124mnull\u001b[39m\u001b[38;5;124m'\u001b[39m) \u001b[38;5;28;01mfor\u001b[39;00m s \u001b[38;5;129;01min\u001b[39;00m json_strings]  \u001b[38;5;66;03m# Revert to valid JSON\u001b[39;00m\n\u001b[1;32m     11\u001b[0m \u001b[38;5;66;03m# Converti ciascuna stringa JSON in un dizionario Python\u001b[39;00m\n\u001b[0;32m---> 12\u001b[0m list_of_dicts \u001b[38;5;241m=\u001b[39m [json\u001b[38;5;241m.\u001b[39mloads(s) \u001b[38;5;28;01mfor\u001b[39;00m s \u001b[38;5;129;01min\u001b[39;00m json_strings]\n\u001b[1;32m     14\u001b[0m \u001b[38;5;66;03m# Stampa il risultato\u001b[39;00m\n\u001b[1;32m     15\u001b[0m \u001b[38;5;28;01mfor\u001b[39;00m d \u001b[38;5;129;01min\u001b[39;00m list_of_dicts:\n",
      "Cell \u001b[0;32mIn[30], line 12\u001b[0m, in \u001b[0;36m<listcomp>\u001b[0;34m(.0)\u001b[0m\n\u001b[1;32m      9\u001b[0m json_strings \u001b[38;5;241m=\u001b[39m [s\u001b[38;5;241m.\u001b[39mreplace(\u001b[38;5;124m'\u001b[39m\u001b[38;5;124m\"\u001b[39m\u001b[38;5;124mNone\u001b[39m\u001b[38;5;124m\"\u001b[39m\u001b[38;5;124m'\u001b[39m, \u001b[38;5;124m'\u001b[39m\u001b[38;5;124mnull\u001b[39m\u001b[38;5;124m'\u001b[39m) \u001b[38;5;28;01mfor\u001b[39;00m s \u001b[38;5;129;01min\u001b[39;00m json_strings]  \u001b[38;5;66;03m# Revert to valid JSON\u001b[39;00m\n\u001b[1;32m     11\u001b[0m \u001b[38;5;66;03m# Converti ciascuna stringa JSON in un dizionario Python\u001b[39;00m\n\u001b[0;32m---> 12\u001b[0m list_of_dicts \u001b[38;5;241m=\u001b[39m [\u001b[43mjson\u001b[49m\u001b[38;5;241;43m.\u001b[39;49m\u001b[43mloads\u001b[49m\u001b[43m(\u001b[49m\u001b[43ms\u001b[49m\u001b[43m)\u001b[49m \u001b[38;5;28;01mfor\u001b[39;00m s \u001b[38;5;129;01min\u001b[39;00m json_strings]\n\u001b[1;32m     14\u001b[0m \u001b[38;5;66;03m# Stampa il risultato\u001b[39;00m\n\u001b[1;32m     15\u001b[0m \u001b[38;5;28;01mfor\u001b[39;00m d \u001b[38;5;129;01min\u001b[39;00m list_of_dicts:\n",
      "File \u001b[0;32m/opt/conda/lib/python3.10/json/__init__.py:346\u001b[0m, in \u001b[0;36mloads\u001b[0;34m(s, cls, object_hook, parse_float, parse_int, parse_constant, object_pairs_hook, **kw)\u001b[0m\n\u001b[1;32m    341\u001b[0m     s \u001b[38;5;241m=\u001b[39m s\u001b[38;5;241m.\u001b[39mdecode(detect_encoding(s), \u001b[38;5;124m'\u001b[39m\u001b[38;5;124msurrogatepass\u001b[39m\u001b[38;5;124m'\u001b[39m)\n\u001b[1;32m    343\u001b[0m \u001b[38;5;28;01mif\u001b[39;00m (\u001b[38;5;28mcls\u001b[39m \u001b[38;5;129;01mis\u001b[39;00m \u001b[38;5;28;01mNone\u001b[39;00m \u001b[38;5;129;01mand\u001b[39;00m object_hook \u001b[38;5;129;01mis\u001b[39;00m \u001b[38;5;28;01mNone\u001b[39;00m \u001b[38;5;129;01mand\u001b[39;00m\n\u001b[1;32m    344\u001b[0m         parse_int \u001b[38;5;129;01mis\u001b[39;00m \u001b[38;5;28;01mNone\u001b[39;00m \u001b[38;5;129;01mand\u001b[39;00m parse_float \u001b[38;5;129;01mis\u001b[39;00m \u001b[38;5;28;01mNone\u001b[39;00m \u001b[38;5;129;01mand\u001b[39;00m\n\u001b[1;32m    345\u001b[0m         parse_constant \u001b[38;5;129;01mis\u001b[39;00m \u001b[38;5;28;01mNone\u001b[39;00m \u001b[38;5;129;01mand\u001b[39;00m object_pairs_hook \u001b[38;5;129;01mis\u001b[39;00m \u001b[38;5;28;01mNone\u001b[39;00m \u001b[38;5;129;01mand\u001b[39;00m \u001b[38;5;129;01mnot\u001b[39;00m kw):\n\u001b[0;32m--> 346\u001b[0m     \u001b[38;5;28;01mreturn\u001b[39;00m \u001b[43m_default_decoder\u001b[49m\u001b[38;5;241;43m.\u001b[39;49m\u001b[43mdecode\u001b[49m\u001b[43m(\u001b[49m\u001b[43ms\u001b[49m\u001b[43m)\u001b[49m\n\u001b[1;32m    347\u001b[0m \u001b[38;5;28;01mif\u001b[39;00m \u001b[38;5;28mcls\u001b[39m \u001b[38;5;129;01mis\u001b[39;00m \u001b[38;5;28;01mNone\u001b[39;00m:\n\u001b[1;32m    348\u001b[0m     \u001b[38;5;28mcls\u001b[39m \u001b[38;5;241m=\u001b[39m JSONDecoder\n",
      "File \u001b[0;32m/opt/conda/lib/python3.10/json/decoder.py:337\u001b[0m, in \u001b[0;36mJSONDecoder.decode\u001b[0;34m(self, s, _w)\u001b[0m\n\u001b[1;32m    332\u001b[0m \u001b[38;5;28;01mdef\u001b[39;00m \u001b[38;5;21mdecode\u001b[39m(\u001b[38;5;28mself\u001b[39m, s, _w\u001b[38;5;241m=\u001b[39mWHITESPACE\u001b[38;5;241m.\u001b[39mmatch):\n\u001b[1;32m    333\u001b[0m \u001b[38;5;250m    \u001b[39m\u001b[38;5;124;03m\"\"\"Return the Python representation of ``s`` (a ``str`` instance\u001b[39;00m\n\u001b[1;32m    334\u001b[0m \u001b[38;5;124;03m    containing a JSON document).\u001b[39;00m\n\u001b[1;32m    335\u001b[0m \n\u001b[1;32m    336\u001b[0m \u001b[38;5;124;03m    \"\"\"\u001b[39;00m\n\u001b[0;32m--> 337\u001b[0m     obj, end \u001b[38;5;241m=\u001b[39m \u001b[38;5;28;43mself\u001b[39;49m\u001b[38;5;241;43m.\u001b[39;49m\u001b[43mraw_decode\u001b[49m\u001b[43m(\u001b[49m\u001b[43ms\u001b[49m\u001b[43m,\u001b[49m\u001b[43m \u001b[49m\u001b[43midx\u001b[49m\u001b[38;5;241;43m=\u001b[39;49m\u001b[43m_w\u001b[49m\u001b[43m(\u001b[49m\u001b[43ms\u001b[49m\u001b[43m,\u001b[49m\u001b[43m \u001b[49m\u001b[38;5;241;43m0\u001b[39;49m\u001b[43m)\u001b[49m\u001b[38;5;241;43m.\u001b[39;49m\u001b[43mend\u001b[49m\u001b[43m(\u001b[49m\u001b[43m)\u001b[49m\u001b[43m)\u001b[49m\n\u001b[1;32m    338\u001b[0m     end \u001b[38;5;241m=\u001b[39m _w(s, end)\u001b[38;5;241m.\u001b[39mend()\n\u001b[1;32m    339\u001b[0m     \u001b[38;5;28;01mif\u001b[39;00m end \u001b[38;5;241m!=\u001b[39m \u001b[38;5;28mlen\u001b[39m(s):\n",
      "File \u001b[0;32m/opt/conda/lib/python3.10/json/decoder.py:355\u001b[0m, in \u001b[0;36mJSONDecoder.raw_decode\u001b[0;34m(self, s, idx)\u001b[0m\n\u001b[1;32m    353\u001b[0m     obj, end \u001b[38;5;241m=\u001b[39m \u001b[38;5;28mself\u001b[39m\u001b[38;5;241m.\u001b[39mscan_once(s, idx)\n\u001b[1;32m    354\u001b[0m \u001b[38;5;28;01mexcept\u001b[39;00m \u001b[38;5;167;01mStopIteration\u001b[39;00m \u001b[38;5;28;01mas\u001b[39;00m err:\n\u001b[0;32m--> 355\u001b[0m     \u001b[38;5;28;01mraise\u001b[39;00m JSONDecodeError(\u001b[38;5;124m\"\u001b[39m\u001b[38;5;124mExpecting value\u001b[39m\u001b[38;5;124m\"\u001b[39m, s, err\u001b[38;5;241m.\u001b[39mvalue) \u001b[38;5;28;01mfrom\u001b[39;00m \u001b[38;5;28mNone\u001b[39m\n\u001b[1;32m    356\u001b[0m \u001b[38;5;28;01mreturn\u001b[39;00m obj, end\n",
      "\u001b[0;31mJSONDecodeError\u001b[0m: Expecting value: line 1 column 1 (char 0)"
     ]
    }
   ],
   "source": [
    "# Rimuovi gli apici esterni\n",
    "data = data.strip()[1:-1]\n",
    "\n",
    "# Sostituisci \"null\" con \"None\"\n",
    "data = data.replace(\"null\", \"None\")\n",
    "\n",
    "# Ripristina gli apici singoli attorno ai valori di testo\n",
    "json_strings = data.split('\\\\n')\n",
    "json_strings = [s.replace('\"None\"', 'null') for s in json_strings]  # Revert to valid JSON\n",
    "\n",
    "# Converti ciascuna stringa JSON in un dizionario Python\n",
    "list_of_dicts = [json.loads(s) for s in json_strings]\n",
    "\n",
    "# Stampa il risultato\n",
    "for d in list_of_dicts:\n",
    "    print(d)"
   ]
  },
  {
   "cell_type": "code",
   "execution_count": null,
   "id": "9d29fc3b",
   "metadata": {},
   "outputs": [],
   "source": []
  }
 ],
 "metadata": {
  "kernelspec": {
   "display_name": "Python 3 (ipykernel)",
   "language": "python",
   "name": "python3"
  },
  "language_info": {
   "codemirror_mode": {
    "name": "ipython",
    "version": 3
   },
   "file_extension": ".py",
   "mimetype": "text/x-python",
   "name": "python",
   "nbconvert_exporter": "python",
   "pygments_lexer": "ipython3",
   "version": "3.10.8"
  }
 },
 "nbformat": 4,
 "nbformat_minor": 5
}
