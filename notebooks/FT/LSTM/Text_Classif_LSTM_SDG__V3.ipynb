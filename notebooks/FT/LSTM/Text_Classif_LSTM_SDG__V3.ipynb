{
  "cells": [
    {
      "cell_type": "code",
      "execution_count": null,
      "metadata": {
        "id": "6DbPlUAVkAv2"
      },
      "outputs": [],
      "source": [
        "# AGGIUNTO DROPOUT E UTILIZZO DELLA GPU\n",
        "# AGGIUNTO TOKENIZER GLOVE"
      ]
    },
    {
      "cell_type": "markdown",
      "metadata": {
        "id": "MtCWNjEVkAv7"
      },
      "source": [
        "# Import libraries"
      ]
    },
    {
      "cell_type": "markdown",
      "metadata": {
        "id": "I3gDyqXskAv9"
      },
      "source": []
    },
    {
      "cell_type": "markdown",
      "metadata": {
        "id": "0WPGy4HUkAv9"
      },
      "source": []
    },
    {
      "cell_type": "code",
      "execution_count": null,
      "metadata": {
        "id": "yXUmT9IbkAv9"
      },
      "outputs": [],
      "source": [
        "# !pip install nltk==3.7\n",
        "# !pip install numpy==1.21.5\n",
        "# !pip install pandas==1.3.5\n",
        "# !pip install scikit_learn==1.0.2\n",
        "# !pip install tensorflow==2.7.0\n",
        "# !pip install torch==1.10.2\n",
        "# !pip install matplotlib==3.4.3"
      ]
    },
    {
      "cell_type": "code",
      "execution_count": null,
      "metadata": {
        "id": "SqW-HqXiVVpU",
        "outputId": "f9c37099-af23-464a-fdfa-fd84bf526e9b"
      },
      "outputs": [
        {
          "name": "stderr",
          "output_type": "stream",
          "text": [
            "[nltk_data] Downloading package stopwords to /home/tora/nltk_data...\n",
            "[nltk_data]   Package stopwords is already up-to-date!\n"
          ]
        },
        {
          "data": {
            "text/plain": [
              "True"
            ]
          },
          "execution_count": 15,
          "metadata": {},
          "output_type": "execute_result"
        }
      ],
      "source": [
        "# Importing Necessary libraries\n",
        "import re\n",
        "import nltk\n",
        "import time\n",
        "import torch\n",
        "import string\n",
        "import numpy as np\n",
        "import pandas as pd\n",
        "import torch.nn as nn\n",
        "# import tensorflow as tf\n",
        "\n",
        "nltk.download('stopwords')"
      ]
    },
    {
      "cell_type": "code",
      "execution_count": null,
      "metadata": {
        "id": "WgInNrc1kAwA",
        "outputId": "1b802433-d3c8-43ec-f0e4-db321d5e6b4c"
      },
      "outputs": [
        {
          "name": "stdout",
          "output_type": "stream",
          "text": [
            "torch: 2.5.1+cu121\n",
            "built with CUDA: True\n",
            "torch CUDA version: 12.1\n",
            "device_count: 1\n",
            "python: 3.12.3\n"
          ]
        }
      ],
      "source": [
        "import torch, platform\n",
        "print(\"torch:\", torch.__version__)\n",
        "print(\"built with CUDA:\", torch.backends.cuda.is_built())\n",
        "print(\"torch CUDA version:\", torch.version.cuda)\n",
        "print(\"device_count:\", torch.cuda.device_count())\n",
        "print(\"python:\", platform.python_version())"
      ]
    },
    {
      "cell_type": "code",
      "execution_count": null,
      "metadata": {
        "id": "xw3GDW9bkAwB",
        "outputId": "229f8dc1-7127-4115-d469-e52949ec1605"
      },
      "outputs": [
        {
          "data": {
            "text/plain": [
              "False"
            ]
          },
          "execution_count": 17,
          "metadata": {},
          "output_type": "execute_result"
        }
      ],
      "source": [
        "torch.cuda.is_available()"
      ]
    },
    {
      "cell_type": "code",
      "execution_count": null,
      "metadata": {
        "id": "jyk2nuXKkAwB"
      },
      "outputs": [],
      "source": [
        "# import torch\n",
        "# print(torch.__version__, torch.version.cuda, torch.cuda.is_available())\n",
        "# print(torch.cuda.get_device_name(0))"
      ]
    },
    {
      "cell_type": "code",
      "execution_count": null,
      "metadata": {
        "id": "wBKxBy_kkAwC",
        "outputId": "d3552a4d-6641-4ba4-b880-e1501ec81897"
      },
      "outputs": [
        {
          "name": "stdout",
          "output_type": "stream",
          "text": [
            "Using device: cpu\n"
          ]
        }
      ],
      "source": [
        "# Check if CUDA is available and set the device\n",
        "device = torch.device('cuda' if torch.cuda.is_available() else 'cpu')\n",
        "print(f\"Using device: {device}\")"
      ]
    },
    {
      "cell_type": "code",
      "execution_count": null,
      "metadata": {
        "id": "LvNJYTk9kAwC"
      },
      "outputs": [],
      "source": [
        "# from tensorflow import keras\n",
        "from nltk import PorterStemmer\n",
        "import torch.nn.functional as F\n",
        "import matplotlib.pyplot as plt\n",
        "from nltk.corpus import stopwords\n",
        "from sklearn.utils import resample\n",
        "from sklearn.model_selection import train_test_split\n"
      ]
    },
    {
      "cell_type": "markdown",
      "metadata": {
        "id": "gtvhHzOYkAwC"
      },
      "source": [
        "---"
      ]
    },
    {
      "cell_type": "markdown",
      "metadata": {
        "id": "AX3D0BeaDXjO"
      },
      "source": [
        "# Reading the Data"
      ]
    },
    {
      "cell_type": "code",
      "execution_count": null,
      "metadata": {
        "id": "1rDEMAW8Vq9e"
      },
      "outputs": [],
      "source": [
        "# Reading data\n",
        "train_data = pd.read_excel('../SDG_dataset/sdg_17_labels_classification_dataset_4760_texts_TRAIN_2023.12.11.xlsx')\n",
        "# train_data.head()"
      ]
    },
    {
      "cell_type": "code",
      "execution_count": null,
      "metadata": {
        "id": "m1i8fPzFkAwD"
      },
      "outputs": [],
      "source": [
        "# Reading data\n",
        "validation_data = pd.read_excel('../SDG_dataset/sdg_17_labels_classification_dataset_1020_texts_DEV_2023.12.11.xlsx')\n",
        "# validation_data.head()"
      ]
    },
    {
      "cell_type": "code",
      "execution_count": null,
      "metadata": {
        "id": "W7zBzY9VkAwD"
      },
      "outputs": [],
      "source": [
        "# Reading data\n",
        "test_data = pd.read_excel('../SDG_dataset/sdg_17_labels_classification_dataset_1020_texts_TEST_2023.12.11.xlsx')\n",
        "# test_data.head()"
      ]
    },
    {
      "cell_type": "markdown",
      "metadata": {
        "id": "jZaReM1qDiKY"
      },
      "source": [
        "# Information About Dataset"
      ]
    },
    {
      "cell_type": "code",
      "execution_count": null,
      "metadata": {
        "id": "rg1YLD7xVyEg"
      },
      "outputs": [],
      "source": [
        "# train_data.info()"
      ]
    },
    {
      "cell_type": "code",
      "execution_count": null,
      "metadata": {
        "id": "ox7Vf90bkAwE"
      },
      "outputs": [],
      "source": [
        "# validation_data.info()"
      ]
    },
    {
      "cell_type": "code",
      "execution_count": null,
      "metadata": {
        "id": "6Dmc1zuaWKV4"
      },
      "outputs": [],
      "source": [
        "pd.set_option('display.max_colwidth', None)"
      ]
    },
    {
      "cell_type": "code",
      "execution_count": null,
      "metadata": {
        "id": "UotzM64FV4b8"
      },
      "outputs": [],
      "source": [
        "# Selecting the needed Column\n",
        "\n",
        "train_data = train_data[['text','sdg']]\n",
        "# train_data"
      ]
    },
    {
      "cell_type": "markdown",
      "metadata": {
        "id": "fFmZlARukAwE"
      },
      "source": [
        "---"
      ]
    },
    {
      "cell_type": "markdown",
      "metadata": {
        "id": "AbFMlvE_VuK8"
      },
      "source": [
        "# Function to Clean the Text"
      ]
    },
    {
      "cell_type": "code",
      "execution_count": null,
      "metadata": {
        "id": "tN71AhDCWBif"
      },
      "outputs": [],
      "source": [
        "def clean_text(txt):\n",
        "    \"\"\"\n",
        "    Clean and preprocess text data.\n",
        "    :param txt: Input text to be cleaned\n",
        "    :return: Cleaned text\n",
        "    \"\"\"\n",
        "    # Convert text to lowercase\n",
        "    txt = txt.lower()\n",
        "\n",
        "    # Remove all special characters, including apostrophes\n",
        "    txt = re.sub(r'\\W', ' ', str(txt))\n",
        "\n",
        "    # Remove punctuations\n",
        "    txt = txt.translate(str.maketrans('', '', string.punctuation))\n",
        "\n",
        "    # Remove digits\n",
        "    txt = ''.join([i for i in txt if not i.isdigit()]).strip()\n",
        "\n",
        "    # Remove single characters (e.g., \"it's\" -> \"it s\" then remove \"s\")\n",
        "    txt = re.sub(r'\\s+[a-zA-Z]\\s+', ' ', txt)\n",
        "\n",
        "    # Substitute multiple spaces with a single space\n",
        "    txt = re.sub(r'\\s+', ' ', txt, flags=re.I)\n",
        "\n",
        "    # Remove links (e.g., \"http://example.com\" -> \"\")\n",
        "    txt = re.sub(r\"(http\\S+|http)\", \"\", txt)\n",
        "\n",
        "    # Tokenize the text, stem words, and remove English stopwords\n",
        "    txt = ' '.join([PorterStemmer().stem(word=word) for word in txt.split(\" \") if word not in stopwords.words('english')])\n",
        "\n",
        "    return txt\n"
      ]
    },
    {
      "cell_type": "markdown",
      "metadata": {
        "id": "xkJZpsHakAwE"
      },
      "source": [
        "---"
      ]
    },
    {
      "cell_type": "markdown",
      "metadata": {
        "id": "3OZGtypvV1FK"
      },
      "source": [
        "# Comparison Between Orginal Text and Processed Text"
      ]
    },
    {
      "cell_type": "code",
      "execution_count": null,
      "metadata": {
        "id": "SamWezXOYtTw",
        "outputId": "723d7d0c-fe4e-4385-93d9-bb41d6040410"
      },
      "outputs": [
        {
          "name": "stdout",
          "output_type": "stream",
          "text": [
            "Original Text :  'League Of Legends' unveils new Arena game mode  NMESoul Fighter | Official Event Teaser - Riot Games  League of LegendsRiot Games Soul Fighter 2023 Everything You Need to Know  Riot GamesRiot Games - Official Soul Fighter Event Trailer  IGNRiot Games Reveals Cross Game Summer Event “Soul Fighter” Beginning July 20 in Wild Rift, Runeterra, and Teamfight Tactics – TouchArcade  Touch ArcadeView Full Coverage on Google News.\n",
            "Processed Text :  leagu legend unveil new arena game mode nmesoul fighter offici event teaser riot game leagu legendsriot game soul fighter everyth need know riot gamesriot game offici soul fighter event trailer ignriot game reveal cross game summer event soul fighter begin juli wild rift runeterra teamfight tactic toucharcad touch arcadeview full coverag googl news\n"
          ]
        }
      ],
      "source": [
        "print('Original Text : ',train_data['text'][1])\n",
        "print('Processed Text : ',clean_text(train_data['text'][1]))"
      ]
    },
    {
      "cell_type": "markdown",
      "metadata": {
        "id": "UlK6bDHskAwF"
      },
      "source": [
        "---"
      ]
    },
    {
      "cell_type": "markdown",
      "metadata": {
        "id": "EFFaQRJlWAle"
      },
      "source": [
        "# Applying the Function to the Dataset"
      ]
    },
    {
      "cell_type": "code",
      "execution_count": null,
      "metadata": {
        "id": "sUsM5_YTY21t"
      },
      "outputs": [],
      "source": [
        "train_data['text'] = train_data['text'].apply(clean_text)  # Apply the 'clean_text' function to every text in the 'text' column\n",
        "validation_data['text'] = validation_data['text'].apply(clean_text)  # Apply the 'clean_text' function to every text in the 'text' column\n",
        "test_data['text'] = test_data['text'].apply(clean_text)  # Apply the 'clean_text' function to every text in the 'text' column\n",
        "\n",
        "# train_data"
      ]
    },
    {
      "cell_type": "markdown",
      "metadata": {
        "id": "QXmJWPqDkAwF"
      },
      "source": [
        "---"
      ]
    },
    {
      "cell_type": "markdown",
      "metadata": {
        "id": "tO5yFh24WIdQ"
      },
      "source": [
        "# Distribution of Classes in the dataset"
      ]
    },
    {
      "cell_type": "code",
      "execution_count": null,
      "metadata": {
        "id": "2YWBMroMp6Rq"
      },
      "outputs": [],
      "source": [
        "# train_data.sdg.value_counts()"
      ]
    },
    {
      "cell_type": "code",
      "execution_count": null,
      "metadata": {
        "id": "9_YrV9nOkAwG"
      },
      "outputs": [],
      "source": [
        "# validation_data.sdg.value_counts()"
      ]
    },
    {
      "cell_type": "markdown",
      "metadata": {
        "id": "rtasSCdYiXlS"
      },
      "source": [
        "# Defining the Parameters and Tokenizer"
      ]
    },
    {
      "cell_type": "code",
      "execution_count": null,
      "metadata": {
        "id": "Ox82J2pHkAwG"
      },
      "outputs": [],
      "source": [
        "# !pip install tensorflow==2.0.0 --upgrade --force-reinstall"
      ]
    },
    {
      "cell_type": "code",
      "execution_count": null,
      "metadata": {
        "id": "jjp7SOYz8wzG",
        "outputId": "ae283a4a-f864-409c-fe05-87c46cc0fd8d"
      },
      "outputs": [
        {
          "name": "stderr",
          "output_type": "stream",
          "text": [
            "<>:15: SyntaxWarning: invalid escape sequence '\\]'\n",
            "<>:15: SyntaxWarning: invalid escape sequence '\\]'\n",
            "/tmp/ipykernel_8717/1962782690.py:15: SyntaxWarning: invalid escape sequence '\\]'\n",
            "  tokenizer = Tokenizer(num_words=MAX_NB_WORDS, filters='!\"#$%&()*+,-./:;<=>?@[\\]^_`{|}~', lower=True)\n",
            "2025-08-11 19:07:38.814265: E external/local_xla/xla/stream_executor/cuda/cuda_fft.cc:467] Unable to register cuFFT factory: Attempting to register factory for plugin cuFFT when one has already been registered\n",
            "WARNING: All log messages before absl::InitializeLog() is called are written to STDERR\n",
            "E0000 00:00:1754932058.850819    8717 cuda_dnn.cc:8579] Unable to register cuDNN factory: Attempting to register factory for plugin cuDNN when one has already been registered\n",
            "E0000 00:00:1754932058.859562    8717 cuda_blas.cc:1407] Unable to register cuBLAS factory: Attempting to register factory for plugin cuBLAS when one has already been registered\n",
            "W0000 00:00:1754932058.879487    8717 computation_placer.cc:177] computation placer already registered. Please check linkage and avoid linking the same target more than once.\n",
            "W0000 00:00:1754932058.879516    8717 computation_placer.cc:177] computation placer already registered. Please check linkage and avoid linking the same target more than once.\n",
            "W0000 00:00:1754932058.879521    8717 computation_placer.cc:177] computation placer already registered. Please check linkage and avoid linking the same target more than once.\n",
            "W0000 00:00:1754932058.879525    8717 computation_placer.cc:177] computation placer already registered. Please check linkage and avoid linking the same target more than once.\n",
            "2025-08-11 19:07:38.891514: I tensorflow/core/platform/cpu_feature_guard.cc:210] This TensorFlow binary is optimized to use available CPU instructions in performance-critical operations.\n",
            "To enable the following instructions: AVX2 FMA, in other operations, rebuild TensorFlow with the appropriate compiler flags.\n"
          ]
        },
        {
          "name": "stdout",
          "output_type": "stream",
          "text": [
            "Found 14154 unique tokens.\n"
          ]
        }
      ],
      "source": [
        "# Import necessary libraries\n",
        "from tensorflow.keras.preprocessing.text import Tokenizer\n",
        "from tensorflow.keras.preprocessing.sequence import pad_sequences\n",
        "\n",
        "# Define the maximum number of words to be used (most frequent)\n",
        "MAX_NB_WORDS = 4000 #2000\n",
        "\n",
        "# Define the maximum number of words in each content\n",
        "MAX_SEQUENCE_LENGTH = 600\n",
        "\n",
        "# Define the embedding dimension\n",
        "EMBEDDING_DIM = 100\n",
        "\n",
        "# Create a Keras Tokenizer with specified parameters\n",
        "tokenizer = Tokenizer(num_words=MAX_NB_WORDS, filters='!\"#$%&()*+,-./:;<=>?@[\\]^_`{|}~', lower=True)\n",
        "\n",
        "# Fit the tokenizer on the 'text' values of the 'train_data' DataFrame\n",
        "tokenizer.fit_on_texts(train_data['text'].values)\n",
        "\n",
        "# Build a word index based on the fitted tokenizer\n",
        "word_index = tokenizer.word_index\n",
        "\n",
        "# Print the number of unique tokens found\n",
        "print('Found %s unique tokens.' % len(word_index))\n"
      ]
    },
    {
      "cell_type": "code",
      "execution_count": null,
      "metadata": {
        "id": "n_9tXY3wZXOR",
        "outputId": "832e5d8f-ef19-48c3-fc91-ad2e37c8b935"
      },
      "outputs": [
        {
          "name": "stdout",
          "output_type": "stream",
          "text": [
            "Shape of data tensor: 600\n"
          ]
        }
      ],
      "source": [
        "# Tokenize the 'text' values of the 'train_data' DataFrame using the fitted tokenizer\n",
        "X_train = tokenizer.texts_to_sequences(train_data['text'].values)\n",
        "\n",
        "# Pad the sequences to ensure they all have a consistent length\n",
        "X_train = pad_sequences(X_train, maxlen=MAX_SEQUENCE_LENGTH)\n",
        "\n",
        "# Print the shape of the data tensor (X)\n",
        "print('Shape of data tensor:', X_train.shape[1])\n"
      ]
    },
    {
      "cell_type": "code",
      "execution_count": null,
      "metadata": {
        "id": "IQogXdMRZuIv",
        "outputId": "b4f5bb0a-f979-4fb4-cb5e-d94deb982945"
      },
      "outputs": [
        {
          "name": "stdout",
          "output_type": "stream",
          "text": [
            "(4760,)\n",
            "[ 0  1  2  3  4  5  6  7  8  9 10 11 12 13 14 15 16]\n"
          ]
        },
        {
          "data": {
            "text/plain": [
              "dtype('int64')"
            ]
          },
          "execution_count": 36,
          "metadata": {},
          "output_type": "execute_result"
        }
      ],
      "source": [
        "# Import the necessary library\n",
        "from sklearn.preprocessing import LabelEncoder\n",
        "\n",
        "# Create a LabelEncoder instance\n",
        "le = LabelEncoder()\n",
        "\n",
        "# Fit the LabelEncoder on the 'sdg' column of the 'dtrain_data' DataFrame and transform it into numerical labels\n",
        "Y_train = le.fit_transform(train_data['sdg'])\n",
        "\n",
        "# Print the shape of the transformed labels (Y_train)\n",
        "print(Y_train.shape)\n",
        "\n",
        "# Print the unique classes that were encoded\n",
        "print(le.classes_)\n",
        "\n",
        "# Print the data type of the encoded labels\n",
        "Y_train.dtype\n"
      ]
    },
    {
      "cell_type": "code",
      "execution_count": null,
      "metadata": {
        "id": "jA05VitFkAwM",
        "outputId": "9e7326a9-9cce-42ce-e3d0-9be574bb0df2"
      },
      "outputs": [
        {
          "name": "stdout",
          "output_type": "stream",
          "text": [
            "Shape of data tensor: 600\n"
          ]
        }
      ],
      "source": [
        "# Tokenize the 'text' values of the 'validation_data' DataFrame using the fitted tokenizer\n",
        "X_val = tokenizer.texts_to_sequences(validation_data['text'].values)\n",
        "\n",
        "# Pad the sequences to ensure they all have a consistent length\n",
        "X_val = pad_sequences(X_val, maxlen=MAX_SEQUENCE_LENGTH)\n",
        "\n",
        "# Print the shape of the data tensor (X)\n",
        "print('Shape of data tensor:', X_val.shape[1])"
      ]
    },
    {
      "cell_type": "code",
      "execution_count": null,
      "metadata": {
        "id": "plffckIJkAwM",
        "outputId": "5e87583f-1b49-4c60-b840-a23d6570c5a9"
      },
      "outputs": [
        {
          "name": "stdout",
          "output_type": "stream",
          "text": [
            "(1020,)\n",
            "[ 0  1  2  3  4  5  6  7  8  9 10 11 12 13 14 15 16]\n"
          ]
        },
        {
          "data": {
            "text/plain": [
              "dtype('int64')"
            ]
          },
          "execution_count": 38,
          "metadata": {},
          "output_type": "execute_result"
        }
      ],
      "source": [
        "# Import the necessary library\n",
        "from sklearn.preprocessing import LabelEncoder\n",
        "\n",
        "# Create a LabelEncoder instance\n",
        "# le = LabelEncoder() # QUESTO SI FA SOLO UNA VOLTA PER IL TRAIN E POI\n",
        "                      # SI USA LO STESSO PER VALIDATION E TEST\n",
        "\n",
        "# Fit the LabelEncoder on the 'sdg' column of the 'validation_data' DataFrame and transform it into numerical labels\n",
        "Y_val = le.fit_transform(validation_data['sdg'])\n",
        "\n",
        "# Print the shape of the transformed labels (Y_val)\n",
        "print(Y_val.shape)\n",
        "\n",
        "# Print the unique classes that were encoded\n",
        "print(le.classes_)\n",
        "\n",
        "# Print the data type of the encoded labels\n",
        "Y_val.dtype"
      ]
    },
    {
      "cell_type": "code",
      "execution_count": null,
      "metadata": {
        "id": "lqwUrZnDkAwM"
      },
      "outputs": [],
      "source": []
    },
    {
      "cell_type": "code",
      "execution_count": null,
      "metadata": {
        "id": "aHmEIcWPkAwM"
      },
      "outputs": [],
      "source": []
    },
    {
      "cell_type": "code",
      "execution_count": null,
      "metadata": {
        "id": "Tazgv11caEwf"
      },
      "outputs": [],
      "source": [
        "# Convert the training data into a PyTorch tensor\n",
        "x_train = torch.tensor(X_train, dtype=torch.long)\n",
        "y_train = torch.tensor(Y_train, dtype=torch.long)\n",
        "x_cv = torch.tensor(X_val, dtype=torch.long)\n",
        "y_cv = torch.tensor(Y_val, dtype=torch.long)\n"
      ]
    },
    {
      "cell_type": "markdown",
      "metadata": {
        "id": "kEx-RrOHkAwN"
      },
      "source": [
        "---"
      ]
    },
    {
      "cell_type": "markdown",
      "metadata": {
        "id": "xX-AIui-s_mr"
      },
      "source": [
        "# Converting dataset to a Torch Datset"
      ]
    },
    {
      "cell_type": "code",
      "execution_count": null,
      "metadata": {
        "id": "0CDy5I6KafQk"
      },
      "outputs": [],
      "source": [
        "# Create a TensorDataset for the training and validation data and labels\n",
        "train = torch.utils.data.TensorDataset(x_train, y_train)\n",
        "valid = torch.utils.data.TensorDataset(x_cv, y_cv)\n"
      ]
    },
    {
      "cell_type": "code",
      "execution_count": null,
      "metadata": {
        "id": "xJTZPvq9bSXW"
      },
      "outputs": [],
      "source": [
        "# Define the maximum number of features\n",
        "max_features = MAX_NB_WORDS #2000\n",
        "\n",
        "# Define the batch size for training\n",
        "batch_size = 50\n",
        "\n",
        "# Set the vocab size to the maximum number of features\n",
        "vocab_size = max_features\n",
        "\n",
        "# Create a data loader for the training data\n",
        "train_dl = torch.utils.data.DataLoader(train, batch_size=batch_size, shuffle=True)\n",
        "\n",
        "# Create a data loader for the validation data\n",
        "val_dl = torch.utils.data.DataLoader(valid, batch_size=batch_size, shuffle=False)"
      ]
    },
    {
      "cell_type": "markdown",
      "metadata": {
        "id": "mPnSI4mUkAwN"
      },
      "source": [
        "---"
      ]
    },
    {
      "cell_type": "markdown",
      "metadata": {
        "id": "6pEF_VtECs_w"
      },
      "source": [
        "# Defining the Model"
      ]
    },
    {
      "cell_type": "code",
      "execution_count": null,
      "metadata": {
        "id": "-DJNQS-qbWs5"
      },
      "outputs": [],
      "source": [
        "# class LSTM(torch.nn.Module):\n",
        "#     def __init__(self, vocab_size, embedding_dim, hidden_dim):\n",
        "#         super().__init__()  # This line had a syntax error - missing parentheses\n",
        "\n",
        "#         # Define the hidden dimension\n",
        "#         self.hidden_dim = hidden_dim\n",
        "\n",
        "#         # Define the embedding layer\n",
        "#         self.embeddings = nn.Embedding(vocab_size, embedding_dim, padding_idx=0)\n",
        "#         # self.drop  = nn.Dropout(p=0.2)\n",
        "\n",
        "#         # Define the first LSTM layer\n",
        "#         self.lstm = nn.LSTM(embedding_dim, hidden_dim, batch_first=True)\n",
        "\n",
        "#         # Define the second LSTM layer\n",
        "#         self.lstm1 = nn.LSTM(hidden_dim, 64, batch_first=True)\n",
        "\n",
        "#         # Define the linear layer for classification\n",
        "#         # self.linear = nn.Linear(64, 5) # MODIFICATO IN 17 PER LA CLASSIFICAZIONE DEGLI SDG!\n",
        "#         self.linear = nn.Linear(64, 17)\n",
        "\n",
        "#         # Define the softmax layer\n",
        "#         # self.softmax = nn.Softmax(dim=1)\n",
        "\n",
        "#     def forward(self, x):\n",
        "#         x = self.embeddings(x)  # Pass input through the embedding layer\n",
        "#         out_pack, (ht, ct) = self.lstm(x)  # Pass through the first LSTM layer\n",
        "#         out_pack1, (ht, ct) = self.lstm1(out_pack)  # Pass through the second LSTM layer\n",
        "#         out = self.linear(ht[-1])  # Pass through the linear layer for classification\n",
        "#         # out = self.softmax(out)  # Softmax layer\n",
        "#         return out\n"
      ]
    },
    {
      "cell_type": "code",
      "execution_count": null,
      "metadata": {
        "id": "RsJ0ae9OkAwO"
      },
      "outputs": [],
      "source": [
        "class LSTM(torch.nn.Module):\n",
        "    def __init__(self, vocab_size, embedding_dim, hidden_dim, dropout_rate=0.2):\n",
        "        super().__init__()\n",
        "\n",
        "        # Define the hidden dimension\n",
        "        self.hidden_dim = hidden_dim\n",
        "\n",
        "        # Define the embedding layer\n",
        "        self.embeddings = nn.Embedding(vocab_size, embedding_dim, padding_idx=0)\n",
        "\n",
        "        # Add dropout after embeddings\n",
        "        self.dropout = nn.Dropout(p=dropout_rate)\n",
        "\n",
        "        # Define the first LSTM layer\n",
        "        self.lstm = nn.LSTM(embedding_dim, hidden_dim, batch_first=True)\n",
        "\n",
        "        # Add dropout between LSTM layers\n",
        "        self.dropout_between = nn.Dropout(p=dropout_rate)\n",
        "\n",
        "        # Define the second LSTM layer\n",
        "        self.lstm1 = nn.LSTM(hidden_dim, 64, batch_first=True)\n",
        "\n",
        "        # Define the linear layer for classification\n",
        "        self.linear = nn.Linear(64, 17)\n",
        "\n",
        "    def forward(self, x):\n",
        "        # Pass input through the embedding layer\n",
        "        x = self.embeddings(x)\n",
        "\n",
        "        # Apply dropout after embeddings\n",
        "        x = self.dropout(x)\n",
        "\n",
        "        # Pass through the first LSTM layer\n",
        "        out_pack, (ht, ct) = self.lstm(x)\n",
        "\n",
        "        # Apply dropout between LSTM layers\n",
        "        out_pack = self.dropout_between(out_pack)\n",
        "\n",
        "        # Pass through the second LSTM layer\n",
        "        out_pack1, (ht, ct) = self.lstm1(out_pack)\n",
        "\n",
        "        # Pass through the linear layer for classification\n",
        "        out = self.linear(ht[-1])\n",
        "\n",
        "        return out"
      ]
    },
    {
      "cell_type": "markdown",
      "metadata": {
        "id": "5BOufOQckAwO"
      },
      "source": [
        "---"
      ]
    },
    {
      "cell_type": "markdown",
      "metadata": {
        "id": "4bD2s9P7CfKz"
      },
      "source": [
        "# Structure of the Model"
      ]
    },
    {
      "cell_type": "code",
      "execution_count": null,
      "metadata": {
        "id": "0L-QyIXbbfL5",
        "outputId": "b281a9e8-227d-42f5-daf1-4769bea78438"
      },
      "outputs": [
        {
          "name": "stdout",
          "output_type": "stream",
          "text": [
            "LSTM(\n",
            "  (embeddings): Embedding(4000, 128, padding_idx=0)\n",
            "  (dropout): Dropout(p=0.2, inplace=False)\n",
            "  (lstm): LSTM(128, 64, batch_first=True)\n",
            "  (dropout_between): Dropout(p=0.2, inplace=False)\n",
            "  (lstm1): LSTM(64, 64, batch_first=True)\n",
            "  (linear): Linear(in_features=64, out_features=17, bias=True)\n",
            ")\n"
          ]
        }
      ],
      "source": [
        "# Initialize the model with specified parameters\n",
        "model = LSTM(vocab_size, 128, 64)\n",
        "\n",
        "# Move model to GPU if available\n",
        "model = model.to(device)\n",
        "\n",
        "# Print the model architecture\n",
        "print(model)\n"
      ]
    },
    {
      "cell_type": "markdown",
      "metadata": {
        "id": "tfDXtDYZkAwO"
      },
      "source": [
        "---"
      ]
    },
    {
      "cell_type": "markdown",
      "metadata": {
        "id": "BU8QYYE0CHOf"
      },
      "source": [
        "# Model Tranining And Validation"
      ]
    },
    {
      "cell_type": "code",
      "execution_count": null,
      "metadata": {
        "colab": {
          "base_uri": "https://localhost:8080/"
        },
        "id": "V6b_K0nCbkQQ",
        "outputId": "e238b695-f5f8-4fbd-fb8f-dbc23bf33d04"
      },
      "outputs": [
        {
          "name": "stdout",
          "output_type": "stream",
          "text": [
            "Epoch 1/10 \t loss=2.7826 \t val_loss=2.6395  \t val_acc=0.1843  \t time=171.22s\n",
            "Epoch 2/10 \t loss=2.3929 \t val_loss=2.1649  \t val_acc=0.3000  \t time=85.00s\n",
            "Epoch 3/10 \t loss=1.9401 \t val_loss=1.8736  \t val_acc=0.4059  \t time=87.13s\n",
            "Epoch 4/10 \t loss=1.6104 \t val_loss=1.6227  \t val_acc=0.4931  \t time=131.80s\n",
            "Epoch 5/10 \t loss=1.3444 \t val_loss=1.4473  \t val_acc=0.5559  \t time=143.42s\n",
            "Epoch 6/10 \t loss=1.1602 \t val_loss=1.2999  \t val_acc=0.6137  \t time=118.50s\n",
            "Epoch 7/10 \t loss=1.0092 \t val_loss=1.2381  \t val_acc=0.6431  \t time=141.10s\n",
            "Epoch 8/10 \t loss=0.8899 \t val_loss=1.1868  \t val_acc=0.6686  \t time=109.27s\n",
            "Epoch 9/10 \t loss=0.7783 \t val_loss=1.2151  \t val_acc=0.6627  \t time=96.40s\n",
            "Epoch 10/10 \t loss=0.6941 \t val_loss=1.0989  \t val_acc=0.7216  \t time=120.83s\n"
          ]
        }
      ],
      "source": [
        "# Define the number of training epochs\n",
        "n_epochs = 10\n",
        "\n",
        "# Define the loss function (Cross Entropy) and optimizer (Adam)\n",
        "loss_fn = nn.CrossEntropyLoss()  # Loss Function\n",
        "optimizer = torch.optim.Adam(model.parameters(), lr=0.001)  # Optimizer\n",
        "\n",
        "# Lists to store training and validation loss\n",
        "train_loss = []\n",
        "valid_loss = []\n",
        "\n",
        "# Loop over the specified number of epochs\n",
        "for epoch in range(n_epochs):\n",
        "    start_time = time.time()\n",
        "\n",
        "    # Set the model in training mode\n",
        "    model.train()  # Indicator for training\n",
        "    avg_loss = 0.\n",
        "\n",
        "    # Loop over the training data\n",
        "    for i, (x_batch, y_batch) in enumerate(train_dl):\n",
        "\n",
        "        # Move tensors to the configured device\n",
        "        x_batch = x_batch.to(device)\n",
        "        y_batch = y_batch.to(device)\n",
        "\n",
        "        # Predict/Forward Pass\n",
        "        y_pred = model(x_batch)\n",
        "      # x_batch = x_batch.cuda()\n",
        "      # y_batch = y_batch.cuda()\n",
        "\n",
        "        # Compute the loss\n",
        "        loss = loss_fn(y_pred, y_batch)\n",
        "        optimizer.zero_grad()\n",
        "        loss.backward()\n",
        "        optimizer.step()\n",
        "        avg_loss += loss.item() / len(train_dl)\n",
        "\n",
        "    # Set the model in validation mode\n",
        "    model.eval()  # Indicator for Validation\n",
        "    avg_val_loss = 0.\n",
        "    val_preds = np.zeros((len(x_cv), len(le.classes_)))\n",
        "\n",
        "    # Loop over the validation data\n",
        "    for i, (x_batch, y_batch) in enumerate(val_dl):\n",
        "\n",
        "        # Move tensors to the configured device\n",
        "        x_batch = x_batch.to(device)\n",
        "        y_batch = y_batch.to(device)\n",
        "\n",
        "        y_pred = model(x_batch).detach()\n",
        "        avg_val_loss += loss_fn(y_pred, y_batch).item() / len(val_dl)\n",
        "\n",
        "        # Keep/store predictions\n",
        "        val_preds[i * batch_size:(i + 1) * batch_size] = F.softmax(y_pred, dim=1).cpu().numpy()\n",
        "        # # Keep/store predictions\n",
        "        # val_preds[i * batch_size:(i + 1) * batch_size] = F.softmax(y_pred).cpu().numpy()\n",
        "\n",
        "        # Calculate validation accuracy\n",
        "    val_accuracy = sum(val_preds.argmax(axis=1) == Y_val) / len(Y_val)\n",
        "\n",
        "    # Append the training and validation loss\n",
        "    train_loss.append(avg_loss)\n",
        "    valid_loss.append(avg_val_loss)\n",
        "\n",
        "    elapsed_time = time.time() - start_time\n",
        "    print('Epoch {}/{} \\t loss={:.4f} \\t val_loss={:.4f}  \\t val_acc={:.4f}  \\t time={:.2f}s'.format(\n",
        "        epoch + 1, n_epochs, avg_loss, avg_val_loss, val_accuracy, elapsed_time))"
      ]
    },
    {
      "cell_type": "markdown",
      "metadata": {
        "id": "wADBp7g8kAwP"
      },
      "source": [
        "---"
      ]
    },
    {
      "cell_type": "markdown",
      "metadata": {
        "id": "AmoyY-cJjQoo"
      },
      "source": [
        "# Plotting the Loss"
      ]
    },
    {
      "cell_type": "code",
      "execution_count": null,
      "metadata": {
        "id": "2SMrXaqS_QG9"
      },
      "outputs": [],
      "source": [
        "# Function to plot the loss vs. epoch graph\n",
        "def plot_graph(train_loss, valid_loss):\n",
        "    epochs = len(train_loss) # Calculate the number of epochs\n",
        "    plt.figure(figsize=(12, 6))\n",
        "    plt.title(\"Train/Validation Loss\") # Set the title of the graph\n",
        "    plt.plot(range(1, epochs + 1), train_loss, label='Train Loss', marker='o') # Plot the training loss with markers and label\n",
        "    plt.plot(range(1, epochs + 1), valid_loss, label='Validation Loss', marker='o') # Plot the validation loss with markers and label\n",
        "    plt.xlabel('Epochs')\n",
        "    plt.ylabel('Loss')\n",
        "    plt.legend()\n",
        "    plt.grid(True)\n",
        "    plt.show()\n"
      ]
    },
    {
      "cell_type": "code",
      "execution_count": null,
      "metadata": {
        "colab": {
          "base_uri": "https://localhost:8080/",
          "height": 733
        },
        "id": "tyoMnxjjh6Cg",
        "outputId": "749cf4c3-c98c-4a8c-9664-00c5e219e9f2"
      },
      "outputs": [
        {
          "data": {
            "image/png": "[encoded data removed]",
            "text/plain": [
              "<Figure size 1200x600 with 1 Axes>"
            ]
          },
          "metadata": {},
          "output_type": "display_data"
        }
      ],
      "source": [
        "plot_graph(train_loss, valid_loss)"
      ]
    },
    {
      "cell_type": "markdown",
      "metadata": {
        "id": "X5XknkmpkAwQ"
      },
      "source": [
        "---"
      ]
    },
    {
      "cell_type": "markdown",
      "metadata": {
        "id": "7VkHwxu9kAwQ"
      },
      "source": [
        "# USE TRAINED MODEL ON TEST DATA"
      ]
    },
    {
      "cell_type": "code",
      "execution_count": null,
      "metadata": {
        "id": "MJdqq67ZkAwQ"
      },
      "outputs": [],
      "source": [
        "# Convert to sequences\n",
        "X_test = tokenizer.texts_to_sequences(test_data['text'].values)\n",
        "X_test = pad_sequences(X_test, maxlen=MAX_SEQUENCE_LENGTH)"
      ]
    },
    {
      "cell_type": "code",
      "execution_count": null,
      "metadata": {
        "id": "AXF_mx-4kAwQ"
      },
      "outputs": [],
      "source": [
        "# Encode labels with the SAME LabelEncoder used for train\n",
        "Y_test = le.transform(test_data['sdg'])  # DO NOT fit again"
      ]
    },
    {
      "cell_type": "code",
      "execution_count": null,
      "metadata": {
        "id": "WSqZqiLtkAwQ"
      },
      "outputs": [],
      "source": [
        "# Create DataLoader for the test set\n",
        "x_test_tensor = torch.tensor(X_test, dtype=torch.long)\n",
        "y_test_tensor = torch.tensor(Y_test, dtype=torch.long)\n",
        "\n",
        "test_dataset = torch.utils.data.TensorDataset(x_test_tensor, y_test_tensor)\n",
        "test_dl = torch.utils.data.DataLoader(test_dataset, batch_size=50, shuffle=False,\n",
        "                                      pin_memory=torch.cuda.is_available())"
      ]
    },
    {
      "cell_type": "code",
      "execution_count": null,
      "metadata": {
        "id": "-9Zc9MiokAwR"
      },
      "outputs": [],
      "source": [
        "model.eval()\n",
        "all_preds = []\n",
        "all_labels = []\n",
        "\n",
        "with torch.no_grad():\n",
        "    for xb, yb in test_dl:\n",
        "        xb = xb.to(device, non_blocking=True)\n",
        "        yb = yb.to(device, non_blocking=True)\n",
        "\n",
        "        outputs = model(xb)\n",
        "        preds = torch.argmax(outputs, dim=1)\n",
        "\n",
        "        all_preds.extend(preds.cpu().numpy())\n",
        "        all_labels.extend(yb.cpu().numpy())"
      ]
    },
    {
      "cell_type": "code",
      "execution_count": null,
      "metadata": {
        "id": "XqFVm6XMkAwR",
        "outputId": "8c59c1cf-2877-4817-8887-12da27f78df9"
      },
      "outputs": [
        {
          "name": "stdout",
          "output_type": "stream",
          "text": [
            "              precision    recall  f1-score   support\n",
            "\n",
            "           0     0.8333    0.8333    0.8333        60\n",
            "           1     0.6111    0.7333    0.6667        60\n",
            "           2     0.6552    0.6333    0.6441        60\n",
            "           3     0.6250    0.7500    0.6818        60\n",
            "           4     0.7705    0.7833    0.7769        60\n",
            "           5     0.7538    0.8167    0.7840        60\n",
            "           6     0.9600    0.8000    0.8727        60\n",
            "           7     0.6923    0.7500    0.7200        60\n",
            "           8     0.3529    0.3000    0.3243        60\n",
            "           9     0.5536    0.5167    0.5345        60\n",
            "          10     0.5185    0.4667    0.4912        60\n",
            "          11     0.6056    0.7167    0.6565        60\n",
            "          12     0.7818    0.7167    0.7478        60\n",
            "          13     0.7966    0.7833    0.7899        60\n",
            "          14     0.8226    0.8500    0.8361        60\n",
            "          15     0.9200    0.7667    0.8364        60\n",
            "          16     0.8644    0.8500    0.8571        60\n",
            "\n",
            "    accuracy                         0.7098      1020\n",
            "   macro avg     0.7128    0.7098    0.7090      1020\n",
            "weighted avg     0.7128    0.7098    0.7090      1020\n",
            "\n"
          ]
        }
      ],
      "source": [
        "from sklearn.metrics import classification_report\n",
        "\n",
        "# Get readable label names as strings\n",
        "target_names = [str(c) for c in le.classes_]  # convert int labels to strings\n",
        "\n",
        "report = classification_report(all_labels, all_preds,\n",
        "                                target_names=target_names,\n",
        "                                digits=4)\n",
        "print(report)"
      ]
    },
    {
      "cell_type": "code",
      "execution_count": null,
      "metadata": {
        "id": "RAWtQ-mNkAwR",
        "outputId": "2b0b47f3-ab8d-44aa-cbda-686a08b8e647"
      },
      "outputs": [
        {
          "data": {
            "text/plain": [
              "[0, 0, 16, 0, 12]"
            ]
          },
          "execution_count": 56,
          "metadata": {},
          "output_type": "execute_result"
        }
      ],
      "source": [
        "all_preds[:5]"
      ]
    },
    {
      "cell_type": "code",
      "execution_count": null,
      "metadata": {
        "id": "5E5AOj4XkAwR"
      },
      "outputs": [],
      "source": []
    }
  ],
  "metadata": {
    "accelerator": "GPU",
    "colab": {
      "provenance": []
    },
    "kernelspec": {
      "display_name": "venv_lstm",
      "language": "python",
      "name": "python3"
    },
    "language_info": {
      "codemirror_mode": {
        "name": "ipython",
        "version": 3
      },
      "file_extension": ".py",
      "mimetype": "text/x-python",
      "name": "python",
      "nbconvert_exporter": "python",
      "pygments_lexer": "ipython3",
      "version": "3.12.3"
    }
  },
  "nbformat": 4,
  "nbformat_minor": 0
}