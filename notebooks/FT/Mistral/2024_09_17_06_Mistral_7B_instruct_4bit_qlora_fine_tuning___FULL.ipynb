{
  "cells": [
    {
      "cell_type": "code",
      "source": [
        "from IPython.display import clear_output\n",
        "huggingface_cli_token = input(\"INSERT YOUR huggingface-cli_token:\")\n",
        "clear_output()"
      ],
      "metadata": {
        "id": "ESJNicavXtN5"
      },
      "id": "ESJNicavXtN5",
      "execution_count": null,
      "outputs": []
    },
    {
      "cell_type": "code",
      "source": [
        "!huggingface-cli login --token $huggingface_cli_token"
      ],
      "metadata": {
        "colab": {
          "base_uri": "https://localhost:8080/"
        },
        "id": "FPw-QCP0XuH-",
        "outputId": "9ab3f01e-39d6-4569-cc54-a963d6f694f8"
      },
      "id": "FPw-QCP0XuH-",
      "execution_count": null,
      "outputs": [
        {
          "output_type": "stream",
          "name": "stdout",
          "text": [
            "The token has not been saved to the git credentials helper. Pass `add_to_git_credential=True` in this function directly or `--add-to-git-credential` if using via `huggingface-cli` if you want to set the git credential as well.\n",
            "Token is valid (permission: write).\n",
            "Your token has been saved to /root/.cache/huggingface/token\n",
            "Login successful\n"
          ]
        }
      ]
    },
    {
      "cell_type": "code",
      "source": [
        "!pip install -q datasets --progress-bar off"
      ],
      "metadata": {
        "id": "laXrfoNYEzQp"
      },
      "id": "laXrfoNYEzQp",
      "execution_count": null,
      "outputs": []
    },
    {
      "cell_type": "code",
      "source": [
        "import pandas as pd\n",
        "import pickle"
      ],
      "metadata": {
        "id": "i99sjak9EjP1"
      },
      "id": "i99sjak9EjP1",
      "execution_count": null,
      "outputs": []
    },
    {
      "cell_type": "code",
      "source": [
        "experiment_name = \"2024.09.17-06_Mistral-7B-instruct-4bit-qlora-fine-tuning___FULL\""
      ],
      "metadata": {
        "id": "-K4-0v0OC71j"
      },
      "id": "-K4-0v0OC71j",
      "execution_count": null,
      "outputs": []
    },
    {
      "cell_type": "code",
      "source": [
        "from google.colab import drive\n",
        "from IPython.display import Image, display\n",
        "\n",
        "mount_point = \"/content/gdrive\"\n",
        "base_path = mount_point + \"/MyDrive/Colab/SDG/data\"\n",
        "\n",
        "input_data_path = base_path + \"/input/sdg_17_labels_classification_dataset_1020_texts_TEST_2023.12.11.xlsx\"\n",
        "input_data_path_validation = base_path + \"/input/sdg_17_labels_classification_dataset_4760_texts_DEV_2023.12.11.xlsx\"\n",
        "input_data_path_train = base_path + \"/input/sdg_17_labels_classification_dataset_4760_texts_TRAIN_2023.12.11.xlsx\"\n",
        "\n",
        "# top7_train_data_sim_to_each_test_data_filename = base_path + \"/input/top7_train_data_sim_to_each_test_data_2023.12.11.pickle\"\n",
        "# top7_train_data_sim_to_each_test_data_filename = base_path + \"/input/top7_train_data_sim_to_each_test_data_but_with_different_classes_with_2023.12.11_input_data.pickle\"\n",
        "\n",
        "output_data_path = base_path + \"/../Mistral/data/output/\" + experiment_name\n",
        "log_filename = base_path + \"/../Mistral/logs/\" + experiment_name + \".log\"\n",
        "\n",
        "drive.mount(mount_point, force_remount=True)"
      ],
      "metadata": {
        "colab": {
          "base_uri": "https://localhost:8080/"
        },
        "id": "gMcGq4D7C_4v",
        "outputId": "48de0e75-a20f-4ce6-c474-7b8a1120a28a"
      },
      "id": "gMcGq4D7C_4v",
      "execution_count": null,
      "outputs": [
        {
          "output_type": "stream",
          "name": "stdout",
          "text": [
            "Mounted at /content/gdrive\n"
          ]
        }
      ]
    },
    {
      "cell_type": "code",
      "execution_count": null,
      "id": "1be28f40",
      "metadata": {
        "execution": {
          "iopub.execute_input": "2023-12-07T10:28:08.125168Z",
          "iopub.status.busy": "2023-12-07T10:28:08.124797Z",
          "iopub.status.idle": "2023-12-07T10:29:23.474591Z",
          "shell.execute_reply": "2023-12-07T10:29:23.473343Z"
        },
        "id": "1be28f40",
        "papermill": {
          "duration": 75.359652,
          "end_time": "2023-12-07T10:29:23.477239",
          "exception": false,
          "start_time": "2023-12-07T10:28:08.117587",
          "status": "completed"
        },
        "tags": []
      },
      "outputs": [],
      "source": [
        "%%capture\n",
        "%pip install -U bitsandbytes\n",
        "%pip install -U transformers\n",
        "%pip install -U peft\n",
        "%pip install -U accelerate\n",
        "%pip install -U trl"
      ]
    },
    {
      "cell_type": "code",
      "execution_count": null,
      "id": "7b3bd9ee",
      "metadata": {
        "execution": {
          "iopub.execute_input": "2023-12-07T10:29:23.490439Z",
          "iopub.status.busy": "2023-12-07T10:29:23.489683Z",
          "iopub.status.idle": "2023-12-07T10:29:40.461085Z",
          "shell.execute_reply": "2023-12-07T10:29:40.460123Z"
        },
        "id": "7b3bd9ee",
        "papermill": {
          "duration": 16.980032,
          "end_time": "2023-12-07T10:29:40.463282",
          "exception": false,
          "start_time": "2023-12-07T10:29:23.483250",
          "status": "completed"
        },
        "tags": []
      },
      "outputs": [],
      "source": [
        "from transformers import (\n",
        "    AutoModelForCausalLM,\n",
        "    AutoTokenizer,\n",
        "    BitsAndBytesConfig,\n",
        "    HfArgumentParser,\n",
        "    TrainingArguments,\n",
        "    pipeline,\n",
        "    logging,\n",
        ")\n",
        "from peft import (\n",
        "    LoraConfig,\n",
        "    PeftModel,\n",
        "    prepare_model_for_kbit_training,\n",
        "    get_peft_model,\n",
        ")\n",
        "import os, torch #, wandb\n",
        "from datasets import load_dataset\n",
        "from trl import SFTTrainer\n"
      ]
    },
    {
      "cell_type": "code",
      "execution_count": null,
      "id": "5c06e9de",
      "metadata": {
        "execution": {
          "iopub.execute_input": "2023-12-07T10:29:40.476447Z",
          "iopub.status.busy": "2023-12-07T10:29:40.475895Z",
          "iopub.status.idle": "2023-12-07T10:29:41.036041Z",
          "shell.execute_reply": "2023-12-07T10:29:41.035183Z"
        },
        "papermill": {
          "duration": 0.569353,
          "end_time": "2023-12-07T10:29:41.038356",
          "exception": false,
          "start_time": "2023-12-07T10:29:40.469003",
          "status": "completed"
        },
        "tags": [],
        "id": "5c06e9de"
      },
      "outputs": [],
      "source": [
        "# from kaggle_secrets import UserSecretsClient\n",
        "# user_secrets = UserSecretsClient()\n",
        "# secret_hf = user_secrets.get_secret(\"HUGGINGFACE_TOKEN\")\n",
        "# secret_wandb = user_secrets.get_secret(\"wandb\")"
      ]
    },
    {
      "cell_type": "code",
      "execution_count": null,
      "id": "de0fdb9c",
      "metadata": {
        "execution": {
          "iopub.execute_input": "2023-12-07T10:29:41.050899Z",
          "iopub.status.busy": "2023-12-07T10:29:41.050588Z",
          "iopub.status.idle": "2023-12-07T10:29:42.573916Z",
          "shell.execute_reply": "2023-12-07T10:29:42.572946Z"
        },
        "id": "de0fdb9c",
        "papermill": {
          "duration": 1.532055,
          "end_time": "2023-12-07T10:29:42.576217",
          "exception": false,
          "start_time": "2023-12-07T10:29:41.044162",
          "status": "completed"
        },
        "tags": []
      },
      "outputs": [],
      "source": [
        "# !huggingface-cli login --token $secret_hf"
      ]
    },
    {
      "cell_type": "code",
      "execution_count": null,
      "id": "9cf81911",
      "metadata": {
        "execution": {
          "iopub.execute_input": "2023-12-07T10:29:42.589320Z",
          "iopub.status.busy": "2023-12-07T10:29:42.589012Z",
          "iopub.status.idle": "2023-12-07T10:30:14.807052Z",
          "shell.execute_reply": "2023-12-07T10:30:14.806131Z"
        },
        "id": "9cf81911",
        "papermill": {
          "duration": 32.227733,
          "end_time": "2023-12-07T10:30:14.809933",
          "exception": false,
          "start_time": "2023-12-07T10:29:42.582200",
          "status": "completed"
        },
        "tags": []
      },
      "outputs": [],
      "source": [
        "# # Monitering the LLM\n",
        "# wandb.login(key = secret_wandb)\n",
        "# run = wandb.init(\n",
        "#     project='Fine tuning Zephyr 7B',\n",
        "#     job_type=\"training\",\n",
        "#     anonymous=\"allow\"\n",
        "# )"
      ]
    },
    {
      "cell_type": "code",
      "execution_count": null,
      "id": "aa02ca09",
      "metadata": {
        "execution": {
          "iopub.execute_input": "2023-12-07T10:30:14.824645Z",
          "iopub.status.busy": "2023-12-07T10:30:14.823775Z",
          "iopub.status.idle": "2023-12-07T10:30:14.828691Z",
          "shell.execute_reply": "2023-12-07T10:30:14.827839Z"
        },
        "papermill": {
          "duration": 0.014986,
          "end_time": "2023-12-07T10:30:14.831369",
          "exception": false,
          "start_time": "2023-12-07T10:30:14.816383",
          "status": "completed"
        },
        "tags": [],
        "id": "aa02ca09"
      },
      "outputs": [],
      "source": [
        "base_model = \"mistralai/Mistral-7B-Instruct-v0.3\"\n",
        "# dataset_name = \"THUDM/AgentInstruct\"\n",
        "new_model = \"Mistral-7B-Instruct-v0.3-SDG-classification-finetuned-FULL\""
      ]
    },
    {
      "cell_type": "code",
      "source": [
        "data = data = pd.read_excel(input_data_path_train) #[['fine_tuning_prompt']].rename(columns={'fine_tuning_prompt': 'text'})\n",
        "\n",
        "# data = data.sample(frac=0.005)\n",
        "\n",
        "data.head(3)"
      ],
      "metadata": {
        "colab": {
          "base_uri": "https://localhost:8080/",
          "height": 143
        },
        "id": "c5hqDPpJD50t",
        "outputId": "e897789c-88b1-41cf-cf7f-fbb10371ad0d"
      },
      "id": "c5hqDPpJD50t",
      "execution_count": null,
      "outputs": [
        {
          "output_type": "execute_result",
          "data": {
            "text/plain": [
              "   Unnamed: 0.1  Unnamed: 0  text_id  doi  \\\n",
              "0             0        2065     2944  NaN   \n",
              "1             1        1325     1911  NaN   \n",
              "2             2         409      581  NaN   \n",
              "\n",
              "                                                text  sdg  labels_negative  \\\n",
              "0  This Vitamin Reduces Mental Health Problems By...    0              NaN   \n",
              "1  'League Of Legends' unveils new Arena game mod...    0              NaN   \n",
              "2  Community remembers Maddi Kingsbury at public ...    0              NaN   \n",
              "\n",
              "   labels_positive  agreement  text_length  \n",
              "0              NaN        NaN            9  \n",
              "1              NaN        NaN           66  \n",
              "2              NaN        NaN           56  "
            ],
            "text/html": [
              "\n",
              "  <div id=\"df-bba8ea2d-926e-4b11-99fd-24378a9c1334\" class=\"colab-df-container\">\n",
              "    <div>\n",
              "<style scoped>\n",
              "    .dataframe tbody tr th:only-of-type {\n",
              "        vertical-align: middle;\n",
              "    }\n",
              "\n",
              "    .dataframe tbody tr th {\n",
              "        vertical-align: top;\n",
              "    }\n",
              "\n",
              "    .dataframe thead th {\n",
              "        text-align: right;\n",
              "    }\n",
              "</style>\n",
              "<table border=\"1\" class=\"dataframe\">\n",
              "  <thead>\n",
              "    <tr style=\"text-align: right;\">\n",
              "      <th></th>\n",
              "      <th>Unnamed: 0.1</th>\n",
              "      <th>Unnamed: 0</th>\n",
              "      <th>text_id</th>\n",
              "      <th>doi</th>\n",
              "      <th>text</th>\n",
              "      <th>sdg</th>\n",
              "      <th>labels_negative</th>\n",
              "      <th>labels_positive</th>\n",
              "      <th>agreement</th>\n",
              "      <th>text_length</th>\n",
              "    </tr>\n",
              "  </thead>\n",
              "  <tbody>\n",
              "    <tr>\n",
              "      <th>0</th>\n",
              "      <td>0</td>\n",
              "      <td>2065</td>\n",
              "      <td>2944</td>\n",
              "      <td>NaN</td>\n",
              "      <td>This Vitamin Reduces Mental Health Problems By...</td>\n",
              "      <td>0</td>\n",
              "      <td>NaN</td>\n",
              "      <td>NaN</td>\n",
              "      <td>NaN</td>\n",
              "      <td>9</td>\n",
              "    </tr>\n",
              "    <tr>\n",
              "      <th>1</th>\n",
              "      <td>1</td>\n",
              "      <td>1325</td>\n",
              "      <td>1911</td>\n",
              "      <td>NaN</td>\n",
              "      <td>'League Of Legends' unveils new Arena game mod...</td>\n",
              "      <td>0</td>\n",
              "      <td>NaN</td>\n",
              "      <td>NaN</td>\n",
              "      <td>NaN</td>\n",
              "      <td>66</td>\n",
              "    </tr>\n",
              "    <tr>\n",
              "      <th>2</th>\n",
              "      <td>2</td>\n",
              "      <td>409</td>\n",
              "      <td>581</td>\n",
              "      <td>NaN</td>\n",
              "      <td>Community remembers Maddi Kingsbury at public ...</td>\n",
              "      <td>0</td>\n",
              "      <td>NaN</td>\n",
              "      <td>NaN</td>\n",
              "      <td>NaN</td>\n",
              "      <td>56</td>\n",
              "    </tr>\n",
              "  </tbody>\n",
              "</table>\n",
              "</div>\n",
              "    <div class=\"colab-df-buttons\">\n",
              "\n",
              "  <div class=\"colab-df-container\">\n",
              "    <button class=\"colab-df-convert\" onclick=\"convertToInteractive('df-bba8ea2d-926e-4b11-99fd-24378a9c1334')\"\n",
              "            title=\"Convert this dataframe to an interactive table.\"\n",
              "            style=\"display:none;\">\n",
              "\n",
              "  <svg xmlns=\"http://www.w3.org/2000/svg\" height=\"24px\" viewBox=\"0 -960 960 960\">\n",
              "    <path d=\"M120-120v-720h720v720H120Zm60-500h600v-160H180v160Zm220 220h160v-160H400v160Zm0 220h160v-160H400v160ZM180-400h160v-160H180v160Zm440 0h160v-160H620v160ZM180-180h160v-160H180v160Zm440 0h160v-160H620v160Z\"/>\n",
              "  </svg>\n",
              "    </button>\n",
              "\n",
              "  <style>\n",
              "    .colab-df-container {\n",
              "      display:flex;\n",
              "      gap: 12px;\n",
              "    }\n",
              "\n",
              "    .colab-df-convert {\n",
              "      background-color: #E8F0FE;\n",
              "      border: none;\n",
              "      border-radius: 50%;\n",
              "      cursor: pointer;\n",
              "      display: none;\n",
              "      fill: #1967D2;\n",
              "      height: 32px;\n",
              "      padding: 0 0 0 0;\n",
              "      width: 32px;\n",
              "    }\n",
              "\n",
              "    .colab-df-convert:hover {\n",
              "      background-color: #E2EBFA;\n",
              "      box-shadow: 0px 1px 2px rgba(60, 64, 67, 0.3), 0px 1px 3px 1px rgba(60, 64, 67, 0.15);\n",
              "      fill: #174EA6;\n",
              "    }\n",
              "\n",
              "    .colab-df-buttons div {\n",
              "      margin-bottom: 4px;\n",
              "    }\n",
              "\n",
              "    [theme=dark] .colab-df-convert {\n",
              "      background-color: #3B4455;\n",
              "      fill: #D2E3FC;\n",
              "    }\n",
              "\n",
              "    [theme=dark] .colab-df-convert:hover {\n",
              "      background-color: #434B5C;\n",
              "      box-shadow: 0px 1px 3px 1px rgba(0, 0, 0, 0.15);\n",
              "      filter: drop-shadow(0px 1px 2px rgba(0, 0, 0, 0.3));\n",
              "      fill: #FFFFFF;\n",
              "    }\n",
              "  </style>\n",
              "\n",
              "    <script>\n",
              "      const buttonEl =\n",
              "        document.querySelector('#df-bba8ea2d-926e-4b11-99fd-24378a9c1334 button.colab-df-convert');\n",
              "      buttonEl.style.display =\n",
              "        google.colab.kernel.accessAllowed ? 'block' : 'none';\n",
              "\n",
              "      async function convertToInteractive(key) {\n",
              "        const element = document.querySelector('#df-bba8ea2d-926e-4b11-99fd-24378a9c1334');\n",
              "        const dataTable =\n",
              "          await google.colab.kernel.invokeFunction('convertToInteractive',\n",
              "                                                    [key], {});\n",
              "        if (!dataTable) return;\n",
              "\n",
              "        const docLinkHtml = 'Like what you see? Visit the ' +\n",
              "          '<a target=\"_blank\" href=https://colab.research.google.com/notebooks/data_table.ipynb>data table notebook</a>'\n",
              "          + ' to learn more about interactive tables.';\n",
              "        element.innerHTML = '';\n",
              "        dataTable['output_type'] = 'display_data';\n",
              "        await google.colab.output.renderOutput(dataTable, element);\n",
              "        const docLink = document.createElement('div');\n",
              "        docLink.innerHTML = docLinkHtml;\n",
              "        element.appendChild(docLink);\n",
              "      }\n",
              "    </script>\n",
              "  </div>\n",
              "\n",
              "\n",
              "<div id=\"df-c493cff5-c578-4f02-9a40-5015db933092\">\n",
              "  <button class=\"colab-df-quickchart\" onclick=\"quickchart('df-c493cff5-c578-4f02-9a40-5015db933092')\"\n",
              "            title=\"Suggest charts\"\n",
              "            style=\"display:none;\">\n",
              "\n",
              "<svg xmlns=\"http://www.w3.org/2000/svg\" height=\"24px\"viewBox=\"0 0 24 24\"\n",
              "     width=\"24px\">\n",
              "    <g>\n",
              "        <path d=\"M19 3H5c-1.1 0-2 .9-2 2v14c0 1.1.9 2 2 2h14c1.1 0 2-.9 2-2V5c0-1.1-.9-2-2-2zM9 17H7v-7h2v7zm4 0h-2V7h2v10zm4 0h-2v-4h2v4z\"/>\n",
              "    </g>\n",
              "</svg>\n",
              "  </button>\n",
              "\n",
              "<style>\n",
              "  .colab-df-quickchart {\n",
              "      --bg-color: #E8F0FE;\n",
              "      --fill-color: #1967D2;\n",
              "      --hover-bg-color: #E2EBFA;\n",
              "      --hover-fill-color: #174EA6;\n",
              "      --disabled-fill-color: #AAA;\n",
              "      --disabled-bg-color: #DDD;\n",
              "  }\n",
              "\n",
              "  [theme=dark] .colab-df-quickchart {\n",
              "      --bg-color: #3B4455;\n",
              "      --fill-color: #D2E3FC;\n",
              "      --hover-bg-color: #434B5C;\n",
              "      --hover-fill-color: #FFFFFF;\n",
              "      --disabled-bg-color: #3B4455;\n",
              "      --disabled-fill-color: #666;\n",
              "  }\n",
              "\n",
              "  .colab-df-quickchart {\n",
              "    background-color: var(--bg-color);\n",
              "    border: none;\n",
              "    border-radius: 50%;\n",
              "    cursor: pointer;\n",
              "    display: none;\n",
              "    fill: var(--fill-color);\n",
              "    height: 32px;\n",
              "    padding: 0;\n",
              "    width: 32px;\n",
              "  }\n",
              "\n",
              "  .colab-df-quickchart:hover {\n",
              "    background-color: var(--hover-bg-color);\n",
              "    box-shadow: 0 1px 2px rgba(60, 64, 67, 0.3), 0 1px 3px 1px rgba(60, 64, 67, 0.15);\n",
              "    fill: var(--button-hover-fill-color);\n",
              "  }\n",
              "\n",
              "  .colab-df-quickchart-complete:disabled,\n",
              "  .colab-df-quickchart-complete:disabled:hover {\n",
              "    background-color: var(--disabled-bg-color);\n",
              "    fill: var(--disabled-fill-color);\n",
              "    box-shadow: none;\n",
              "  }\n",
              "\n",
              "  .colab-df-spinner {\n",
              "    border: 2px solid var(--fill-color);\n",
              "    border-color: transparent;\n",
              "    border-bottom-color: var(--fill-color);\n",
              "    animation:\n",
              "      spin 1s steps(1) infinite;\n",
              "  }\n",
              "\n",
              "  @keyframes spin {\n",
              "    0% {\n",
              "      border-color: transparent;\n",
              "      border-bottom-color: var(--fill-color);\n",
              "      border-left-color: var(--fill-color);\n",
              "    }\n",
              "    20% {\n",
              "      border-color: transparent;\n",
              "      border-left-color: var(--fill-color);\n",
              "      border-top-color: var(--fill-color);\n",
              "    }\n",
              "    30% {\n",
              "      border-color: transparent;\n",
              "      border-left-color: var(--fill-color);\n",
              "      border-top-color: var(--fill-color);\n",
              "      border-right-color: var(--fill-color);\n",
              "    }\n",
              "    40% {\n",
              "      border-color: transparent;\n",
              "      border-right-color: var(--fill-color);\n",
              "      border-top-color: var(--fill-color);\n",
              "    }\n",
              "    60% {\n",
              "      border-color: transparent;\n",
              "      border-right-color: var(--fill-color);\n",
              "    }\n",
              "    80% {\n",
              "      border-color: transparent;\n",
              "      border-right-color: var(--fill-color);\n",
              "      border-bottom-color: var(--fill-color);\n",
              "    }\n",
              "    90% {\n",
              "      border-color: transparent;\n",
              "      border-bottom-color: var(--fill-color);\n",
              "    }\n",
              "  }\n",
              "</style>\n",
              "\n",
              "  <script>\n",
              "    async function quickchart(key) {\n",
              "      const quickchartButtonEl =\n",
              "        document.querySelector('#' + key + ' button');\n",
              "      quickchartButtonEl.disabled = true;  // To prevent multiple clicks.\n",
              "      quickchartButtonEl.classList.add('colab-df-spinner');\n",
              "      try {\n",
              "        const charts = await google.colab.kernel.invokeFunction(\n",
              "            'suggestCharts', [key], {});\n",
              "      } catch (error) {\n",
              "        console.error('Error during call to suggestCharts:', error);\n",
              "      }\n",
              "      quickchartButtonEl.classList.remove('colab-df-spinner');\n",
              "      quickchartButtonEl.classList.add('colab-df-quickchart-complete');\n",
              "    }\n",
              "    (() => {\n",
              "      let quickchartButtonEl =\n",
              "        document.querySelector('#df-c493cff5-c578-4f02-9a40-5015db933092 button');\n",
              "      quickchartButtonEl.style.display =\n",
              "        google.colab.kernel.accessAllowed ? 'block' : 'none';\n",
              "    })();\n",
              "  </script>\n",
              "</div>\n",
              "\n",
              "    </div>\n",
              "  </div>\n"
            ],
            "application/vnd.google.colaboratory.intrinsic+json": {
              "type": "dataframe",
              "variable_name": "data",
              "summary": "{\n  \"name\": \"data\",\n  \"rows\": 4760,\n  \"fields\": [\n    {\n      \"column\": \"Unnamed: 0.1\",\n      \"properties\": {\n        \"dtype\": \"number\",\n        \"std\": 1374,\n        \"min\": 0,\n        \"max\": 4759,\n        \"num_unique_values\": 4760,\n        \"samples\": [\n          2314,\n          315,\n          2329\n        ],\n        \"semantic_type\": \"\",\n        \"description\": \"\"\n      }\n    },\n    {\n      \"column\": \"Unnamed: 0\",\n      \"properties\": {\n        \"dtype\": \"number\",\n        \"std\": 1374,\n        \"min\": 0,\n        \"max\": 4759,\n        \"num_unique_values\": 4760,\n        \"samples\": [\n          2913,\n          4028,\n          2868\n        ],\n        \"semantic_type\": \"\",\n        \"description\": \"\"\n      }\n    },\n    {\n      \"column\": \"text_id\",\n      \"properties\": {\n        \"dtype\": \"number\",\n        \"std\": 1957,\n        \"min\": 0,\n        \"max\": 6799,\n        \"num_unique_values\": 4760,\n        \"samples\": [\n          4162,\n          5735,\n          4102\n        ],\n        \"semantic_type\": \"\",\n        \"description\": \"\"\n      }\n    },\n    {\n      \"column\": \"doi\",\n      \"properties\": {\n        \"dtype\": \"category\",\n        \"num_unique_values\": 1864,\n        \"samples\": [\n          \"10.1787/9789264283480-en\",\n          \"10.14217/9781848591288-7-en\",\n          \"10.18356/3da1d894-en\"\n        ],\n        \"semantic_type\": \"\",\n        \"description\": \"\"\n      }\n    },\n    {\n      \"column\": \"text\",\n      \"properties\": {\n        \"dtype\": \"string\",\n        \"num_unique_values\": 4760,\n        \"samples\": [\n          \"The lack of readily identifiable and realisable value in the assets created via expenditure on innovation increases the risk that such investments could become \\u201cshort-termist\\u201d and cyclical, especially among resource-constrained SMEs, which are likely to be juggling many conflicting priorities. A recent study shows that 40% of SME applicants at the European Patent Office applied for a patent in order to facilitate securing external finance, compared with 15% of applications from large firms (de Rassenfosse, 2012). In France, SMEs rely more on internal funds for their R&D expenditure than large enterprises, according to data from BPI France.\",\n          \"Korpi and Palme, 1998(25]) suggested the existence of a paradox in that benefits targeted at the poor achieve less redistribution than universal benefits, the main reason being that universal benefits receive wider popular support so that their payment rate can be set at a higher level than the targeted ones. Recent evidence suggests, however, that targeting is no longer necessarily associated with lower levels of redistribution (Kenworthy, 2011 [26]), (Marx, Salanauskaite and Verbist, 2013(27]), (Jacques and Noel, 2018(28])). Similarly, with short time series data from 2004 to 2011, (Diris, Vandenbroucke and Verbist, 2017ooj) found that increased pro-poorness leads often to lower poverty rates, but that the effect sizes are quite modest, and strongly dependent on how targeting is defined.\",\n          \"It also supervises the system of minimum wages and working-hours regulations. Another important task for the Bureau is to promote adherence to the Labour Insurance (Workers\\u2019 Accident Compensation Insurance and El) system and ensure the payment of the annual premiums. Under its supervision, over 300 Labour Standard Inspection Offices enforce labour standards at local level. It audits Prefectural offices (which in turn audit local welfare offices) to ensure uniform administration across the country.\"\n        ],\n        \"semantic_type\": \"\",\n        \"description\": \"\"\n      }\n    },\n    {\n      \"column\": \"sdg\",\n      \"properties\": {\n        \"dtype\": \"number\",\n        \"std\": 4,\n        \"min\": 0,\n        \"max\": 16,\n        \"num_unique_values\": 17,\n        \"samples\": [\n          0,\n          1,\n          5\n        ],\n        \"semantic_type\": \"\",\n        \"description\": \"\"\n      }\n    },\n    {\n      \"column\": \"labels_negative\",\n      \"properties\": {\n        \"dtype\": \"number\",\n        \"std\": 1.9695394724205553,\n        \"min\": 0.0,\n        \"max\": 98.0,\n        \"num_unique_values\": 8,\n        \"samples\": [\n          1.0,\n          2.0,\n          0.0\n        ],\n        \"semantic_type\": \"\",\n        \"description\": \"\"\n      }\n    },\n    {\n      \"column\": \"labels_positive\",\n      \"properties\": {\n        \"dtype\": \"number\",\n        \"std\": 23.528685621827425,\n        \"min\": 3.0,\n        \"max\": 925.0,\n        \"num_unique_values\": 35,\n        \"samples\": [\n          23.0,\n          925.0,\n          16.0\n        ],\n        \"semantic_type\": \"\",\n        \"description\": \"\"\n      }\n    },\n    {\n      \"column\": \"agreement\",\n      \"properties\": {\n        \"dtype\": \"number\",\n        \"std\": 0.0971404748967813,\n        \"min\": 0.76,\n        \"max\": 1.0,\n        \"num_unique_values\": 34,\n        \"samples\": [\n          0.88235294117647,\n          0.851851851851851,\n          0.92\n        ],\n        \"semantic_type\": \"\",\n        \"description\": \"\"\n      }\n    },\n    {\n      \"column\": \"text_length\",\n      \"properties\": {\n        \"dtype\": \"number\",\n        \"std\": 32,\n        \"min\": 5,\n        \"max\": 208,\n        \"num_unique_values\": 182,\n        \"samples\": [\n          151,\n          61,\n          137\n        ],\n        \"semantic_type\": \"\",\n        \"description\": \"\"\n      }\n    }\n  ]\n}"
            }
          },
          "metadata": {},
          "execution_count": 13
        }
      ]
    },
    {
      "cell_type": "code",
      "source": [
        "data.shape[0]"
      ],
      "metadata": {
        "colab": {
          "base_uri": "https://localhost:8080/"
        },
        "id": "a2hNDqz3ZhqJ",
        "outputId": "b94b8d23-5ce1-41fc-8c26-cd7ea020160a"
      },
      "id": "a2hNDqz3ZhqJ",
      "execution_count": null,
      "outputs": [
        {
          "output_type": "execute_result",
          "data": {
            "text/plain": [
              "4760"
            ]
          },
          "metadata": {},
          "execution_count": 14
        }
      ]
    },
    {
      "cell_type": "code",
      "source": [
        "def apply_fine_tuning_template(data):\n",
        "  text = data.text\n",
        "  label = data.sdg\n",
        "\n",
        "  template = f\"\"\"<s>[INST] You are an helpful virtual assistant specialized in a multi-class single-label text classification task related to the domain of the Sustainable Development Goals.\n",
        "\n",
        "Classify the following input text within triple quotes according to the following Sustainable Development Goals (SDGs) dictionary of labels:\n",
        "\n",
        "\"SDG-1\": \"End poverty in all its forms everywhere.\"\n",
        "\"SDG-2\": \"End hunger, achieve food security and improved nutrition and promote sustainable agriculture.\"\n",
        "\"SDG-3\": \"Ensure healthy lives and promote well-being for all at all ages.\"\n",
        "\"SDG-4\": \"Ensure inclusive and equitable quality education and promote lifelong learning opportunities for all.\"\n",
        "\"SDG-5\": \"Achieve gender equality and empower all women and girls.\"\n",
        "\"SDG-6\": \"Ensure availability and sustainable management of water and sanitation for all.\"\n",
        "\"SDG-7\": \"Ensure access to affordable, reliable, sustainable and modern energy for all.\"\n",
        "\"SDG-8\": \"Promote sustained, inclusive and sustainable economic growth, full and productive employment and decent work for all.\"\n",
        "\"SDG-9\": \"Build resilient infrastructure, promote inclusive and sustainable industrialization and foster innovation.\"\n",
        "\"SDG-10\": \"Reduce inequality within and among countries.\"\n",
        "\"SDG-11\": \"Make cities and human settlements inclusive, safe, resilient and sustainable.\"\n",
        "\"SDG-12\": \"Ensure sustainable consumption and production patterns.\"\n",
        "\"SDG-13\": \"Take urgent action to combat climate change and its impacts.\"\n",
        "\"SDG-14\": \"Conserve and sustainably use the oceans, seas and marine resources for sustainable development.\"\n",
        "\"SDG-15\": \"Protect, restore and promote sustainable use of terrestrial ecosystems, sustainably manage forests, combat desertification, halt and reverse land degradation, and halt biodiversity loss.\"\n",
        "\"SDG-16\": \"Promote peaceful and inclusive societies for sustainable development, provide access to justice for all and build effective, accountable and inclusive institutions at all levels.\"\n",
        "\"SDG-0\": \"Other.\"\n",
        "\n",
        "Choose ONLY ONE label for each input text.\n",
        "\n",
        "DO NOT include the input text in your answer.\n",
        "\n",
        "The input text is:\n",
        "'''\n",
        "{text}\n",
        "''' [/INST]\n",
        "\"SDG-{label}\"</s>\n",
        "\"\"\"\n",
        "\n",
        "  return template\n"
      ],
      "metadata": {
        "id": "2Nw9o-8idVmi"
      },
      "id": "2Nw9o-8idVmi",
      "execution_count": null,
      "outputs": []
    },
    {
      "cell_type": "code",
      "source": [
        "data['fine_tuning_prompt'] = data.apply(apply_fine_tuning_template, axis=1)"
      ],
      "metadata": {
        "id": "LROxr2mVeK0Q"
      },
      "id": "LROxr2mVeK0Q",
      "execution_count": null,
      "outputs": []
    },
    {
      "cell_type": "code",
      "source": [
        "data.head(3) # TO DO: AGGIUNGERE SHUFFLE DEI DATI PER MIGLIORARE PROCESSO DI FINE TUNING!!!"
      ],
      "metadata": {
        "colab": {
          "base_uri": "https://localhost:8080/",
          "height": 143
        },
        "id": "XPgu5uYEfa0T",
        "outputId": "682713ca-ab32-4ef2-8b7a-a700e5200965"
      },
      "id": "XPgu5uYEfa0T",
      "execution_count": null,
      "outputs": [
        {
          "output_type": "execute_result",
          "data": {
            "text/plain": [
              "   Unnamed: 0.1  Unnamed: 0  text_id  doi  \\\n",
              "0             0        2065     2944  NaN   \n",
              "1             1        1325     1911  NaN   \n",
              "2             2         409      581  NaN   \n",
              "\n",
              "                                                text  sdg  labels_negative  \\\n",
              "0  This Vitamin Reduces Mental Health Problems By...    0              NaN   \n",
              "1  'League Of Legends' unveils new Arena game mod...    0              NaN   \n",
              "2  Community remembers Maddi Kingsbury at public ...    0              NaN   \n",
              "\n",
              "   labels_positive  agreement  text_length  \\\n",
              "0              NaN        NaN            9   \n",
              "1              NaN        NaN           66   \n",
              "2              NaN        NaN           56   \n",
              "\n",
              "                                  fine_tuning_prompt  \n",
              "0  <s>[INST] You are an helpful virtual assistant...  \n",
              "1  <s>[INST] You are an helpful virtual assistant...  \n",
              "2  <s>[INST] You are an helpful virtual assistant...  "
            ],
            "text/html": [
              "\n",
              "  <div id=\"df-7981532f-18b6-474d-a036-afbd70120b7a\" class=\"colab-df-container\">\n",
              "    <div>\n",
              "<style scoped>\n",
              "    .dataframe tbody tr th:only-of-type {\n",
              "        vertical-align: middle;\n",
              "    }\n",
              "\n",
              "    .dataframe tbody tr th {\n",
              "        vertical-align: top;\n",
              "    }\n",
              "\n",
              "    .dataframe thead th {\n",
              "        text-align: right;\n",
              "    }\n",
              "</style>\n",
              "<table border=\"1\" class=\"dataframe\">\n",
              "  <thead>\n",
              "    <tr style=\"text-align: right;\">\n",
              "      <th></th>\n",
              "      <th>Unnamed: 0.1</th>\n",
              "      <th>Unnamed: 0</th>\n",
              "      <th>text_id</th>\n",
              "      <th>doi</th>\n",
              "      <th>text</th>\n",
              "      <th>sdg</th>\n",
              "      <th>labels_negative</th>\n",
              "      <th>labels_positive</th>\n",
              "      <th>agreement</th>\n",
              "      <th>text_length</th>\n",
              "      <th>fine_tuning_prompt</th>\n",
              "    </tr>\n",
              "  </thead>\n",
              "  <tbody>\n",
              "    <tr>\n",
              "      <th>0</th>\n",
              "      <td>0</td>\n",
              "      <td>2065</td>\n",
              "      <td>2944</td>\n",
              "      <td>NaN</td>\n",
              "      <td>This Vitamin Reduces Mental Health Problems By...</td>\n",
              "      <td>0</td>\n",
              "      <td>NaN</td>\n",
              "      <td>NaN</td>\n",
              "      <td>NaN</td>\n",
              "      <td>9</td>\n",
              "      <td>&lt;s&gt;[INST] You are an helpful virtual assistant...</td>\n",
              "    </tr>\n",
              "    <tr>\n",
              "      <th>1</th>\n",
              "      <td>1</td>\n",
              "      <td>1325</td>\n",
              "      <td>1911</td>\n",
              "      <td>NaN</td>\n",
              "      <td>'League Of Legends' unveils new Arena game mod...</td>\n",
              "      <td>0</td>\n",
              "      <td>NaN</td>\n",
              "      <td>NaN</td>\n",
              "      <td>NaN</td>\n",
              "      <td>66</td>\n",
              "      <td>&lt;s&gt;[INST] You are an helpful virtual assistant...</td>\n",
              "    </tr>\n",
              "    <tr>\n",
              "      <th>2</th>\n",
              "      <td>2</td>\n",
              "      <td>409</td>\n",
              "      <td>581</td>\n",
              "      <td>NaN</td>\n",
              "      <td>Community remembers Maddi Kingsbury at public ...</td>\n",
              "      <td>0</td>\n",
              "      <td>NaN</td>\n",
              "      <td>NaN</td>\n",
              "      <td>NaN</td>\n",
              "      <td>56</td>\n",
              "      <td>&lt;s&gt;[INST] You are an helpful virtual assistant...</td>\n",
              "    </tr>\n",
              "  </tbody>\n",
              "</table>\n",
              "</div>\n",
              "    <div class=\"colab-df-buttons\">\n",
              "\n",
              "  <div class=\"colab-df-container\">\n",
              "    <button class=\"colab-df-convert\" onclick=\"convertToInteractive('df-7981532f-18b6-474d-a036-afbd70120b7a')\"\n",
              "            title=\"Convert this dataframe to an interactive table.\"\n",
              "            style=\"display:none;\">\n",
              "\n",
              "  <svg xmlns=\"http://www.w3.org/2000/svg\" height=\"24px\" viewBox=\"0 -960 960 960\">\n",
              "    <path d=\"M120-120v-720h720v720H120Zm60-500h600v-160H180v160Zm220 220h160v-160H400v160Zm0 220h160v-160H400v160ZM180-400h160v-160H180v160Zm440 0h160v-160H620v160ZM180-180h160v-160H180v160Zm440 0h160v-160H620v160Z\"/>\n",
              "  </svg>\n",
              "    </button>\n",
              "\n",
              "  <style>\n",
              "    .colab-df-container {\n",
              "      display:flex;\n",
              "      gap: 12px;\n",
              "    }\n",
              "\n",
              "    .colab-df-convert {\n",
              "      background-color: #E8F0FE;\n",
              "      border: none;\n",
              "      border-radius: 50%;\n",
              "      cursor: pointer;\n",
              "      display: none;\n",
              "      fill: #1967D2;\n",
              "      height: 32px;\n",
              "      padding: 0 0 0 0;\n",
              "      width: 32px;\n",
              "    }\n",
              "\n",
              "    .colab-df-convert:hover {\n",
              "      background-color: #E2EBFA;\n",
              "      box-shadow: 0px 1px 2px rgba(60, 64, 67, 0.3), 0px 1px 3px 1px rgba(60, 64, 67, 0.15);\n",
              "      fill: #174EA6;\n",
              "    }\n",
              "\n",
              "    .colab-df-buttons div {\n",
              "      margin-bottom: 4px;\n",
              "    }\n",
              "\n",
              "    [theme=dark] .colab-df-convert {\n",
              "      background-color: #3B4455;\n",
              "      fill: #D2E3FC;\n",
              "    }\n",
              "\n",
              "    [theme=dark] .colab-df-convert:hover {\n",
              "      background-color: #434B5C;\n",
              "      box-shadow: 0px 1px 3px 1px rgba(0, 0, 0, 0.15);\n",
              "      filter: drop-shadow(0px 1px 2px rgba(0, 0, 0, 0.3));\n",
              "      fill: #FFFFFF;\n",
              "    }\n",
              "  </style>\n",
              "\n",
              "    <script>\n",
              "      const buttonEl =\n",
              "        document.querySelector('#df-7981532f-18b6-474d-a036-afbd70120b7a button.colab-df-convert');\n",
              "      buttonEl.style.display =\n",
              "        google.colab.kernel.accessAllowed ? 'block' : 'none';\n",
              "\n",
              "      async function convertToInteractive(key) {\n",
              "        const element = document.querySelector('#df-7981532f-18b6-474d-a036-afbd70120b7a');\n",
              "        const dataTable =\n",
              "          await google.colab.kernel.invokeFunction('convertToInteractive',\n",
              "                                                    [key], {});\n",
              "        if (!dataTable) return;\n",
              "\n",
              "        const docLinkHtml = 'Like what you see? Visit the ' +\n",
              "          '<a target=\"_blank\" href=https://colab.research.google.com/notebooks/data_table.ipynb>data table notebook</a>'\n",
              "          + ' to learn more about interactive tables.';\n",
              "        element.innerHTML = '';\n",
              "        dataTable['output_type'] = 'display_data';\n",
              "        await google.colab.output.renderOutput(dataTable, element);\n",
              "        const docLink = document.createElement('div');\n",
              "        docLink.innerHTML = docLinkHtml;\n",
              "        element.appendChild(docLink);\n",
              "      }\n",
              "    </script>\n",
              "  </div>\n",
              "\n",
              "\n",
              "<div id=\"df-463de85e-ffe9-4a96-9379-725e4cb8d5a7\">\n",
              "  <button class=\"colab-df-quickchart\" onclick=\"quickchart('df-463de85e-ffe9-4a96-9379-725e4cb8d5a7')\"\n",
              "            title=\"Suggest charts\"\n",
              "            style=\"display:none;\">\n",
              "\n",
              "<svg xmlns=\"http://www.w3.org/2000/svg\" height=\"24px\"viewBox=\"0 0 24 24\"\n",
              "     width=\"24px\">\n",
              "    <g>\n",
              "        <path d=\"M19 3H5c-1.1 0-2 .9-2 2v14c0 1.1.9 2 2 2h14c1.1 0 2-.9 2-2V5c0-1.1-.9-2-2-2zM9 17H7v-7h2v7zm4 0h-2V7h2v10zm4 0h-2v-4h2v4z\"/>\n",
              "    </g>\n",
              "</svg>\n",
              "  </button>\n",
              "\n",
              "<style>\n",
              "  .colab-df-quickchart {\n",
              "      --bg-color: #E8F0FE;\n",
              "      --fill-color: #1967D2;\n",
              "      --hover-bg-color: #E2EBFA;\n",
              "      --hover-fill-color: #174EA6;\n",
              "      --disabled-fill-color: #AAA;\n",
              "      --disabled-bg-color: #DDD;\n",
              "  }\n",
              "\n",
              "  [theme=dark] .colab-df-quickchart {\n",
              "      --bg-color: #3B4455;\n",
              "      --fill-color: #D2E3FC;\n",
              "      --hover-bg-color: #434B5C;\n",
              "      --hover-fill-color: #FFFFFF;\n",
              "      --disabled-bg-color: #3B4455;\n",
              "      --disabled-fill-color: #666;\n",
              "  }\n",
              "\n",
              "  .colab-df-quickchart {\n",
              "    background-color: var(--bg-color);\n",
              "    border: none;\n",
              "    border-radius: 50%;\n",
              "    cursor: pointer;\n",
              "    display: none;\n",
              "    fill: var(--fill-color);\n",
              "    height: 32px;\n",
              "    padding: 0;\n",
              "    width: 32px;\n",
              "  }\n",
              "\n",
              "  .colab-df-quickchart:hover {\n",
              "    background-color: var(--hover-bg-color);\n",
              "    box-shadow: 0 1px 2px rgba(60, 64, 67, 0.3), 0 1px 3px 1px rgba(60, 64, 67, 0.15);\n",
              "    fill: var(--button-hover-fill-color);\n",
              "  }\n",
              "\n",
              "  .colab-df-quickchart-complete:disabled,\n",
              "  .colab-df-quickchart-complete:disabled:hover {\n",
              "    background-color: var(--disabled-bg-color);\n",
              "    fill: var(--disabled-fill-color);\n",
              "    box-shadow: none;\n",
              "  }\n",
              "\n",
              "  .colab-df-spinner {\n",
              "    border: 2px solid var(--fill-color);\n",
              "    border-color: transparent;\n",
              "    border-bottom-color: var(--fill-color);\n",
              "    animation:\n",
              "      spin 1s steps(1) infinite;\n",
              "  }\n",
              "\n",
              "  @keyframes spin {\n",
              "    0% {\n",
              "      border-color: transparent;\n",
              "      border-bottom-color: var(--fill-color);\n",
              "      border-left-color: var(--fill-color);\n",
              "    }\n",
              "    20% {\n",
              "      border-color: transparent;\n",
              "      border-left-color: var(--fill-color);\n",
              "      border-top-color: var(--fill-color);\n",
              "    }\n",
              "    30% {\n",
              "      border-color: transparent;\n",
              "      border-left-color: var(--fill-color);\n",
              "      border-top-color: var(--fill-color);\n",
              "      border-right-color: var(--fill-color);\n",
              "    }\n",
              "    40% {\n",
              "      border-color: transparent;\n",
              "      border-right-color: var(--fill-color);\n",
              "      border-top-color: var(--fill-color);\n",
              "    }\n",
              "    60% {\n",
              "      border-color: transparent;\n",
              "      border-right-color: var(--fill-color);\n",
              "    }\n",
              "    80% {\n",
              "      border-color: transparent;\n",
              "      border-right-color: var(--fill-color);\n",
              "      border-bottom-color: var(--fill-color);\n",
              "    }\n",
              "    90% {\n",
              "      border-color: transparent;\n",
              "      border-bottom-color: var(--fill-color);\n",
              "    }\n",
              "  }\n",
              "</style>\n",
              "\n",
              "  <script>\n",
              "    async function quickchart(key) {\n",
              "      const quickchartButtonEl =\n",
              "        document.querySelector('#' + key + ' button');\n",
              "      quickchartButtonEl.disabled = true;  // To prevent multiple clicks.\n",
              "      quickchartButtonEl.classList.add('colab-df-spinner');\n",
              "      try {\n",
              "        const charts = await google.colab.kernel.invokeFunction(\n",
              "            'suggestCharts', [key], {});\n",
              "      } catch (error) {\n",
              "        console.error('Error during call to suggestCharts:', error);\n",
              "      }\n",
              "      quickchartButtonEl.classList.remove('colab-df-spinner');\n",
              "      quickchartButtonEl.classList.add('colab-df-quickchart-complete');\n",
              "    }\n",
              "    (() => {\n",
              "      let quickchartButtonEl =\n",
              "        document.querySelector('#df-463de85e-ffe9-4a96-9379-725e4cb8d5a7 button');\n",
              "      quickchartButtonEl.style.display =\n",
              "        google.colab.kernel.accessAllowed ? 'block' : 'none';\n",
              "    })();\n",
              "  </script>\n",
              "</div>\n",
              "\n",
              "    </div>\n",
              "  </div>\n"
            ],
            "application/vnd.google.colaboratory.intrinsic+json": {
              "type": "dataframe",
              "variable_name": "data",
              "summary": "{\n  \"name\": \"data\",\n  \"rows\": 4760,\n  \"fields\": [\n    {\n      \"column\": \"Unnamed: 0.1\",\n      \"properties\": {\n        \"dtype\": \"number\",\n        \"std\": 1374,\n        \"min\": 0,\n        \"max\": 4759,\n        \"num_unique_values\": 4760,\n        \"samples\": [\n          2314,\n          315,\n          2329\n        ],\n        \"semantic_type\": \"\",\n        \"description\": \"\"\n      }\n    },\n    {\n      \"column\": \"Unnamed: 0\",\n      \"properties\": {\n        \"dtype\": \"number\",\n        \"std\": 1374,\n        \"min\": 0,\n        \"max\": 4759,\n        \"num_unique_values\": 4760,\n        \"samples\": [\n          2913,\n          4028,\n          2868\n        ],\n        \"semantic_type\": \"\",\n        \"description\": \"\"\n      }\n    },\n    {\n      \"column\": \"text_id\",\n      \"properties\": {\n        \"dtype\": \"number\",\n        \"std\": 1957,\n        \"min\": 0,\n        \"max\": 6799,\n        \"num_unique_values\": 4760,\n        \"samples\": [\n          4162,\n          5735,\n          4102\n        ],\n        \"semantic_type\": \"\",\n        \"description\": \"\"\n      }\n    },\n    {\n      \"column\": \"doi\",\n      \"properties\": {\n        \"dtype\": \"category\",\n        \"num_unique_values\": 1864,\n        \"samples\": [\n          \"10.1787/9789264283480-en\",\n          \"10.14217/9781848591288-7-en\",\n          \"10.18356/3da1d894-en\"\n        ],\n        \"semantic_type\": \"\",\n        \"description\": \"\"\n      }\n    },\n    {\n      \"column\": \"text\",\n      \"properties\": {\n        \"dtype\": \"string\",\n        \"num_unique_values\": 4760,\n        \"samples\": [\n          \"The lack of readily identifiable and realisable value in the assets created via expenditure on innovation increases the risk that such investments could become \\u201cshort-termist\\u201d and cyclical, especially among resource-constrained SMEs, which are likely to be juggling many conflicting priorities. A recent study shows that 40% of SME applicants at the European Patent Office applied for a patent in order to facilitate securing external finance, compared with 15% of applications from large firms (de Rassenfosse, 2012). In France, SMEs rely more on internal funds for their R&D expenditure than large enterprises, according to data from BPI France.\",\n          \"Korpi and Palme, 1998(25]) suggested the existence of a paradox in that benefits targeted at the poor achieve less redistribution than universal benefits, the main reason being that universal benefits receive wider popular support so that their payment rate can be set at a higher level than the targeted ones. Recent evidence suggests, however, that targeting is no longer necessarily associated with lower levels of redistribution (Kenworthy, 2011 [26]), (Marx, Salanauskaite and Verbist, 2013(27]), (Jacques and Noel, 2018(28])). Similarly, with short time series data from 2004 to 2011, (Diris, Vandenbroucke and Verbist, 2017ooj) found that increased pro-poorness leads often to lower poverty rates, but that the effect sizes are quite modest, and strongly dependent on how targeting is defined.\",\n          \"It also supervises the system of minimum wages and working-hours regulations. Another important task for the Bureau is to promote adherence to the Labour Insurance (Workers\\u2019 Accident Compensation Insurance and El) system and ensure the payment of the annual premiums. Under its supervision, over 300 Labour Standard Inspection Offices enforce labour standards at local level. It audits Prefectural offices (which in turn audit local welfare offices) to ensure uniform administration across the country.\"\n        ],\n        \"semantic_type\": \"\",\n        \"description\": \"\"\n      }\n    },\n    {\n      \"column\": \"sdg\",\n      \"properties\": {\n        \"dtype\": \"number\",\n        \"std\": 4,\n        \"min\": 0,\n        \"max\": 16,\n        \"num_unique_values\": 17,\n        \"samples\": [\n          0,\n          1,\n          5\n        ],\n        \"semantic_type\": \"\",\n        \"description\": \"\"\n      }\n    },\n    {\n      \"column\": \"labels_negative\",\n      \"properties\": {\n        \"dtype\": \"number\",\n        \"std\": 1.9695394724205553,\n        \"min\": 0.0,\n        \"max\": 98.0,\n        \"num_unique_values\": 8,\n        \"samples\": [\n          1.0,\n          2.0,\n          0.0\n        ],\n        \"semantic_type\": \"\",\n        \"description\": \"\"\n      }\n    },\n    {\n      \"column\": \"labels_positive\",\n      \"properties\": {\n        \"dtype\": \"number\",\n        \"std\": 23.528685621827425,\n        \"min\": 3.0,\n        \"max\": 925.0,\n        \"num_unique_values\": 35,\n        \"samples\": [\n          23.0,\n          925.0,\n          16.0\n        ],\n        \"semantic_type\": \"\",\n        \"description\": \"\"\n      }\n    },\n    {\n      \"column\": \"agreement\",\n      \"properties\": {\n        \"dtype\": \"number\",\n        \"std\": 0.0971404748967813,\n        \"min\": 0.76,\n        \"max\": 1.0,\n        \"num_unique_values\": 34,\n        \"samples\": [\n          0.88235294117647,\n          0.851851851851851,\n          0.92\n        ],\n        \"semantic_type\": \"\",\n        \"description\": \"\"\n      }\n    },\n    {\n      \"column\": \"text_length\",\n      \"properties\": {\n        \"dtype\": \"number\",\n        \"std\": 32,\n        \"min\": 5,\n        \"max\": 208,\n        \"num_unique_values\": 182,\n        \"samples\": [\n          151,\n          61,\n          137\n        ],\n        \"semantic_type\": \"\",\n        \"description\": \"\"\n      }\n    },\n    {\n      \"column\": \"fine_tuning_prompt\",\n      \"properties\": {\n        \"dtype\": \"string\",\n        \"num_unique_values\": 4760,\n        \"samples\": [\n          \"<s>[INST] You are an helpful virtual assistant specialized in a multi-class single-label text classification task related to the domain of the Sustainable Development Goals.\\n\\nClassify the following input text within triple quotes according to the following Sustainable Development Goals (SDGs) dictionary of labels:\\n\\n\\\"SDG-1\\\": \\\"End poverty in all its forms everywhere.\\\"\\n\\\"SDG-2\\\": \\\"End hunger, achieve food security and improved nutrition and promote sustainable agriculture.\\\"\\n\\\"SDG-3\\\": \\\"Ensure healthy lives and promote well-being for all at all ages.\\\"\\n\\\"SDG-4\\\": \\\"Ensure inclusive and equitable quality education and promote lifelong learning opportunities for all.\\\"\\n\\\"SDG-5\\\": \\\"Achieve gender equality and empower all women and girls.\\\"\\n\\\"SDG-6\\\": \\\"Ensure availability and sustainable management of water and sanitation for all.\\\"\\n\\\"SDG-7\\\": \\\"Ensure access to affordable, reliable, sustainable and modern energy for all.\\\"\\n\\\"SDG-8\\\": \\\"Promote sustained, inclusive and sustainable economic growth, full and productive employment and decent work for all.\\\"\\n\\\"SDG-9\\\": \\\"Build resilient infrastructure, promote inclusive and sustainable industrialization and foster innovation.\\\"\\n\\\"SDG-10\\\": \\\"Reduce inequality within and among countries.\\\"\\n\\\"SDG-11\\\": \\\"Make cities and human settlements inclusive, safe, resilient and sustainable.\\\"\\n\\\"SDG-12\\\": \\\"Ensure sustainable consumption and production patterns.\\\"\\n\\\"SDG-13\\\": \\\"Take urgent action to combat climate change and its impacts.\\\"\\n\\\"SDG-14\\\": \\\"Conserve and sustainably use the oceans, seas and marine resources for sustainable development.\\\"\\n\\\"SDG-15\\\": \\\"Protect, restore and promote sustainable use of terrestrial ecosystems, sustainably manage forests, combat desertification, halt and reverse land degradation, and halt biodiversity loss.\\\"\\n\\\"SDG-16\\\": \\\"Promote peaceful and inclusive societies for sustainable development, provide access to justice for all and build effective, accountable and inclusive institutions at all levels.\\\"\\n\\\"SDG-0\\\": \\\"Other.\\\"\\n\\nChoose ONLY ONE label for each input text.\\n\\nDO NOT include the input text in your answer.\\n\\nThe input text is:\\n'''\\nThe lack of readily identifiable and realisable value in the assets created via expenditure on innovation increases the risk that such investments could become \\u201cshort-termist\\u201d and cyclical, especially among resource-constrained SMEs, which are likely to be juggling many conflicting priorities. A recent study shows that 40% of SME applicants at the European Patent Office applied for a patent in order to facilitate securing external finance, compared with 15% of applications from large firms (de Rassenfosse, 2012). In France, SMEs rely more on internal funds for their R&D expenditure than large enterprises, according to data from BPI France.\\n''' [/INST]\\n\\\"SDG-8\\\"</s>\\n\",\n          \"<s>[INST] You are an helpful virtual assistant specialized in a multi-class single-label text classification task related to the domain of the Sustainable Development Goals.\\n\\nClassify the following input text within triple quotes according to the following Sustainable Development Goals (SDGs) dictionary of labels:\\n\\n\\\"SDG-1\\\": \\\"End poverty in all its forms everywhere.\\\"\\n\\\"SDG-2\\\": \\\"End hunger, achieve food security and improved nutrition and promote sustainable agriculture.\\\"\\n\\\"SDG-3\\\": \\\"Ensure healthy lives and promote well-being for all at all ages.\\\"\\n\\\"SDG-4\\\": \\\"Ensure inclusive and equitable quality education and promote lifelong learning opportunities for all.\\\"\\n\\\"SDG-5\\\": \\\"Achieve gender equality and empower all women and girls.\\\"\\n\\\"SDG-6\\\": \\\"Ensure availability and sustainable management of water and sanitation for all.\\\"\\n\\\"SDG-7\\\": \\\"Ensure access to affordable, reliable, sustainable and modern energy for all.\\\"\\n\\\"SDG-8\\\": \\\"Promote sustained, inclusive and sustainable economic growth, full and productive employment and decent work for all.\\\"\\n\\\"SDG-9\\\": \\\"Build resilient infrastructure, promote inclusive and sustainable industrialization and foster innovation.\\\"\\n\\\"SDG-10\\\": \\\"Reduce inequality within and among countries.\\\"\\n\\\"SDG-11\\\": \\\"Make cities and human settlements inclusive, safe, resilient and sustainable.\\\"\\n\\\"SDG-12\\\": \\\"Ensure sustainable consumption and production patterns.\\\"\\n\\\"SDG-13\\\": \\\"Take urgent action to combat climate change and its impacts.\\\"\\n\\\"SDG-14\\\": \\\"Conserve and sustainably use the oceans, seas and marine resources for sustainable development.\\\"\\n\\\"SDG-15\\\": \\\"Protect, restore and promote sustainable use of terrestrial ecosystems, sustainably manage forests, combat desertification, halt and reverse land degradation, and halt biodiversity loss.\\\"\\n\\\"SDG-16\\\": \\\"Promote peaceful and inclusive societies for sustainable development, provide access to justice for all and build effective, accountable and inclusive institutions at all levels.\\\"\\n\\\"SDG-0\\\": \\\"Other.\\\"\\n\\nChoose ONLY ONE label for each input text.\\n\\nDO NOT include the input text in your answer.\\n\\nThe input text is:\\n'''\\nKorpi and Palme, 1998(25]) suggested the existence of a paradox in that benefits targeted at the poor achieve less redistribution than universal benefits, the main reason being that universal benefits receive wider popular support so that their payment rate can be set at a higher level than the targeted ones. Recent evidence suggests, however, that targeting is no longer necessarily associated with lower levels of redistribution (Kenworthy, 2011 [26]), (Marx, Salanauskaite and Verbist, 2013(27]), (Jacques and Noel, 2018(28])). Similarly, with short time series data from 2004 to 2011, (Diris, Vandenbroucke and Verbist, 2017ooj) found that increased pro-poorness leads often to lower poverty rates, but that the effect sizes are quite modest, and strongly dependent on how targeting is defined.\\n''' [/INST]\\n\\\"SDG-1\\\"</s>\\n\",\n          \"<s>[INST] You are an helpful virtual assistant specialized in a multi-class single-label text classification task related to the domain of the Sustainable Development Goals.\\n\\nClassify the following input text within triple quotes according to the following Sustainable Development Goals (SDGs) dictionary of labels:\\n\\n\\\"SDG-1\\\": \\\"End poverty in all its forms everywhere.\\\"\\n\\\"SDG-2\\\": \\\"End hunger, achieve food security and improved nutrition and promote sustainable agriculture.\\\"\\n\\\"SDG-3\\\": \\\"Ensure healthy lives and promote well-being for all at all ages.\\\"\\n\\\"SDG-4\\\": \\\"Ensure inclusive and equitable quality education and promote lifelong learning opportunities for all.\\\"\\n\\\"SDG-5\\\": \\\"Achieve gender equality and empower all women and girls.\\\"\\n\\\"SDG-6\\\": \\\"Ensure availability and sustainable management of water and sanitation for all.\\\"\\n\\\"SDG-7\\\": \\\"Ensure access to affordable, reliable, sustainable and modern energy for all.\\\"\\n\\\"SDG-8\\\": \\\"Promote sustained, inclusive and sustainable economic growth, full and productive employment and decent work for all.\\\"\\n\\\"SDG-9\\\": \\\"Build resilient infrastructure, promote inclusive and sustainable industrialization and foster innovation.\\\"\\n\\\"SDG-10\\\": \\\"Reduce inequality within and among countries.\\\"\\n\\\"SDG-11\\\": \\\"Make cities and human settlements inclusive, safe, resilient and sustainable.\\\"\\n\\\"SDG-12\\\": \\\"Ensure sustainable consumption and production patterns.\\\"\\n\\\"SDG-13\\\": \\\"Take urgent action to combat climate change and its impacts.\\\"\\n\\\"SDG-14\\\": \\\"Conserve and sustainably use the oceans, seas and marine resources for sustainable development.\\\"\\n\\\"SDG-15\\\": \\\"Protect, restore and promote sustainable use of terrestrial ecosystems, sustainably manage forests, combat desertification, halt and reverse land degradation, and halt biodiversity loss.\\\"\\n\\\"SDG-16\\\": \\\"Promote peaceful and inclusive societies for sustainable development, provide access to justice for all and build effective, accountable and inclusive institutions at all levels.\\\"\\n\\\"SDG-0\\\": \\\"Other.\\\"\\n\\nChoose ONLY ONE label for each input text.\\n\\nDO NOT include the input text in your answer.\\n\\nThe input text is:\\n'''\\nIt also supervises the system of minimum wages and working-hours regulations. Another important task for the Bureau is to promote adherence to the Labour Insurance (Workers\\u2019 Accident Compensation Insurance and El) system and ensure the payment of the annual premiums. Under its supervision, over 300 Labour Standard Inspection Offices enforce labour standards at local level. It audits Prefectural offices (which in turn audit local welfare offices) to ensure uniform administration across the country.\\n''' [/INST]\\n\\\"SDG-8\\\"</s>\\n\"\n        ],\n        \"semantic_type\": \"\",\n        \"description\": \"\"\n      }\n    }\n  ]\n}"
            }
          },
          "metadata": {},
          "execution_count": 17
        }
      ]
    },
    {
      "cell_type": "code",
      "source": [
        "data.iloc[0]['fine_tuning_prompt']"
      ],
      "metadata": {
        "colab": {
          "base_uri": "https://localhost:8080/",
          "height": 115
        },
        "id": "6BVgvkr-ffLx",
        "outputId": "2773b95e-445f-4dc5-8704-bb71d53f61c5"
      },
      "id": "6BVgvkr-ffLx",
      "execution_count": null,
      "outputs": [
        {
          "output_type": "execute_result",
          "data": {
            "text/plain": [
              "'<s>[INST] You are an helpful virtual assistant specialized in a multi-class single-label text classification task related to the domain of the Sustainable Development Goals.\\n\\nClassify the following input text within triple quotes according to the following Sustainable Development Goals (SDGs) dictionary of labels:\\n\\n\"SDG-1\": \"End poverty in all its forms everywhere.\"\\n\"SDG-2\": \"End hunger, achieve food security and improved nutrition and promote sustainable agriculture.\"\\n\"SDG-3\": \"Ensure healthy lives and promote well-being for all at all ages.\"\\n\"SDG-4\": \"Ensure inclusive and equitable quality education and promote lifelong learning opportunities for all.\"\\n\"SDG-5\": \"Achieve gender equality and empower all women and girls.\"\\n\"SDG-6\": \"Ensure availability and sustainable management of water and sanitation for all.\"\\n\"SDG-7\": \"Ensure access to affordable, reliable, sustainable and modern energy for all.\"\\n\"SDG-8\": \"Promote sustained, inclusive and sustainable economic growth, full and productive employment and decent work for all.\"\\n\"SDG-9\": \"Build resilient infrastructure, promote inclusive and sustainable industrialization and foster innovation.\"\\n\"SDG-10\": \"Reduce inequality within and among countries.\"\\n\"SDG-11\": \"Make cities and human settlements inclusive, safe, resilient and sustainable.\"\\n\"SDG-12\": \"Ensure sustainable consumption and production patterns.\"\\n\"SDG-13\": \"Take urgent action to combat climate change and its impacts.\"\\n\"SDG-14\": \"Conserve and sustainably use the oceans, seas and marine resources for sustainable development.\"\\n\"SDG-15\": \"Protect, restore and promote sustainable use of terrestrial ecosystems, sustainably manage forests, combat desertification, halt and reverse land degradation, and halt biodiversity loss.\"\\n\"SDG-16\": \"Promote peaceful and inclusive societies for sustainable development, provide access to justice for all and build effective, accountable and inclusive institutions at all levels.\"\\n\"SDG-0\": \"Other.\"\\n\\nChoose ONLY ONE label for each input text.\\n\\nDO NOT include the input text in your answer.\\n\\nThe input text is:\\n\\'\\'\\'\\nThis Vitamin Reduces Mental Health Problems By 50%  PsyBlog.\\n\\'\\'\\' [/INST]\\n\"SDG-0\"</s>\\n'"
            ],
            "application/vnd.google.colaboratory.intrinsic+json": {
              "type": "string"
            }
          },
          "metadata": {},
          "execution_count": 18
        }
      ]
    },
    {
      "cell_type": "code",
      "source": [
        "from datasets import Dataset\n",
        "\n",
        "# Funzione per convertire il DataFrame in un formato compatibile con load_dataset\n",
        "def convert_to_dataset(df):\n",
        "    dataset_dict = {}\n",
        "    for column in df.columns:\n",
        "        dataset_dict[column] = df[column].tolist()\n",
        "\n",
        "    dataset = Dataset.from_dict(dataset_dict)\n",
        "    return dataset"
      ],
      "metadata": {
        "id": "IwvCPKqCD7JE"
      },
      "id": "IwvCPKqCD7JE",
      "execution_count": null,
      "outputs": []
    },
    {
      "cell_type": "code",
      "source": [
        "dataset = convert_to_dataset(data[['fine_tuning_prompt']])"
      ],
      "metadata": {
        "id": "A5teXwWpD7N2"
      },
      "id": "A5teXwWpD7N2",
      "execution_count": null,
      "outputs": []
    },
    {
      "cell_type": "code",
      "source": [
        "dataset"
      ],
      "metadata": {
        "colab": {
          "base_uri": "https://localhost:8080/"
        },
        "id": "y_txwVgEiMd1",
        "outputId": "cb8258cc-ae32-40cd-cbed-dd541b295b5e"
      },
      "id": "y_txwVgEiMd1",
      "execution_count": null,
      "outputs": [
        {
          "output_type": "execute_result",
          "data": {
            "text/plain": [
              "Dataset({\n",
              "    features: ['fine_tuning_prompt'],\n",
              "    num_rows: 4760\n",
              "})"
            ]
          },
          "metadata": {},
          "execution_count": 21
        }
      ]
    },
    {
      "cell_type": "code",
      "execution_count": null,
      "id": "b6657ef1",
      "metadata": {
        "execution": {
          "iopub.execute_input": "2023-12-07T10:30:14.845969Z",
          "iopub.status.busy": "2023-12-07T10:30:14.845665Z",
          "iopub.status.idle": "2023-12-07T10:30:19.003048Z",
          "shell.execute_reply": "2023-12-07T10:30:19.001691Z"
        },
        "id": "b6657ef1",
        "papermill": {
          "duration": 4.167208,
          "end_time": "2023-12-07T10:30:19.005495",
          "exception": false,
          "start_time": "2023-12-07T10:30:14.838287",
          "status": "completed"
        },
        "tags": []
      },
      "outputs": [],
      "source": [
        "#Importing the dataset\n",
        "# dataset = load_dataset(\"THUDM/AgentInstruct\", split=\"train\")"
      ]
    },
    {
      "cell_type": "code",
      "execution_count": null,
      "id": "f08be1db",
      "metadata": {
        "execution": {
          "iopub.execute_input": "2023-12-07T10:30:19.023125Z",
          "iopub.status.busy": "2023-12-07T10:30:19.022693Z",
          "iopub.status.idle": "2023-12-07T10:30:19.030123Z",
          "shell.execute_reply": "2023-12-07T10:30:19.029195Z"
        },
        "papermill": {
          "duration": 0.018477,
          "end_time": "2023-12-07T10:30:19.032080",
          "exception": false,
          "start_time": "2023-12-07T10:30:19.013603",
          "status": "completed"
        },
        "tags": [],
        "id": "f08be1db"
      },
      "outputs": [],
      "source": [
        "# def format_prompt(sample):\n",
        "#     intro = \"Below is a conversation between a user and you.\"\n",
        "#     end = \"Instruction: Write a response appropriate to the conversation.\"\n",
        "\n",
        "#     try:\n",
        "#         formatted_conversations = \"\\n\".join(\n",
        "#             f\"<{resp['from']}>: {resp['value']}\"\n",
        "#             for resp in sample[\"conversations\"]\n",
        "#         )\n",
        "\n",
        "#         sample[\"text\"] = f\"{intro}\\n\\n{formatted_conversations}\\n\\n{end}\"\n",
        "#     except (TypeError, KeyError):\n",
        "#         raise ValueError(\"Invalid format of the input sample.\")\n",
        "#     return sample"
      ]
    },
    {
      "cell_type": "code",
      "execution_count": null,
      "id": "3bd898f3",
      "metadata": {
        "execution": {
          "iopub.execute_input": "2023-12-07T10:30:19.049578Z",
          "iopub.status.busy": "2023-12-07T10:30:19.049221Z",
          "iopub.status.idle": "2023-12-07T10:30:19.671857Z",
          "shell.execute_reply": "2023-12-07T10:30:19.670957Z"
        },
        "papermill": {
          "duration": 0.634211,
          "end_time": "2023-12-07T10:30:19.674387",
          "exception": false,
          "start_time": "2023-12-07T10:30:19.040176",
          "status": "completed"
        },
        "tags": [],
        "id": "3bd898f3"
      },
      "outputs": [],
      "source": [
        "# dataset = dataset.map(\n",
        "#     format_prompt,\n",
        "#     remove_columns=[\"conversations\"]\n",
        "# )\n",
        "# dataset[\"text\"][100]"
      ]
    },
    {
      "cell_type": "code",
      "execution_count": null,
      "id": "005eafb6",
      "metadata": {
        "execution": {
          "iopub.execute_input": "2023-12-07T10:30:19.695246Z",
          "iopub.status.busy": "2023-12-07T10:30:19.694952Z",
          "iopub.status.idle": "2023-12-07T10:32:15.926147Z",
          "shell.execute_reply": "2023-12-07T10:32:15.925056Z"
        },
        "id": "005eafb6",
        "outputId": "3908e6ab-1f14-45ac-97d3-cacb12273beb",
        "papermill": {
          "duration": 116.243805,
          "end_time": "2023-12-07T10:32:15.929431",
          "exception": false,
          "start_time": "2023-12-07T10:30:19.685626",
          "status": "completed"
        },
        "tags": [],
        "colab": {
          "base_uri": "https://localhost:8080/",
          "height": 186,
          "referenced_widgets": [
            "56eca3bdb06349f19fd9688696f4f3c8",
            "f8b6048ddb7a4109ad892dbbac688ca5",
            "05a82c0ff76a436e88f5c6f91beeb7a0",
            "b8885a1fa3314c858415b634db420145",
            "3509096332d7402c8e551133fefd6e10",
            "3abb78c09e8c4b42b19bc6a2ec2081ba",
            "5b3a77a417f2498380b780a563de8561",
            "02be9f9dea9046c681fd4a991a0dee4e",
            "45b6a6c0b49848c5b9a7412bffb4d87d",
            "76eaf99f9bed48bfb9c066d1c74401bc",
            "4fd4d1e8aff645c682d5186aef2be793"
          ]
        }
      },
      "outputs": [
        {
          "output_type": "stream",
          "name": "stderr",
          "text": [
            "/usr/local/lib/python3.10/dist-packages/huggingface_hub/utils/_token.py:89: UserWarning: \n",
            "The secret `HF_TOKEN` does not exist in your Colab secrets.\n",
            "To authenticate with the Hugging Face Hub, create a token in your settings tab (https://huggingface.co/settings/tokens), set it as secret in your Google Colab and restart your session.\n",
            "You will be able to reuse this secret in all of your notebooks.\n",
            "Please note that authentication is recommended but still optional to access public models or datasets.\n",
            "  warnings.warn(\n"
          ]
        },
        {
          "output_type": "display_data",
          "data": {
            "text/plain": [
              "Loading checkpoint shards:   0%|          | 0/3 [00:00<?, ?it/s]"
            ],
            "application/vnd.jupyter.widget-view+json": {
              "version_major": 2,
              "version_minor": 0,
              "model_id": "56eca3bdb06349f19fd9688696f4f3c8"
            }
          },
          "metadata": {}
        },
        {
          "output_type": "execute_result",
          "data": {
            "text/plain": [
              "(True, True)"
            ]
          },
          "metadata": {},
          "execution_count": 25
        }
      ],
      "source": [
        "# Load base model(Zephyr-7B 7B)\n",
        "bnb_config = BitsAndBytesConfig(\n",
        "    load_in_4bit= True,\n",
        "    bnb_4bit_quant_type= \"nf4\",\n",
        "    bnb_4bit_compute_dtype= torch.bfloat16,\n",
        "    bnb_4bit_use_double_quant= False,\n",
        ")\n",
        "model = AutoModelForCausalLM.from_pretrained(\n",
        "        base_model,\n",
        "        #load_in_4bit=True,\n",
        "        quantization_config=bnb_config,\n",
        "        torch_dtype=torch.bfloat16,\n",
        "        device_map=\"auto\",\n",
        "        trust_remote_code=True,\n",
        ")\n",
        "model.config.use_cache = False # silence the warnings. Please re-enable for inference!\n",
        "model.config.pretraining_tp = 1\n",
        "model.gradient_checkpointing_enable()\n",
        "\n",
        "# Load tokenizer\n",
        "tokenizer = AutoTokenizer.from_pretrained(base_model, trust_remote_code=True)\n",
        "tokenizer.padding_side = 'right'\n",
        "tokenizer.pad_token = tokenizer.eos_token\n",
        "tokenizer.add_eos_token = True\n",
        "tokenizer.add_bos_token, tokenizer.add_eos_token\n"
      ]
    },
    {
      "cell_type": "code",
      "execution_count": null,
      "id": "a8cb653e",
      "metadata": {
        "execution": {
          "iopub.execute_input": "2023-12-07T10:32:15.955980Z",
          "iopub.status.busy": "2023-12-07T10:32:15.955648Z",
          "iopub.status.idle": "2023-12-07T10:32:16.864674Z",
          "shell.execute_reply": "2023-12-07T10:32:16.863839Z"
        },
        "papermill": {
          "duration": 0.925822,
          "end_time": "2023-12-07T10:32:16.867020",
          "exception": false,
          "start_time": "2023-12-07T10:32:15.941198",
          "status": "completed"
        },
        "tags": [],
        "id": "a8cb653e"
      },
      "outputs": [],
      "source": [
        "model = prepare_model_for_kbit_training(model)\n",
        "peft_config = LoraConfig(\n",
        "    lora_alpha=16,\n",
        "    lora_dropout=0.1,\n",
        "    r=64,\n",
        "    bias=\"none\",\n",
        "    task_type=\"CAUSAL_LM\",\n",
        "    target_modules=['up_proj', 'base_layer', 'down_proj']\n",
        ")\n",
        "model = get_peft_model(model, peft_config)"
      ]
    },
    {
      "cell_type": "code",
      "execution_count": null,
      "id": "acc3d7ec",
      "metadata": {
        "execution": {
          "iopub.execute_input": "2023-12-07T10:32:16.890963Z",
          "iopub.status.busy": "2023-12-07T10:32:16.890653Z",
          "iopub.status.idle": "2023-12-07T10:32:16.897460Z",
          "shell.execute_reply": "2023-12-07T10:32:16.896746Z"
        },
        "id": "acc3d7ec",
        "papermill": {
          "duration": 0.020756,
          "end_time": "2023-12-07T10:32:16.899275",
          "exception": false,
          "start_time": "2023-12-07T10:32:16.878519",
          "status": "completed"
        },
        "tags": []
      },
      "outputs": [],
      "source": [
        "#Hyperparamter\n",
        "training_arguments = TrainingArguments(\n",
        "    output_dir=\"./results\",\n",
        "    num_train_epochs=1,\n",
        "    per_device_train_batch_size=14, #4,\n",
        "    gradient_accumulation_steps=1,\n",
        "    optim=\"paged_adamw_32bit\",\n",
        "    save_steps=25,\n",
        "    logging_steps=25,\n",
        "    learning_rate=2e-4,\n",
        "    weight_decay=0.001,\n",
        "    fp16=False,\n",
        "    bf16=False,\n",
        "    max_grad_norm=0.3,\n",
        "    max_steps=-1,\n",
        "    warmup_ratio=0.03,\n",
        "    group_by_length=True,\n",
        "    lr_scheduler_type=\"constant\",\n",
        "    #report_to=\"wandb\"\n",
        ")\n"
      ]
    },
    {
      "cell_type": "code",
      "execution_count": null,
      "id": "20d5a3fd",
      "metadata": {
        "execution": {
          "iopub.execute_input": "2023-12-07T10:32:16.922879Z",
          "iopub.status.busy": "2023-12-07T10:32:16.922596Z",
          "iopub.status.idle": "2023-12-07T10:32:19.937363Z",
          "shell.execute_reply": "2023-12-07T10:32:19.936352Z"
        },
        "papermill": {
          "duration": 3.029008,
          "end_time": "2023-12-07T10:32:19.939633",
          "exception": false,
          "start_time": "2023-12-07T10:32:16.910625",
          "status": "completed"
        },
        "tags": [],
        "colab": {
          "base_uri": "https://localhost:8080/",
          "height": 226,
          "referenced_widgets": [
            "b9683e27898e4e09b26a5f8063be1d09",
            "bfbb818cdb784bc6ba05d7b8049fe658",
            "ab29c61d168b47d393f355f71496cdc6",
            "57a0d904e05e4c5ca5941e9c153d2068",
            "0cd94d252738444980ca6fa7695600cc",
            "b68fc5b56425403bb7e48a441662a7fd",
            "5c6b8825e07e424c9bd3105a7df774b0",
            "4aa195381bd84da0a185737835fa684b",
            "d8d0df8b90914d76ad73305f532a408c",
            "e0543e03c4ca4e14961f1824d5ea21dc",
            "c68611e21d1b40338ab8eaf2fca25dd3"
          ]
        },
        "id": "20d5a3fd",
        "outputId": "d20d820b-3f1f-4cba-959b-988215510600"
      },
      "outputs": [
        {
          "output_type": "stream",
          "name": "stderr",
          "text": [
            "/usr/local/lib/python3.10/dist-packages/huggingface_hub/utils/_deprecation.py:100: FutureWarning: Deprecated argument(s) used in '__init__': max_seq_length, dataset_text_field. Will not be supported from version '1.0.0'.\n",
            "\n",
            "Deprecated positional argument(s) used in SFTTrainer, please use the SFTConfig to set these arguments instead.\n",
            "  warnings.warn(message, FutureWarning)\n",
            "/usr/local/lib/python3.10/dist-packages/trl/trainer/sft_trainer.py:283: UserWarning: You passed a `max_seq_length` argument to the SFTTrainer, the value you passed will override the one in the `SFTConfig`.\n",
            "  warnings.warn(\n",
            "/usr/local/lib/python3.10/dist-packages/trl/trainer/sft_trainer.py:321: UserWarning: You passed a `dataset_text_field` argument to the SFTTrainer, the value you passed will override the one in the `SFTConfig`.\n",
            "  warnings.warn(\n"
          ]
        },
        {
          "output_type": "display_data",
          "data": {
            "text/plain": [
              "Map:   0%|          | 0/4760 [00:00<?, ? examples/s]"
            ],
            "application/vnd.jupyter.widget-view+json": {
              "version_major": 2,
              "version_minor": 0,
              "model_id": "b9683e27898e4e09b26a5f8063be1d09"
            }
          },
          "metadata": {}
        }
      ],
      "source": [
        "# Setting sft parameters\n",
        "trainer = SFTTrainer(\n",
        "    model=model,\n",
        "    train_dataset=dataset,\n",
        "    peft_config=peft_config,\n",
        "    max_seq_length= 2048,\n",
        "    dataset_text_field=\"fine_tuning_prompt\",\n",
        "    tokenizer=tokenizer,\n",
        "    args=training_arguments,\n",
        "    packing= False,\n",
        ")"
      ]
    },
    {
      "cell_type": "code",
      "execution_count": null,
      "id": "dd005561",
      "metadata": {
        "execution": {
          "iopub.execute_input": "2023-12-07T10:32:19.964574Z",
          "iopub.status.busy": "2023-12-07T10:32:19.964282Z",
          "iopub.status.idle": "2023-12-07T12:10:41.981043Z",
          "shell.execute_reply": "2023-12-07T12:10:41.980123Z"
        },
        "papermill": {
          "duration": 5902.031185,
          "end_time": "2023-12-07T12:10:41.983120",
          "exception": false,
          "start_time": "2023-12-07T10:32:19.951935",
          "status": "completed"
        },
        "tags": [],
        "colab": {
          "base_uri": "https://localhost:8080/",
          "height": 1000
        },
        "id": "dd005561",
        "outputId": "e63ba764-00e7-4728-bf9e-b147bac97b4b"
      },
      "outputs": [
        {
          "output_type": "stream",
          "name": "stderr",
          "text": [
            "/usr/local/lib/python3.10/dist-packages/torch/_dynamo/eval_frame.py:600: UserWarning: torch.utils.checkpoint: the use_reentrant parameter should be passed explicitly. In version 2.4 we will raise an exception if use_reentrant is not passed. use_reentrant=False is recommended, but if you need to preserve the current default behavior, you can pass use_reentrant=True. Refer to docs for more details on the differences between the two variants.\n",
            "  return fn(*args, **kwargs)\n",
            "/usr/local/lib/python3.10/dist-packages/torch/utils/checkpoint.py:295: FutureWarning: `torch.cpu.amp.autocast(args...)` is deprecated. Please use `torch.amp.autocast('cpu', args...)` instead.\n",
            "  with torch.enable_grad(), device_autocast_ctx, torch.cpu.amp.autocast(**ctx.cpu_autocast_kwargs):  # type: ignore[attr-defined]\n"
          ]
        },
        {
          "output_type": "display_data",
          "data": {
            "text/plain": [
              "<IPython.core.display.HTML object>"
            ],
            "text/html": [
              "\n",
              "    <div>\n",
              "      \n",
              "      <progress value='340' max='340' style='width:300px; height:20px; vertical-align: middle;'></progress>\n",
              "      [340/340 2:12:17, Epoch 1/1]\n",
              "    </div>\n",
              "    <table border=\"1\" class=\"dataframe\">\n",
              "  <thead>\n",
              " <tr style=\"text-align: left;\">\n",
              "      <th>Step</th>\n",
              "      <th>Training Loss</th>\n",
              "    </tr>\n",
              "  </thead>\n",
              "  <tbody>\n",
              "    <tr>\n",
              "      <td>25</td>\n",
              "      <td>0.704200</td>\n",
              "    </tr>\n",
              "    <tr>\n",
              "      <td>50</td>\n",
              "      <td>0.420000</td>\n",
              "    </tr>\n",
              "    <tr>\n",
              "      <td>75</td>\n",
              "      <td>0.566900</td>\n",
              "    </tr>\n",
              "    <tr>\n",
              "      <td>100</td>\n",
              "      <td>0.410900</td>\n",
              "    </tr>\n",
              "    <tr>\n",
              "      <td>125</td>\n",
              "      <td>0.563300</td>\n",
              "    </tr>\n",
              "    <tr>\n",
              "      <td>150</td>\n",
              "      <td>0.398400</td>\n",
              "    </tr>\n",
              "    <tr>\n",
              "      <td>175</td>\n",
              "      <td>0.569900</td>\n",
              "    </tr>\n",
              "    <tr>\n",
              "      <td>200</td>\n",
              "      <td>0.408000</td>\n",
              "    </tr>\n",
              "    <tr>\n",
              "      <td>225</td>\n",
              "      <td>0.555200</td>\n",
              "    </tr>\n",
              "    <tr>\n",
              "      <td>250</td>\n",
              "      <td>0.403400</td>\n",
              "    </tr>\n",
              "    <tr>\n",
              "      <td>275</td>\n",
              "      <td>0.563000</td>\n",
              "    </tr>\n",
              "    <tr>\n",
              "      <td>300</td>\n",
              "      <td>0.395100</td>\n",
              "    </tr>\n",
              "    <tr>\n",
              "      <td>325</td>\n",
              "      <td>0.540000</td>\n",
              "    </tr>\n",
              "  </tbody>\n",
              "</table><p>"
            ]
          },
          "metadata": {}
        },
        {
          "output_type": "stream",
          "name": "stderr",
          "text": [
            "/usr/local/lib/python3.10/dist-packages/torch/_dynamo/eval_frame.py:600: UserWarning: torch.utils.checkpoint: the use_reentrant parameter should be passed explicitly. In version 2.4 we will raise an exception if use_reentrant is not passed. use_reentrant=False is recommended, but if you need to preserve the current default behavior, you can pass use_reentrant=True. Refer to docs for more details on the differences between the two variants.\n",
            "  return fn(*args, **kwargs)\n",
            "/usr/local/lib/python3.10/dist-packages/torch/utils/checkpoint.py:295: FutureWarning: `torch.cpu.amp.autocast(args...)` is deprecated. Please use `torch.amp.autocast('cpu', args...)` instead.\n",
            "  with torch.enable_grad(), device_autocast_ctx, torch.cpu.amp.autocast(**ctx.cpu_autocast_kwargs):  # type: ignore[attr-defined]\n",
            "/usr/local/lib/python3.10/dist-packages/torch/_dynamo/eval_frame.py:600: UserWarning: torch.utils.checkpoint: the use_reentrant parameter should be passed explicitly. In version 2.4 we will raise an exception if use_reentrant is not passed. use_reentrant=False is recommended, but if you need to preserve the current default behavior, you can pass use_reentrant=True. Refer to docs for more details on the differences between the two variants.\n",
            "  return fn(*args, **kwargs)\n",
            "/usr/local/lib/python3.10/dist-packages/torch/utils/checkpoint.py:295: FutureWarning: `torch.cpu.amp.autocast(args...)` is deprecated. Please use `torch.amp.autocast('cpu', args...)` instead.\n",
            "  with torch.enable_grad(), device_autocast_ctx, torch.cpu.amp.autocast(**ctx.cpu_autocast_kwargs):  # type: ignore[attr-defined]\n",
            "/usr/local/lib/python3.10/dist-packages/torch/_dynamo/eval_frame.py:600: UserWarning: torch.utils.checkpoint: the use_reentrant parameter should be passed explicitly. In version 2.4 we will raise an exception if use_reentrant is not passed. use_reentrant=False is recommended, but if you need to preserve the current default behavior, you can pass use_reentrant=True. Refer to docs for more details on the differences between the two variants.\n",
            "  return fn(*args, **kwargs)\n",
            "/usr/local/lib/python3.10/dist-packages/torch/utils/checkpoint.py:295: FutureWarning: `torch.cpu.amp.autocast(args...)` is deprecated. Please use `torch.amp.autocast('cpu', args...)` instead.\n",
            "  with torch.enable_grad(), device_autocast_ctx, torch.cpu.amp.autocast(**ctx.cpu_autocast_kwargs):  # type: ignore[attr-defined]\n",
            "/usr/local/lib/python3.10/dist-packages/torch/_dynamo/eval_frame.py:600: UserWarning: torch.utils.checkpoint: the use_reentrant parameter should be passed explicitly. In version 2.4 we will raise an exception if use_reentrant is not passed. use_reentrant=False is recommended, but if you need to preserve the current default behavior, you can pass use_reentrant=True. Refer to docs for more details on the differences between the two variants.\n",
            "  return fn(*args, **kwargs)\n",
            "/usr/local/lib/python3.10/dist-packages/torch/utils/checkpoint.py:295: FutureWarning: `torch.cpu.amp.autocast(args...)` is deprecated. Please use `torch.amp.autocast('cpu', args...)` instead.\n",
            "  with torch.enable_grad(), device_autocast_ctx, torch.cpu.amp.autocast(**ctx.cpu_autocast_kwargs):  # type: ignore[attr-defined]\n",
            "/usr/local/lib/python3.10/dist-packages/torch/_dynamo/eval_frame.py:600: UserWarning: torch.utils.checkpoint: the use_reentrant parameter should be passed explicitly. In version 2.4 we will raise an exception if use_reentrant is not passed. use_reentrant=False is recommended, but if you need to preserve the current default behavior, you can pass use_reentrant=True. Refer to docs for more details on the differences between the two variants.\n",
            "  return fn(*args, **kwargs)\n",
            "/usr/local/lib/python3.10/dist-packages/torch/utils/checkpoint.py:295: FutureWarning: `torch.cpu.amp.autocast(args...)` is deprecated. Please use `torch.amp.autocast('cpu', args...)` instead.\n",
            "  with torch.enable_grad(), device_autocast_ctx, torch.cpu.amp.autocast(**ctx.cpu_autocast_kwargs):  # type: ignore[attr-defined]\n",
            "/usr/local/lib/python3.10/dist-packages/torch/_dynamo/eval_frame.py:600: UserWarning: torch.utils.checkpoint: the use_reentrant parameter should be passed explicitly. In version 2.4 we will raise an exception if use_reentrant is not passed. use_reentrant=False is recommended, but if you need to preserve the current default behavior, you can pass use_reentrant=True. Refer to docs for more details on the differences between the two variants.\n",
            "  return fn(*args, **kwargs)\n",
            "/usr/local/lib/python3.10/dist-packages/torch/utils/checkpoint.py:295: FutureWarning: `torch.cpu.amp.autocast(args...)` is deprecated. Please use `torch.amp.autocast('cpu', args...)` instead.\n",
            "  with torch.enable_grad(), device_autocast_ctx, torch.cpu.amp.autocast(**ctx.cpu_autocast_kwargs):  # type: ignore[attr-defined]\n",
            "/usr/local/lib/python3.10/dist-packages/torch/_dynamo/eval_frame.py:600: UserWarning: torch.utils.checkpoint: the use_reentrant parameter should be passed explicitly. In version 2.4 we will raise an exception if use_reentrant is not passed. use_reentrant=False is recommended, but if you need to preserve the current default behavior, you can pass use_reentrant=True. Refer to docs for more details on the differences between the two variants.\n",
            "  return fn(*args, **kwargs)\n",
            "/usr/local/lib/python3.10/dist-packages/torch/utils/checkpoint.py:295: FutureWarning: `torch.cpu.amp.autocast(args...)` is deprecated. Please use `torch.amp.autocast('cpu', args...)` instead.\n",
            "  with torch.enable_grad(), device_autocast_ctx, torch.cpu.amp.autocast(**ctx.cpu_autocast_kwargs):  # type: ignore[attr-defined]\n",
            "/usr/local/lib/python3.10/dist-packages/torch/_dynamo/eval_frame.py:600: UserWarning: torch.utils.checkpoint: the use_reentrant parameter should be passed explicitly. In version 2.4 we will raise an exception if use_reentrant is not passed. use_reentrant=False is recommended, but if you need to preserve the current default behavior, you can pass use_reentrant=True. Refer to docs for more details on the differences between the two variants.\n",
            "  return fn(*args, **kwargs)\n",
            "/usr/local/lib/python3.10/dist-packages/torch/utils/checkpoint.py:295: FutureWarning: `torch.cpu.amp.autocast(args...)` is deprecated. Please use `torch.amp.autocast('cpu', args...)` instead.\n",
            "  with torch.enable_grad(), device_autocast_ctx, torch.cpu.amp.autocast(**ctx.cpu_autocast_kwargs):  # type: ignore[attr-defined]\n",
            "/usr/local/lib/python3.10/dist-packages/torch/_dynamo/eval_frame.py:600: UserWarning: torch.utils.checkpoint: the use_reentrant parameter should be passed explicitly. In version 2.4 we will raise an exception if use_reentrant is not passed. use_reentrant=False is recommended, but if you need to preserve the current default behavior, you can pass use_reentrant=True. Refer to docs for more details on the differences between the two variants.\n",
            "  return fn(*args, **kwargs)\n",
            "/usr/local/lib/python3.10/dist-packages/torch/utils/checkpoint.py:295: FutureWarning: `torch.cpu.amp.autocast(args...)` is deprecated. Please use `torch.amp.autocast('cpu', args...)` instead.\n",
            "  with torch.enable_grad(), device_autocast_ctx, torch.cpu.amp.autocast(**ctx.cpu_autocast_kwargs):  # type: ignore[attr-defined]\n",
            "/usr/local/lib/python3.10/dist-packages/torch/_dynamo/eval_frame.py:600: UserWarning: torch.utils.checkpoint: the use_reentrant parameter should be passed explicitly. In version 2.4 we will raise an exception if use_reentrant is not passed. use_reentrant=False is recommended, but if you need to preserve the current default behavior, you can pass use_reentrant=True. Refer to docs for more details on the differences between the two variants.\n",
            "  return fn(*args, **kwargs)\n",
            "/usr/local/lib/python3.10/dist-packages/torch/utils/checkpoint.py:295: FutureWarning: `torch.cpu.amp.autocast(args...)` is deprecated. Please use `torch.amp.autocast('cpu', args...)` instead.\n",
            "  with torch.enable_grad(), device_autocast_ctx, torch.cpu.amp.autocast(**ctx.cpu_autocast_kwargs):  # type: ignore[attr-defined]\n",
            "/usr/local/lib/python3.10/dist-packages/torch/_dynamo/eval_frame.py:600: UserWarning: torch.utils.checkpoint: the use_reentrant parameter should be passed explicitly. In version 2.4 we will raise an exception if use_reentrant is not passed. use_reentrant=False is recommended, but if you need to preserve the current default behavior, you can pass use_reentrant=True. Refer to docs for more details on the differences between the two variants.\n",
            "  return fn(*args, **kwargs)\n",
            "/usr/local/lib/python3.10/dist-packages/torch/utils/checkpoint.py:295: FutureWarning: `torch.cpu.amp.autocast(args...)` is deprecated. Please use `torch.amp.autocast('cpu', args...)` instead.\n",
            "  with torch.enable_grad(), device_autocast_ctx, torch.cpu.amp.autocast(**ctx.cpu_autocast_kwargs):  # type: ignore[attr-defined]\n",
            "/usr/local/lib/python3.10/dist-packages/torch/_dynamo/eval_frame.py:600: UserWarning: torch.utils.checkpoint: the use_reentrant parameter should be passed explicitly. In version 2.4 we will raise an exception if use_reentrant is not passed. use_reentrant=False is recommended, but if you need to preserve the current default behavior, you can pass use_reentrant=True. Refer to docs for more details on the differences between the two variants.\n",
            "  return fn(*args, **kwargs)\n",
            "/usr/local/lib/python3.10/dist-packages/torch/utils/checkpoint.py:295: FutureWarning: `torch.cpu.amp.autocast(args...)` is deprecated. Please use `torch.amp.autocast('cpu', args...)` instead.\n",
            "  with torch.enable_grad(), device_autocast_ctx, torch.cpu.amp.autocast(**ctx.cpu_autocast_kwargs):  # type: ignore[attr-defined]\n",
            "/usr/local/lib/python3.10/dist-packages/torch/_dynamo/eval_frame.py:600: UserWarning: torch.utils.checkpoint: the use_reentrant parameter should be passed explicitly. In version 2.4 we will raise an exception if use_reentrant is not passed. use_reentrant=False is recommended, but if you need to preserve the current default behavior, you can pass use_reentrant=True. Refer to docs for more details on the differences between the two variants.\n",
            "  return fn(*args, **kwargs)\n",
            "/usr/local/lib/python3.10/dist-packages/torch/utils/checkpoint.py:295: FutureWarning: `torch.cpu.amp.autocast(args...)` is deprecated. Please use `torch.amp.autocast('cpu', args...)` instead.\n",
            "  with torch.enable_grad(), device_autocast_ctx, torch.cpu.amp.autocast(**ctx.cpu_autocast_kwargs):  # type: ignore[attr-defined]\n"
          ]
        },
        {
          "output_type": "execute_result",
          "data": {
            "text/plain": [
              "TrainOutput(global_step=340, training_loss=0.49370190816767073, metrics={'train_runtime': 7972.7829, 'train_samples_per_second': 0.597, 'train_steps_per_second': 0.043, 'total_flos': 1.3470747123223757e+17, 'train_loss': 0.49370190816767073, 'epoch': 1.0})"
            ]
          },
          "metadata": {},
          "execution_count": 29
        }
      ],
      "source": [
        "trainer.train()"
      ]
    },
    {
      "cell_type": "code",
      "execution_count": null,
      "id": "5054063b",
      "metadata": {
        "execution": {
          "iopub.execute_input": "2023-12-07T12:10:42.009121Z",
          "iopub.status.busy": "2023-12-07T12:10:42.008006Z",
          "iopub.status.idle": "2023-12-07T12:10:47.882703Z",
          "shell.execute_reply": "2023-12-07T12:10:47.881830Z"
        },
        "id": "5054063b",
        "papermill": {
          "duration": 5.889376,
          "end_time": "2023-12-07T12:10:47.884650",
          "exception": false,
          "start_time": "2023-12-07T12:10:41.995274",
          "status": "completed"
        },
        "tags": [],
        "colab": {
          "base_uri": "https://localhost:8080/"
        },
        "outputId": "67d24d50-65cb-4eea-a2f7-bf890cb27f32"
      },
      "outputs": [
        {
          "output_type": "execute_result",
          "data": {
            "text/plain": [
              "PeftModelForCausalLM(\n",
              "  (base_model): LoraModel(\n",
              "    (model): MistralForCausalLM(\n",
              "      (model): MistralModel(\n",
              "        (embed_tokens): Embedding(32768, 4096)\n",
              "        (layers): ModuleList(\n",
              "          (0-31): 32 x MistralDecoderLayer(\n",
              "            (self_attn): MistralSdpaAttention(\n",
              "              (q_proj): Linear4bit(in_features=4096, out_features=4096, bias=False)\n",
              "              (k_proj): Linear4bit(in_features=4096, out_features=1024, bias=False)\n",
              "              (v_proj): Linear4bit(in_features=4096, out_features=1024, bias=False)\n",
              "              (o_proj): Linear4bit(in_features=4096, out_features=4096, bias=False)\n",
              "              (rotary_emb): MistralRotaryEmbedding()\n",
              "            )\n",
              "            (mlp): MistralMLP(\n",
              "              (gate_proj): Linear4bit(in_features=4096, out_features=14336, bias=False)\n",
              "              (up_proj): lora.Linear4bit(\n",
              "                (base_layer): Linear4bit(in_features=4096, out_features=14336, bias=False)\n",
              "                (lora_dropout): ModuleDict(\n",
              "                  (default): Dropout(p=0.1, inplace=False)\n",
              "                )\n",
              "                (lora_A): ModuleDict(\n",
              "                  (default): Linear(in_features=4096, out_features=64, bias=False)\n",
              "                )\n",
              "                (lora_B): ModuleDict(\n",
              "                  (default): Linear(in_features=64, out_features=14336, bias=False)\n",
              "                )\n",
              "                (lora_embedding_A): ParameterDict()\n",
              "                (lora_embedding_B): ParameterDict()\n",
              "                (lora_magnitude_vector): ModuleDict()\n",
              "              )\n",
              "              (down_proj): lora.Linear4bit(\n",
              "                (base_layer): Linear4bit(in_features=14336, out_features=4096, bias=False)\n",
              "                (lora_dropout): ModuleDict(\n",
              "                  (default): Dropout(p=0.1, inplace=False)\n",
              "                )\n",
              "                (lora_A): ModuleDict(\n",
              "                  (default): Linear(in_features=14336, out_features=64, bias=False)\n",
              "                )\n",
              "                (lora_B): ModuleDict(\n",
              "                  (default): Linear(in_features=64, out_features=4096, bias=False)\n",
              "                )\n",
              "                (lora_embedding_A): ParameterDict()\n",
              "                (lora_embedding_B): ParameterDict()\n",
              "                (lora_magnitude_vector): ModuleDict()\n",
              "              )\n",
              "              (act_fn): SiLU()\n",
              "            )\n",
              "            (input_layernorm): MistralRMSNorm((4096,), eps=1e-05)\n",
              "            (post_attention_layernorm): MistralRMSNorm((4096,), eps=1e-05)\n",
              "          )\n",
              "        )\n",
              "        (norm): MistralRMSNorm((4096,), eps=1e-05)\n",
              "      )\n",
              "      (lm_head): Linear(in_features=4096, out_features=32768, bias=False)\n",
              "    )\n",
              "  )\n",
              ")"
            ]
          },
          "metadata": {},
          "execution_count": 30
        }
      ],
      "source": [
        "# Save the fine-tuned model\n",
        "trainer.model.save_pretrained(new_model)\n",
        "# wandb.finish()\n",
        "model.config.use_cache = True\n",
        "model.eval()"
      ]
    },
    {
      "cell_type": "code",
      "execution_count": null,
      "id": "c8845ab8",
      "metadata": {
        "execution": {
          "iopub.execute_input": "2023-12-07T12:10:47.910724Z",
          "iopub.status.busy": "2023-12-07T12:10:47.910412Z",
          "iopub.status.idle": "2023-12-07T12:11:03.893987Z",
          "shell.execute_reply": "2023-12-07T12:11:03.893093Z"
        },
        "papermill": {
          "duration": 15.998893,
          "end_time": "2023-12-07T12:11:03.896126",
          "exception": false,
          "start_time": "2023-12-07T12:10:47.897233",
          "status": "completed"
        },
        "tags": [],
        "id": "c8845ab8",
        "colab": {
          "base_uri": "https://localhost:8080/",
          "height": 88,
          "referenced_widgets": [
            "9e89fb72471c466c94da584900f705a5",
            "96d070f281d447ad89509d0f86a5e496",
            "c649ae8494d14c40a39b1b7ed9c99ff5",
            "7a54e105fb104c189209181c6035a73e",
            "31b590fb936d4681a9123fdea6a165fe",
            "5c017e4c63504cd5a4578c04cae70a5a",
            "b9a453fb1d0a4a7a85a280ebfe6fc929",
            "4fdcce181df84fe6a44e0ac487da3051",
            "6322bc7bfc3c4d929af1d5b224fd009f",
            "fd8854700e38431aa56d4294b7d5cdd4",
            "39b3969b0ecf40b7b9e7b107c006a995"
          ]
        },
        "outputId": "4356ee56-58f3-45c1-b519-2a816eefb374"
      },
      "outputs": [
        {
          "output_type": "display_data",
          "data": {
            "text/plain": [
              "adapter_model.safetensors:   0%|          | 0.00/302M [00:00<?, ?B/s]"
            ],
            "application/vnd.jupyter.widget-view+json": {
              "version_major": 2,
              "version_minor": 0,
              "model_id": "9e89fb72471c466c94da584900f705a5"
            }
          },
          "metadata": {}
        },
        {
          "output_type": "execute_result",
          "data": {
            "text/plain": [
              "CommitInfo(commit_url='https://huggingface.co/vincenzodeleo/Mistral-7B-Instruct-v0.3-SDG-classification-finetuned-FULL/commit/b4770203a3a941e4188e20ab1d3d2716d5557ef3', commit_message='Upload model', commit_description='', oid='b4770203a3a941e4188e20ab1d3d2716d5557ef3', pr_url=None, pr_revision=None, pr_num=None)"
            ],
            "application/vnd.google.colaboratory.intrinsic+json": {
              "type": "string"
            }
          },
          "metadata": {},
          "execution_count": 31
        }
      ],
      "source": [
        "trainer.model.push_to_hub(new_model, use_temp_dir=False)"
      ]
    },
    {
      "cell_type": "code",
      "execution_count": null,
      "id": "e2161251",
      "metadata": {
        "execution": {
          "iopub.execute_input": "2023-12-07T12:11:03.923302Z",
          "iopub.status.busy": "2023-12-07T12:11:03.922706Z",
          "iopub.status.idle": "2023-12-07T12:11:19.275610Z",
          "shell.execute_reply": "2023-12-07T12:11:19.274467Z"
        },
        "id": "e2161251",
        "papermill": {
          "duration": 15.368621,
          "end_time": "2023-12-07T12:11:19.277711",
          "exception": false,
          "start_time": "2023-12-07T12:11:03.909090",
          "status": "completed"
        },
        "tags": []
      },
      "outputs": [],
      "source": [
        "# logging.set_verbosity(logging.CRITICAL)\n",
        "\n",
        "# prompt = \"How to use Python online with DataCamp?\"\n",
        "# pipe = pipeline(task=\"text-generation\", model=model, tokenizer=tokenizer, max_length=200)\n",
        "# result = pipe(prompt)\n",
        "# print(result[0]['generated_text'])"
      ]
    },
    {
      "cell_type": "code",
      "execution_count": null,
      "id": "1d04808a",
      "metadata": {
        "execution": {
          "iopub.execute_input": "2023-12-07T12:11:19.304830Z",
          "iopub.status.busy": "2023-12-07T12:11:19.304513Z",
          "iopub.status.idle": "2023-12-07T12:11:33.366087Z",
          "shell.execute_reply": "2023-12-07T12:11:33.365121Z"
        },
        "papermill": {
          "duration": 14.077491,
          "end_time": "2023-12-07T12:11:33.368259",
          "exception": false,
          "start_time": "2023-12-07T12:11:19.290768",
          "status": "completed"
        },
        "tags": [],
        "id": "1d04808a"
      },
      "outputs": [],
      "source": [
        "# prompt = \"What is Datacamp Career track?\"\n",
        "# result = pipe(prompt)\n",
        "# print(result[0]['generated_text'])"
      ]
    },
    {
      "cell_type": "code",
      "source": [],
      "metadata": {
        "id": "-v5JQ_xLibkN"
      },
      "id": "-v5JQ_xLibkN",
      "execution_count": null,
      "outputs": []
    }
  ],
  "metadata": {
    "kaggle": {
      "accelerator": "gpu",
      "dataSources": [],
      "dockerImageVersionId": 30559,
      "isGpuEnabled": true,
      "isInternetEnabled": true,
      "language": "python",
      "sourceType": "notebook"
    },
    "kernelspec": {
      "display_name": "Python 3",
      "name": "python3"
    },
    "language_info": {
      "codemirror_mode": {
        "name": "ipython",
        "version": 3
      },
      "file_extension": ".py",
      "mimetype": "text/x-python",
      "name": "python",
      "nbconvert_exporter": "python",
      "pygments_lexer": "ipython3",
      "version": "3.10.12"
    },
    "papermill": {
      "default_parameters": {},
      "duration": 6212.204373,
      "end_time": "2023-12-07T12:11:36.804994",
      "environment_variables": {},
      "exception": null,
      "input_path": "__notebook__.ipynb",
      "output_path": "__notebook__.ipynb",
      "parameters": {},
      "start_time": "2023-12-07T10:28:04.600621",
      "version": "2.4.0"
    },
    "widgets": {
      "application/vnd.jupyter.widget-state+json": {
        "56eca3bdb06349f19fd9688696f4f3c8": {
          "model_module": "@jupyter-widgets/controls",
          "model_name": "HBoxModel",
          "model_module_version": "1.5.0",
          "state": {
            "_dom_classes": [],
            "_model_module": "@jupyter-widgets/controls",
            "_model_module_version": "1.5.0",
            "_model_name": "HBoxModel",
            "_view_count": null,
            "_view_module": "@jupyter-widgets/controls",
            "_view_module_version": "1.5.0",
            "_view_name": "HBoxView",
            "box_style": "",
            "children": [
              "IPY_MODEL_f8b6048ddb7a4109ad892dbbac688ca5",
              "IPY_MODEL_05a82c0ff76a436e88f5c6f91beeb7a0",
              "IPY_MODEL_b8885a1fa3314c858415b634db420145"
            ],
            "layout": "IPY_MODEL_3509096332d7402c8e551133fefd6e10"
          }
        },
        "f8b6048ddb7a4109ad892dbbac688ca5": {
          "model_module": "@jupyter-widgets/controls",
          "model_name": "HTMLModel",
          "model_module_version": "1.5.0",
          "state": {
            "_dom_classes": [],
            "_model_module": "@jupyter-widgets/controls",
            "_model_module_version": "1.5.0",
            "_model_name": "HTMLModel",
            "_view_count": null,
            "_view_module": "@jupyter-widgets/controls",
            "_view_module_version": "1.5.0",
            "_view_name": "HTMLView",
            "description": "",
            "description_tooltip": null,
            "layout": "IPY_MODEL_3abb78c09e8c4b42b19bc6a2ec2081ba",
            "placeholder": "​",
            "style": "IPY_MODEL_5b3a77a417f2498380b780a563de8561",
            "value": "Loading checkpoint shards: 100%"
          }
        },
        "05a82c0ff76a436e88f5c6f91beeb7a0": {
          "model_module": "@jupyter-widgets/controls",
          "model_name": "FloatProgressModel",
          "model_module_version": "1.5.0",
          "state": {
            "_dom_classes": [],
            "_model_module": "@jupyter-widgets/controls",
            "_model_module_version": "1.5.0",
            "_model_name": "FloatProgressModel",
            "_view_count": null,
            "_view_module": "@jupyter-widgets/controls",
            "_view_module_version": "1.5.0",
            "_view_name": "ProgressView",
            "bar_style": "success",
            "description": "",
            "description_tooltip": null,
            "layout": "IPY_MODEL_02be9f9dea9046c681fd4a991a0dee4e",
            "max": 3,
            "min": 0,
            "orientation": "horizontal",
            "style": "IPY_MODEL_45b6a6c0b49848c5b9a7412bffb4d87d",
            "value": 3
          }
        },
        "b8885a1fa3314c858415b634db420145": {
          "model_module": "@jupyter-widgets/controls",
          "model_name": "HTMLModel",
          "model_module_version": "1.5.0",
          "state": {
            "_dom_classes": [],
            "_model_module": "@jupyter-widgets/controls",
            "_model_module_version": "1.5.0",
            "_model_name": "HTMLModel",
            "_view_count": null,
            "_view_module": "@jupyter-widgets/controls",
            "_view_module_version": "1.5.0",
            "_view_name": "HTMLView",
            "description": "",
            "description_tooltip": null,
            "layout": "IPY_MODEL_76eaf99f9bed48bfb9c066d1c74401bc",
            "placeholder": "​",
            "style": "IPY_MODEL_4fd4d1e8aff645c682d5186aef2be793",
            "value": " 3/3 [00:06&lt;00:00,  2.21s/it]"
          }
        },
        "3509096332d7402c8e551133fefd6e10": {
          "model_module": "@jupyter-widgets/base",
          "model_name": "LayoutModel",
          "model_module_version": "1.2.0",
          "state": {
            "_model_module": "@jupyter-widgets/base",
            "_model_module_version": "1.2.0",
            "_model_name": "LayoutModel",
            "_view_count": null,
            "_view_module": "@jupyter-widgets/base",
            "_view_module_version": "1.2.0",
            "_view_name": "LayoutView",
            "align_content": null,
            "align_items": null,
            "align_self": null,
            "border": null,
            "bottom": null,
            "display": null,
            "flex": null,
            "flex_flow": null,
            "grid_area": null,
            "grid_auto_columns": null,
            "grid_auto_flow": null,
            "grid_auto_rows": null,
            "grid_column": null,
            "grid_gap": null,
            "grid_row": null,
            "grid_template_areas": null,
            "grid_template_columns": null,
            "grid_template_rows": null,
            "height": null,
            "justify_content": null,
            "justify_items": null,
            "left": null,
            "margin": null,
            "max_height": null,
            "max_width": null,
            "min_height": null,
            "min_width": null,
            "object_fit": null,
            "object_position": null,
            "order": null,
            "overflow": null,
            "overflow_x": null,
            "overflow_y": null,
            "padding": null,
            "right": null,
            "top": null,
            "visibility": null,
            "width": null
          }
        },
        "3abb78c09e8c4b42b19bc6a2ec2081ba": {
          "model_module": "@jupyter-widgets/base",
          "model_name": "LayoutModel",
          "model_module_version": "1.2.0",
          "state": {
            "_model_module": "@jupyter-widgets/base",
            "_model_module_version": "1.2.0",
            "_model_name": "LayoutModel",
            "_view_count": null,
            "_view_module": "@jupyter-widgets/base",
            "_view_module_version": "1.2.0",
            "_view_name": "LayoutView",
            "align_content": null,
            "align_items": null,
            "align_self": null,
            "border": null,
            "bottom": null,
            "display": null,
            "flex": null,
            "flex_flow": null,
            "grid_area": null,
            "grid_auto_columns": null,
            "grid_auto_flow": null,
            "grid_auto_rows": null,
            "grid_column": null,
            "grid_gap": null,
            "grid_row": null,
            "grid_template_areas": null,
            "grid_template_columns": null,
            "grid_template_rows": null,
            "height": null,
            "justify_content": null,
            "justify_items": null,
            "left": null,
            "margin": null,
            "max_height": null,
            "max_width": null,
            "min_height": null,
            "min_width": null,
            "object_fit": null,
            "object_position": null,
            "order": null,
            "overflow": null,
            "overflow_x": null,
            "overflow_y": null,
            "padding": null,
            "right": null,
            "top": null,
            "visibility": null,
            "width": null
          }
        },
        "5b3a77a417f2498380b780a563de8561": {
          "model_module": "@jupyter-widgets/controls",
          "model_name": "DescriptionStyleModel",
          "model_module_version": "1.5.0",
          "state": {
            "_model_module": "@jupyter-widgets/controls",
            "_model_module_version": "1.5.0",
            "_model_name": "DescriptionStyleModel",
            "_view_count": null,
            "_view_module": "@jupyter-widgets/base",
            "_view_module_version": "1.2.0",
            "_view_name": "StyleView",
            "description_width": ""
          }
        },
        "02be9f9dea9046c681fd4a991a0dee4e": {
          "model_module": "@jupyter-widgets/base",
          "model_name": "LayoutModel",
          "model_module_version": "1.2.0",
          "state": {
            "_model_module": "@jupyter-widgets/base",
            "_model_module_version": "1.2.0",
            "_model_name": "LayoutModel",
            "_view_count": null,
            "_view_module": "@jupyter-widgets/base",
            "_view_module_version": "1.2.0",
            "_view_name": "LayoutView",
            "align_content": null,
            "align_items": null,
            "align_self": null,
            "border": null,
            "bottom": null,
            "display": null,
            "flex": null,
            "flex_flow": null,
            "grid_area": null,
            "grid_auto_columns": null,
            "grid_auto_flow": null,
            "grid_auto_rows": null,
            "grid_column": null,
            "grid_gap": null,
            "grid_row": null,
            "grid_template_areas": null,
            "grid_template_columns": null,
            "grid_template_rows": null,
            "height": null,
            "justify_content": null,
            "justify_items": null,
            "left": null,
            "margin": null,
            "max_height": null,
            "max_width": null,
            "min_height": null,
            "min_width": null,
            "object_fit": null,
            "object_position": null,
            "order": null,
            "overflow": null,
            "overflow_x": null,
            "overflow_y": null,
            "padding": null,
            "right": null,
            "top": null,
            "visibility": null,
            "width": null
          }
        },
        "45b6a6c0b49848c5b9a7412bffb4d87d": {
          "model_module": "@jupyter-widgets/controls",
          "model_name": "ProgressStyleModel",
          "model_module_version": "1.5.0",
          "state": {
            "_model_module": "@jupyter-widgets/controls",
            "_model_module_version": "1.5.0",
            "_model_name": "ProgressStyleModel",
            "_view_count": null,
            "_view_module": "@jupyter-widgets/base",
            "_view_module_version": "1.2.0",
            "_view_name": "StyleView",
            "bar_color": null,
            "description_width": ""
          }
        },
        "76eaf99f9bed48bfb9c066d1c74401bc": {
          "model_module": "@jupyter-widgets/base",
          "model_name": "LayoutModel",
          "model_module_version": "1.2.0",
          "state": {
            "_model_module": "@jupyter-widgets/base",
            "_model_module_version": "1.2.0",
            "_model_name": "LayoutModel",
            "_view_count": null,
            "_view_module": "@jupyter-widgets/base",
            "_view_module_version": "1.2.0",
            "_view_name": "LayoutView",
            "align_content": null,
            "align_items": null,
            "align_self": null,
            "border": null,
            "bottom": null,
            "display": null,
            "flex": null,
            "flex_flow": null,
            "grid_area": null,
            "grid_auto_columns": null,
            "grid_auto_flow": null,
            "grid_auto_rows": null,
            "grid_column": null,
            "grid_gap": null,
            "grid_row": null,
            "grid_template_areas": null,
            "grid_template_columns": null,
            "grid_template_rows": null,
            "height": null,
            "justify_content": null,
            "justify_items": null,
            "left": null,
            "margin": null,
            "max_height": null,
            "max_width": null,
            "min_height": null,
            "min_width": null,
            "object_fit": null,
            "object_position": null,
            "order": null,
            "overflow": null,
            "overflow_x": null,
            "overflow_y": null,
            "padding": null,
            "right": null,
            "top": null,
            "visibility": null,
            "width": null
          }
        },
        "4fd4d1e8aff645c682d5186aef2be793": {
          "model_module": "@jupyter-widgets/controls",
          "model_name": "DescriptionStyleModel",
          "model_module_version": "1.5.0",
          "state": {
            "_model_module": "@jupyter-widgets/controls",
            "_model_module_version": "1.5.0",
            "_model_name": "DescriptionStyleModel",
            "_view_count": null,
            "_view_module": "@jupyter-widgets/base",
            "_view_module_version": "1.2.0",
            "_view_name": "StyleView",
            "description_width": ""
          }
        },
        "b9683e27898e4e09b26a5f8063be1d09": {
          "model_module": "@jupyter-widgets/controls",
          "model_name": "HBoxModel",
          "model_module_version": "1.5.0",
          "state": {
            "_dom_classes": [],
            "_model_module": "@jupyter-widgets/controls",
            "_model_module_version": "1.5.0",
            "_model_name": "HBoxModel",
            "_view_count": null,
            "_view_module": "@jupyter-widgets/controls",
            "_view_module_version": "1.5.0",
            "_view_name": "HBoxView",
            "box_style": "",
            "children": [
              "IPY_MODEL_bfbb818cdb784bc6ba05d7b8049fe658",
              "IPY_MODEL_ab29c61d168b47d393f355f71496cdc6",
              "IPY_MODEL_57a0d904e05e4c5ca5941e9c153d2068"
            ],
            "layout": "IPY_MODEL_0cd94d252738444980ca6fa7695600cc"
          }
        },
        "bfbb818cdb784bc6ba05d7b8049fe658": {
          "model_module": "@jupyter-widgets/controls",
          "model_name": "HTMLModel",
          "model_module_version": "1.5.0",
          "state": {
            "_dom_classes": [],
            "_model_module": "@jupyter-widgets/controls",
            "_model_module_version": "1.5.0",
            "_model_name": "HTMLModel",
            "_view_count": null,
            "_view_module": "@jupyter-widgets/controls",
            "_view_module_version": "1.5.0",
            "_view_name": "HTMLView",
            "description": "",
            "description_tooltip": null,
            "layout": "IPY_MODEL_b68fc5b56425403bb7e48a441662a7fd",
            "placeholder": "​",
            "style": "IPY_MODEL_5c6b8825e07e424c9bd3105a7df774b0",
            "value": "Map: 100%"
          }
        },
        "ab29c61d168b47d393f355f71496cdc6": {
          "model_module": "@jupyter-widgets/controls",
          "model_name": "FloatProgressModel",
          "model_module_version": "1.5.0",
          "state": {
            "_dom_classes": [],
            "_model_module": "@jupyter-widgets/controls",
            "_model_module_version": "1.5.0",
            "_model_name": "FloatProgressModel",
            "_view_count": null,
            "_view_module": "@jupyter-widgets/controls",
            "_view_module_version": "1.5.0",
            "_view_name": "ProgressView",
            "bar_style": "success",
            "description": "",
            "description_tooltip": null,
            "layout": "IPY_MODEL_4aa195381bd84da0a185737835fa684b",
            "max": 4760,
            "min": 0,
            "orientation": "horizontal",
            "style": "IPY_MODEL_d8d0df8b90914d76ad73305f532a408c",
            "value": 4760
          }
        },
        "57a0d904e05e4c5ca5941e9c153d2068": {
          "model_module": "@jupyter-widgets/controls",
          "model_name": "HTMLModel",
          "model_module_version": "1.5.0",
          "state": {
            "_dom_classes": [],
            "_model_module": "@jupyter-widgets/controls",
            "_model_module_version": "1.5.0",
            "_model_name": "HTMLModel",
            "_view_count": null,
            "_view_module": "@jupyter-widgets/controls",
            "_view_module_version": "1.5.0",
            "_view_name": "HTMLView",
            "description": "",
            "description_tooltip": null,
            "layout": "IPY_MODEL_e0543e03c4ca4e14961f1824d5ea21dc",
            "placeholder": "​",
            "style": "IPY_MODEL_c68611e21d1b40338ab8eaf2fca25dd3",
            "value": " 4760/4760 [00:02&lt;00:00, 2111.41 examples/s]"
          }
        },
        "0cd94d252738444980ca6fa7695600cc": {
          "model_module": "@jupyter-widgets/base",
          "model_name": "LayoutModel",
          "model_module_version": "1.2.0",
          "state": {
            "_model_module": "@jupyter-widgets/base",
            "_model_module_version": "1.2.0",
            "_model_name": "LayoutModel",
            "_view_count": null,
            "_view_module": "@jupyter-widgets/base",
            "_view_module_version": "1.2.0",
            "_view_name": "LayoutView",
            "align_content": null,
            "align_items": null,
            "align_self": null,
            "border": null,
            "bottom": null,
            "display": null,
            "flex": null,
            "flex_flow": null,
            "grid_area": null,
            "grid_auto_columns": null,
            "grid_auto_flow": null,
            "grid_auto_rows": null,
            "grid_column": null,
            "grid_gap": null,
            "grid_row": null,
            "grid_template_areas": null,
            "grid_template_columns": null,
            "grid_template_rows": null,
            "height": null,
            "justify_content": null,
            "justify_items": null,
            "left": null,
            "margin": null,
            "max_height": null,
            "max_width": null,
            "min_height": null,
            "min_width": null,
            "object_fit": null,
            "object_position": null,
            "order": null,
            "overflow": null,
            "overflow_x": null,
            "overflow_y": null,
            "padding": null,
            "right": null,
            "top": null,
            "visibility": null,
            "width": null
          }
        },
        "b68fc5b56425403bb7e48a441662a7fd": {
          "model_module": "@jupyter-widgets/base",
          "model_name": "LayoutModel",
          "model_module_version": "1.2.0",
          "state": {
            "_model_module": "@jupyter-widgets/base",
            "_model_module_version": "1.2.0",
            "_model_name": "LayoutModel",
            "_view_count": null,
            "_view_module": "@jupyter-widgets/base",
            "_view_module_version": "1.2.0",
            "_view_name": "LayoutView",
            "align_content": null,
            "align_items": null,
            "align_self": null,
            "border": null,
            "bottom": null,
            "display": null,
            "flex": null,
            "flex_flow": null,
            "grid_area": null,
            "grid_auto_columns": null,
            "grid_auto_flow": null,
            "grid_auto_rows": null,
            "grid_column": null,
            "grid_gap": null,
            "grid_row": null,
            "grid_template_areas": null,
            "grid_template_columns": null,
            "grid_template_rows": null,
            "height": null,
            "justify_content": null,
            "justify_items": null,
            "left": null,
            "margin": null,
            "max_height": null,
            "max_width": null,
            "min_height": null,
            "min_width": null,
            "object_fit": null,
            "object_position": null,
            "order": null,
            "overflow": null,
            "overflow_x": null,
            "overflow_y": null,
            "padding": null,
            "right": null,
            "top": null,
            "visibility": null,
            "width": null
          }
        },
        "5c6b8825e07e424c9bd3105a7df774b0": {
          "model_module": "@jupyter-widgets/controls",
          "model_name": "DescriptionStyleModel",
          "model_module_version": "1.5.0",
          "state": {
            "_model_module": "@jupyter-widgets/controls",
            "_model_module_version": "1.5.0",
            "_model_name": "DescriptionStyleModel",
            "_view_count": null,
            "_view_module": "@jupyter-widgets/base",
            "_view_module_version": "1.2.0",
            "_view_name": "StyleView",
            "description_width": ""
          }
        },
        "4aa195381bd84da0a185737835fa684b": {
          "model_module": "@jupyter-widgets/base",
          "model_name": "LayoutModel",
          "model_module_version": "1.2.0",
          "state": {
            "_model_module": "@jupyter-widgets/base",
            "_model_module_version": "1.2.0",
            "_model_name": "LayoutModel",
            "_view_count": null,
            "_view_module": "@jupyter-widgets/base",
            "_view_module_version": "1.2.0",
            "_view_name": "LayoutView",
            "align_content": null,
            "align_items": null,
            "align_self": null,
            "border": null,
            "bottom": null,
            "display": null,
            "flex": null,
            "flex_flow": null,
            "grid_area": null,
            "grid_auto_columns": null,
            "grid_auto_flow": null,
            "grid_auto_rows": null,
            "grid_column": null,
            "grid_gap": null,
            "grid_row": null,
            "grid_template_areas": null,
            "grid_template_columns": null,
            "grid_template_rows": null,
            "height": null,
            "justify_content": null,
            "justify_items": null,
            "left": null,
            "margin": null,
            "max_height": null,
            "max_width": null,
            "min_height": null,
            "min_width": null,
            "object_fit": null,
            "object_position": null,
            "order": null,
            "overflow": null,
            "overflow_x": null,
            "overflow_y": null,
            "padding": null,
            "right": null,
            "top": null,
            "visibility": null,
            "width": null
          }
        },
        "d8d0df8b90914d76ad73305f532a408c": {
          "model_module": "@jupyter-widgets/controls",
          "model_name": "ProgressStyleModel",
          "model_module_version": "1.5.0",
          "state": {
            "_model_module": "@jupyter-widgets/controls",
            "_model_module_version": "1.5.0",
            "_model_name": "ProgressStyleModel",
            "_view_count": null,
            "_view_module": "@jupyter-widgets/base",
            "_view_module_version": "1.2.0",
            "_view_name": "StyleView",
            "bar_color": null,
            "description_width": ""
          }
        },
        "e0543e03c4ca4e14961f1824d5ea21dc": {
          "model_module": "@jupyter-widgets/base",
          "model_name": "LayoutModel",
          "model_module_version": "1.2.0",
          "state": {
            "_model_module": "@jupyter-widgets/base",
            "_model_module_version": "1.2.0",
            "_model_name": "LayoutModel",
            "_view_count": null,
            "_view_module": "@jupyter-widgets/base",
            "_view_module_version": "1.2.0",
            "_view_name": "LayoutView",
            "align_content": null,
            "align_items": null,
            "align_self": null,
            "border": null,
            "bottom": null,
            "display": null,
            "flex": null,
            "flex_flow": null,
            "grid_area": null,
            "grid_auto_columns": null,
            "grid_auto_flow": null,
            "grid_auto_rows": null,
            "grid_column": null,
            "grid_gap": null,
            "grid_row": null,
            "grid_template_areas": null,
            "grid_template_columns": null,
            "grid_template_rows": null,
            "height": null,
            "justify_content": null,
            "justify_items": null,
            "left": null,
            "margin": null,
            "max_height": null,
            "max_width": null,
            "min_height": null,
            "min_width": null,
            "object_fit": null,
            "object_position": null,
            "order": null,
            "overflow": null,
            "overflow_x": null,
            "overflow_y": null,
            "padding": null,
            "right": null,
            "top": null,
            "visibility": null,
            "width": null
          }
        },
        "c68611e21d1b40338ab8eaf2fca25dd3": {
          "model_module": "@jupyter-widgets/controls",
          "model_name": "DescriptionStyleModel",
          "model_module_version": "1.5.0",
          "state": {
            "_model_module": "@jupyter-widgets/controls",
            "_model_module_version": "1.5.0",
            "_model_name": "DescriptionStyleModel",
            "_view_count": null,
            "_view_module": "@jupyter-widgets/base",
            "_view_module_version": "1.2.0",
            "_view_name": "StyleView",
            "description_width": ""
          }
        },
        "9e89fb72471c466c94da584900f705a5": {
          "model_module": "@jupyter-widgets/controls",
          "model_name": "HBoxModel",
          "model_module_version": "1.5.0",
          "state": {
            "_dom_classes": [],
            "_model_module": "@jupyter-widgets/controls",
            "_model_module_version": "1.5.0",
            "_model_name": "HBoxModel",
            "_view_count": null,
            "_view_module": "@jupyter-widgets/controls",
            "_view_module_version": "1.5.0",
            "_view_name": "HBoxView",
            "box_style": "",
            "children": [
              "IPY_MODEL_96d070f281d447ad89509d0f86a5e496",
              "IPY_MODEL_c649ae8494d14c40a39b1b7ed9c99ff5",
              "IPY_MODEL_7a54e105fb104c189209181c6035a73e"
            ],
            "layout": "IPY_MODEL_31b590fb936d4681a9123fdea6a165fe"
          }
        },
        "96d070f281d447ad89509d0f86a5e496": {
          "model_module": "@jupyter-widgets/controls",
          "model_name": "HTMLModel",
          "model_module_version": "1.5.0",
          "state": {
            "_dom_classes": [],
            "_model_module": "@jupyter-widgets/controls",
            "_model_module_version": "1.5.0",
            "_model_name": "HTMLModel",
            "_view_count": null,
            "_view_module": "@jupyter-widgets/controls",
            "_view_module_version": "1.5.0",
            "_view_name": "HTMLView",
            "description": "",
            "description_tooltip": null,
            "layout": "IPY_MODEL_5c017e4c63504cd5a4578c04cae70a5a",
            "placeholder": "​",
            "style": "IPY_MODEL_b9a453fb1d0a4a7a85a280ebfe6fc929",
            "value": "adapter_model.safetensors: 100%"
          }
        },
        "c649ae8494d14c40a39b1b7ed9c99ff5": {
          "model_module": "@jupyter-widgets/controls",
          "model_name": "FloatProgressModel",
          "model_module_version": "1.5.0",
          "state": {
            "_dom_classes": [],
            "_model_module": "@jupyter-widgets/controls",
            "_model_module_version": "1.5.0",
            "_model_name": "FloatProgressModel",
            "_view_count": null,
            "_view_module": "@jupyter-widgets/controls",
            "_view_module_version": "1.5.0",
            "_view_name": "ProgressView",
            "bar_style": "success",
            "description": "",
            "description_tooltip": null,
            "layout": "IPY_MODEL_4fdcce181df84fe6a44e0ac487da3051",
            "max": 302006880,
            "min": 0,
            "orientation": "horizontal",
            "style": "IPY_MODEL_6322bc7bfc3c4d929af1d5b224fd009f",
            "value": 302006880
          }
        },
        "7a54e105fb104c189209181c6035a73e": {
          "model_module": "@jupyter-widgets/controls",
          "model_name": "HTMLModel",
          "model_module_version": "1.5.0",
          "state": {
            "_dom_classes": [],
            "_model_module": "@jupyter-widgets/controls",
            "_model_module_version": "1.5.0",
            "_model_name": "HTMLModel",
            "_view_count": null,
            "_view_module": "@jupyter-widgets/controls",
            "_view_module_version": "1.5.0",
            "_view_name": "HTMLView",
            "description": "",
            "description_tooltip": null,
            "layout": "IPY_MODEL_fd8854700e38431aa56d4294b7d5cdd4",
            "placeholder": "​",
            "style": "IPY_MODEL_39b3969b0ecf40b7b9e7b107c006a995",
            "value": " 302M/302M [00:29&lt;00:00, 7.29MB/s]"
          }
        },
        "31b590fb936d4681a9123fdea6a165fe": {
          "model_module": "@jupyter-widgets/base",
          "model_name": "LayoutModel",
          "model_module_version": "1.2.0",
          "state": {
            "_model_module": "@jupyter-widgets/base",
            "_model_module_version": "1.2.0",
            "_model_name": "LayoutModel",
            "_view_count": null,
            "_view_module": "@jupyter-widgets/base",
            "_view_module_version": "1.2.0",
            "_view_name": "LayoutView",
            "align_content": null,
            "align_items": null,
            "align_self": null,
            "border": null,
            "bottom": null,
            "display": null,
            "flex": null,
            "flex_flow": null,
            "grid_area": null,
            "grid_auto_columns": null,
            "grid_auto_flow": null,
            "grid_auto_rows": null,
            "grid_column": null,
            "grid_gap": null,
            "grid_row": null,
            "grid_template_areas": null,
            "grid_template_columns": null,
            "grid_template_rows": null,
            "height": null,
            "justify_content": null,
            "justify_items": null,
            "left": null,
            "margin": null,
            "max_height": null,
            "max_width": null,
            "min_height": null,
            "min_width": null,
            "object_fit": null,
            "object_position": null,
            "order": null,
            "overflow": null,
            "overflow_x": null,
            "overflow_y": null,
            "padding": null,
            "right": null,
            "top": null,
            "visibility": null,
            "width": null
          }
        },
        "5c017e4c63504cd5a4578c04cae70a5a": {
          "model_module": "@jupyter-widgets/base",
          "model_name": "LayoutModel",
          "model_module_version": "1.2.0",
          "state": {
            "_model_module": "@jupyter-widgets/base",
            "_model_module_version": "1.2.0",
            "_model_name": "LayoutModel",
            "_view_count": null,
            "_view_module": "@jupyter-widgets/base",
            "_view_module_version": "1.2.0",
            "_view_name": "LayoutView",
            "align_content": null,
            "align_items": null,
            "align_self": null,
            "border": null,
            "bottom": null,
            "display": null,
            "flex": null,
            "flex_flow": null,
            "grid_area": null,
            "grid_auto_columns": null,
            "grid_auto_flow": null,
            "grid_auto_rows": null,
            "grid_column": null,
            "grid_gap": null,
            "grid_row": null,
            "grid_template_areas": null,
            "grid_template_columns": null,
            "grid_template_rows": null,
            "height": null,
            "justify_content": null,
            "justify_items": null,
            "left": null,
            "margin": null,
            "max_height": null,
            "max_width": null,
            "min_height": null,
            "min_width": null,
            "object_fit": null,
            "object_position": null,
            "order": null,
            "overflow": null,
            "overflow_x": null,
            "overflow_y": null,
            "padding": null,
            "right": null,
            "top": null,
            "visibility": null,
            "width": null
          }
        },
        "b9a453fb1d0a4a7a85a280ebfe6fc929": {
          "model_module": "@jupyter-widgets/controls",
          "model_name": "DescriptionStyleModel",
          "model_module_version": "1.5.0",
          "state": {
            "_model_module": "@jupyter-widgets/controls",
            "_model_module_version": "1.5.0",
            "_model_name": "DescriptionStyleModel",
            "_view_count": null,
            "_view_module": "@jupyter-widgets/base",
            "_view_module_version": "1.2.0",
            "_view_name": "StyleView",
            "description_width": ""
          }
        },
        "4fdcce181df84fe6a44e0ac487da3051": {
          "model_module": "@jupyter-widgets/base",
          "model_name": "LayoutModel",
          "model_module_version": "1.2.0",
          "state": {
            "_model_module": "@jupyter-widgets/base",
            "_model_module_version": "1.2.0",
            "_model_name": "LayoutModel",
            "_view_count": null,
            "_view_module": "@jupyter-widgets/base",
            "_view_module_version": "1.2.0",
            "_view_name": "LayoutView",
            "align_content": null,
            "align_items": null,
            "align_self": null,
            "border": null,
            "bottom": null,
            "display": null,
            "flex": null,
            "flex_flow": null,
            "grid_area": null,
            "grid_auto_columns": null,
            "grid_auto_flow": null,
            "grid_auto_rows": null,
            "grid_column": null,
            "grid_gap": null,
            "grid_row": null,
            "grid_template_areas": null,
            "grid_template_columns": null,
            "grid_template_rows": null,
            "height": null,
            "justify_content": null,
            "justify_items": null,
            "left": null,
            "margin": null,
            "max_height": null,
            "max_width": null,
            "min_height": null,
            "min_width": null,
            "object_fit": null,
            "object_position": null,
            "order": null,
            "overflow": null,
            "overflow_x": null,
            "overflow_y": null,
            "padding": null,
            "right": null,
            "top": null,
            "visibility": null,
            "width": null
          }
        },
        "6322bc7bfc3c4d929af1d5b224fd009f": {
          "model_module": "@jupyter-widgets/controls",
          "model_name": "ProgressStyleModel",
          "model_module_version": "1.5.0",
          "state": {
            "_model_module": "@jupyter-widgets/controls",
            "_model_module_version": "1.5.0",
            "_model_name": "ProgressStyleModel",
            "_view_count": null,
            "_view_module": "@jupyter-widgets/base",
            "_view_module_version": "1.2.0",
            "_view_name": "StyleView",
            "bar_color": null,
            "description_width": ""
          }
        },
        "fd8854700e38431aa56d4294b7d5cdd4": {
          "model_module": "@jupyter-widgets/base",
          "model_name": "LayoutModel",
          "model_module_version": "1.2.0",
          "state": {
            "_model_module": "@jupyter-widgets/base",
            "_model_module_version": "1.2.0",
            "_model_name": "LayoutModel",
            "_view_count": null,
            "_view_module": "@jupyter-widgets/base",
            "_view_module_version": "1.2.0",
            "_view_name": "LayoutView",
            "align_content": null,
            "align_items": null,
            "align_self": null,
            "border": null,
            "bottom": null,
            "display": null,
            "flex": null,
            "flex_flow": null,
            "grid_area": null,
            "grid_auto_columns": null,
            "grid_auto_flow": null,
            "grid_auto_rows": null,
            "grid_column": null,
            "grid_gap": null,
            "grid_row": null,
            "grid_template_areas": null,
            "grid_template_columns": null,
            "grid_template_rows": null,
            "height": null,
            "justify_content": null,
            "justify_items": null,
            "left": null,
            "margin": null,
            "max_height": null,
            "max_width": null,
            "min_height": null,
            "min_width": null,
            "object_fit": null,
            "object_position": null,
            "order": null,
            "overflow": null,
            "overflow_x": null,
            "overflow_y": null,
            "padding": null,
            "right": null,
            "top": null,
            "visibility": null,
            "width": null
          }
        },
        "39b3969b0ecf40b7b9e7b107c006a995": {
          "model_module": "@jupyter-widgets/controls",
          "model_name": "DescriptionStyleModel",
          "model_module_version": "1.5.0",
          "state": {
            "_model_module": "@jupyter-widgets/controls",
            "_model_module_version": "1.5.0",
            "_model_name": "DescriptionStyleModel",
            "_view_count": null,
            "_view_module": "@jupyter-widgets/base",
            "_view_module_version": "1.2.0",
            "_view_name": "StyleView",
            "description_width": ""
          }
        }
      }
    },
    "colab": {
      "provenance": [],
      "machine_shape": "hm",
      "gpuType": "A100"
    },
    "accelerator": "GPU"
  },
  "nbformat": 4,
  "nbformat_minor": 5
}